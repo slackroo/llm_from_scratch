{
 "cells": [
  {
   "cell_type": "code",
   "id": "initial_id",
   "metadata": {
    "ExecuteTime": {
     "end_time": "2025-08-31T16:38:53.736672Z",
     "start_time": "2025-08-31T16:38:52.476395Z"
    }
   },
   "source": [
    "import torch\n",
    "\n",
    "from gpt_helpers import GPTModel\n",
    "\n",
    "GPT_CONFIG_124M = {\n",
    "    'vocab_size': 50257,  # vocab size\n",
    "    'context_length': 256,  # context length\n",
    "    'emb_dim': 768,  # embedding dimension\n",
    "    'n_layers': 12,  # number of transformer blocks\n",
    "    'n_heads': 12,  # number of attention heads\n",
    "    'drop_rate': 0.1,  # dropout rate\n",
    "    'qkv_bias': False,  # whether to use bias in the query, key, and value weights\n",
    "}\n",
    "\n",
    "model = GPTModel(GPT_CONFIG_124M)"
   ],
   "outputs": [],
   "execution_count": 3
  },
  {
   "metadata": {
    "ExecuteTime": {
     "end_time": "2025-08-31T16:41:36.490709Z",
     "start_time": "2025-08-31T16:41:35.006813Z"
    }
   },
   "cell_type": "code",
   "source": [
    "import torch\n",
    "device = torch.device(\"cuda\" if torch.cuda.is_available() else \"cpu\")\n",
    "model.load_state_dict(torch.load('model_weights.pth', map_location=device))"
   ],
   "id": "8fe057f3cc4be6b9",
   "outputs": [
    {
     "data": {
      "text/plain": [
       "<All keys matched successfully>"
      ]
     },
     "execution_count": 4,
     "metadata": {},
     "output_type": "execute_result"
    }
   ],
   "execution_count": 4
  },
  {
   "metadata": {},
   "cell_type": "code",
   "outputs": [],
   "execution_count": null,
   "source": "",
   "id": "4818ffcd423cd1b5"
  }
 ],
 "metadata": {
  "kernelspec": {
   "display_name": "Python 3",
   "language": "python",
   "name": "python3"
  },
  "language_info": {
   "codemirror_mode": {
    "name": "ipython",
    "version": 2
   },
   "file_extension": ".py",
   "mimetype": "text/x-python",
   "name": "python",
   "nbconvert_exporter": "python",
   "pygments_lexer": "ipython2",
   "version": "2.7.6"
  }
 },
 "nbformat": 4,
 "nbformat_minor": 5
}
