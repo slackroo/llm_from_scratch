{
 "cells": [
  {
   "cell_type": "code",
   "id": "initial_id",
   "metadata": {
    "collapsed": true,
    "ExecuteTime": {
     "end_time": "2025-07-29T05:40:28.875460Z",
     "start_time": "2025-07-29T05:40:28.452548Z"
    }
   },
   "source": [
    "import urllib.request\n",
    "url = (\"https://raw.githubusercontent.com/rasbt/\"\n",
    "\"LLMs-from-scratch/main/ch02/01_main-chapter-code/\"\n",
    "       \"the-verdict.txt\")\n",
    "file_path = \"docs/the-verdict.txt\"\n",
    "urllib.request.urlretrieve(url, file_path)"
   ],
   "outputs": [
    {
     "data": {
      "text/plain": [
       "('docs/the-verdict.txt', <http.client.HTTPMessage at 0x105ca34d0>)"
      ]
     },
     "execution_count": 1,
     "metadata": {},
     "output_type": "execute_result"
    }
   ],
   "execution_count": 1
  },
  {
   "metadata": {
    "ExecuteTime": {
     "end_time": "2025-07-29T05:40:28.910375Z",
     "start_time": "2025-07-29T05:40:28.905325Z"
    }
   },
   "cell_type": "code",
   "source": [
    "with open(file_path, \"r\", encoding='utf-8') as f:\n",
    "    raw_text = f.read()\n",
    "print(f\"Total number of characters: {len(raw_text)}\")\n",
    "print( raw_text[:100])"
   ],
   "id": "22b0cb94029327e8",
   "outputs": [
    {
     "name": "stdout",
     "output_type": "stream",
     "text": [
      "Total number of characters: 20479\n",
      "I HAD always thought Jack Gisburn rather a cheap genius--though a good fellow enough--so it was no g\n"
     ]
    }
   ],
   "execution_count": 2
  },
  {
   "metadata": {
    "ExecuteTime": {
     "end_time": "2025-07-29T05:40:29.182876Z",
     "start_time": "2025-07-29T05:40:29.177243Z"
    }
   },
   "cell_type": "code",
   "source": [
    "import re\n",
    "\n",
    "text = \"Hello, world. This is a test.\"\n",
    "result = re.split(r'(\\s)', text)\n",
    "result\n"
   ],
   "id": "31624cc0a2cbd007",
   "outputs": [
    {
     "data": {
      "text/plain": [
       "['Hello,', ' ', 'world.', ' ', 'This', ' ', 'is', ' ', 'a', ' ', 'test.']"
      ]
     },
     "execution_count": 3,
     "metadata": {},
     "output_type": "execute_result"
    }
   ],
   "execution_count": 3
  },
  {
   "metadata": {
    "ExecuteTime": {
     "end_time": "2025-07-29T05:40:29.219289Z",
     "start_time": "2025-07-29T05:40:29.215506Z"
    }
   },
   "cell_type": "code",
   "source": [
    "result = re.split(r'([,.!]|\\s)',text)\n",
    "print(result)"
   ],
   "id": "f52b8378b130f5e1",
   "outputs": [
    {
     "name": "stdout",
     "output_type": "stream",
     "text": [
      "['Hello', ',', '', ' ', 'world', '.', '', ' ', 'This', ' ', 'is', ' ', 'a', ' ', 'test', '.', '']\n"
     ]
    }
   ],
   "execution_count": 4
  },
  {
   "metadata": {
    "ExecuteTime": {
     "end_time": "2025-07-29T05:40:29.279589Z",
     "start_time": "2025-07-29T05:40:29.275005Z"
    }
   },
   "cell_type": "code",
   "source": [
    "result = [item for item in result if item.strip()]\n",
    "print(result)"
   ],
   "id": "a2d1c339f2836de7",
   "outputs": [
    {
     "name": "stdout",
     "output_type": "stream",
     "text": [
      "['Hello', ',', 'world', '.', 'This', 'is', 'a', 'test', '.']\n"
     ]
    }
   ],
   "execution_count": 5
  },
  {
   "metadata": {
    "ExecuteTime": {
     "end_time": "2025-07-29T05:40:29.347550Z",
     "start_time": "2025-07-29T05:40:29.342429Z"
    }
   },
   "cell_type": "code",
   "source": [
    "text = 'Hello, world. This is a-- test?'\n",
    "result = re.split(r'([,.:;?_\"()\\']|--|\\s)', text)\n",
    "result = [i.strip() for i in result if i.strip()]\n",
    "print(result)"
   ],
   "id": "99daffcbd7e5d9d",
   "outputs": [
    {
     "name": "stdout",
     "output_type": "stream",
     "text": [
      "['Hello', ',', 'world', '.', 'This', 'is', 'a', '--', 'test', '?']\n"
     ]
    }
   ],
   "execution_count": 6
  },
  {
   "metadata": {},
   "cell_type": "markdown",
   "source": "Now that we have a basic tokenizer working, let’s apply it to Edith Wharton’s Verdicts entire short story:\n",
   "id": "df8d048201174f0"
  },
  {
   "metadata": {
    "ExecuteTime": {
     "end_time": "2025-07-29T05:40:29.456906Z",
     "start_time": "2025-07-29T05:40:29.448321Z"
    }
   },
   "cell_type": "code",
   "source": [
    "preprocessed = re.split(r'([,.:;?_!\"()\\']|--|\\s)', raw_text)\n",
    "preprocessed = [item.strip() for item in preprocessed if item.strip()]\n",
    "print(preprocessed[:30])\n"
   ],
   "id": "f8d45edbb13ab4de",
   "outputs": [
    {
     "name": "stdout",
     "output_type": "stream",
     "text": [
      "['I', 'HAD', 'always', 'thought', 'Jack', 'Gisburn', 'rather', 'a', 'cheap', 'genius', '--', 'though', 'a', 'good', 'fellow', 'enough', '--', 'so', 'it', 'was', 'no', 'great', 'surprise', 'to', 'me', 'to', 'hear', 'that', ',', 'in']\n"
     ]
    }
   ],
   "execution_count": 7
  },
  {
   "metadata": {},
   "cell_type": "markdown",
   "source": "# Converting tokens into token IDs",
   "id": "297d6c8fe03cfa09"
  },
  {
   "metadata": {
    "ExecuteTime": {
     "end_time": "2025-07-29T05:40:29.511024Z",
     "start_time": "2025-07-29T05:40:29.505238Z"
    }
   },
   "cell_type": "code",
   "source": [
    "all_words = sorted(set(preprocessed))\n",
    "vocab_size = len(all_words)\n",
    "print(f\"Vocab Size : {vocab_size}\")"
   ],
   "id": "9d00e2ea1abad281",
   "outputs": [
    {
     "name": "stdout",
     "output_type": "stream",
     "text": [
      "Vocab Size : 1130\n"
     ]
    }
   ],
   "execution_count": 8
  },
  {
   "metadata": {
    "ExecuteTime": {
     "end_time": "2025-07-29T05:40:29.584315Z",
     "start_time": "2025-07-29T05:40:29.580047Z"
    }
   },
   "cell_type": "code",
   "source": [
    "vocab = {token:id for id,token in enumerate(all_words)}\n",
    "for i,item in enumerate(vocab.items()):\n",
    "    print(item)\n",
    "    if i>50:\n",
    "        break"
   ],
   "id": "e5474bed4d76eb66",
   "outputs": [
    {
     "name": "stdout",
     "output_type": "stream",
     "text": [
      "('!', 0)\n",
      "('\"', 1)\n",
      "(\"'\", 2)\n",
      "('(', 3)\n",
      "(')', 4)\n",
      "(',', 5)\n",
      "('--', 6)\n",
      "('.', 7)\n",
      "(':', 8)\n",
      "(';', 9)\n",
      "('?', 10)\n",
      "('A', 11)\n",
      "('Ah', 12)\n",
      "('Among', 13)\n",
      "('And', 14)\n",
      "('Are', 15)\n",
      "('Arrt', 16)\n",
      "('As', 17)\n",
      "('At', 18)\n",
      "('Be', 19)\n",
      "('Begin', 20)\n",
      "('Burlington', 21)\n",
      "('But', 22)\n",
      "('By', 23)\n",
      "('Carlo', 24)\n",
      "('Chicago', 25)\n",
      "('Claude', 26)\n",
      "('Come', 27)\n",
      "('Croft', 28)\n",
      "('Destroyed', 29)\n",
      "('Devonshire', 30)\n",
      "('Don', 31)\n",
      "('Dubarry', 32)\n",
      "('Emperors', 33)\n",
      "('Florence', 34)\n",
      "('For', 35)\n",
      "('Gallery', 36)\n",
      "('Gideon', 37)\n",
      "('Gisburn', 38)\n",
      "('Gisburns', 39)\n",
      "('Grafton', 40)\n",
      "('Greek', 41)\n",
      "('Grindle', 42)\n",
      "('Grindles', 43)\n",
      "('HAD', 44)\n",
      "('Had', 45)\n",
      "('Hang', 46)\n",
      "('Has', 47)\n",
      "('He', 48)\n",
      "('Her', 49)\n",
      "('Hermia', 50)\n",
      "('His', 51)\n"
     ]
    }
   ],
   "execution_count": 9
  },
  {
   "metadata": {
    "ExecuteTime": {
     "end_time": "2025-07-29T05:40:29.631342Z",
     "start_time": "2025-07-29T05:40:29.623799Z"
    }
   },
   "cell_type": "code",
   "source": [
    "class SimpleTokenizerV1:\n",
    "    def __init__(self, vocab):\n",
    "        self.str_to_int = vocab\n",
    "        self.int_to_str = {i:s for s,i in vocab.items()}\n",
    "\n",
    "    def encode(self, text):\n",
    "        preprocessed = re.split(r'([,.<>?/:;\"\\'{}()_]|--|\\s)', text)\n",
    "        preprocessed = [i.strip() for i in preprocessed if i.strip()]\n",
    "        ids = [self.str_to_int[i] for i in preprocessed]\n",
    "        return ids\n",
    "\n",
    "    def decode(self,ids):\n",
    "        text = \" \". join([self.int_to_str[i] for i in ids])\n",
    "        text = re.sub(r'\\s+([,.?!\"()\\'])',r'\\1', text)\n",
    "        return text\n",
    "\n",
    "\n",
    "\n"
   ],
   "id": "b87544ba9a1c9e18",
   "outputs": [],
   "execution_count": 10
  },
  {
   "metadata": {
    "ExecuteTime": {
     "end_time": "2025-07-29T05:40:29.658194Z",
     "start_time": "2025-07-29T05:40:29.653109Z"
    }
   },
   "cell_type": "code",
   "source": [
    "tokenizer = SimpleTokenizerV1(vocab)\n",
    "\n",
    "text = \"\"\"\n",
    "\"It's the last he painted, you know,\"\n",
    "Mrs. Gisburn said that with pardonable pride.\n",
    "\"\"\"\n",
    "ids = tokenizer.encode(text)\n",
    "print(ids)\n",
    "\n",
    "print(tokenizer.decode(ids))"
   ],
   "id": "ff97d19327c366b7",
   "outputs": [
    {
     "name": "stdout",
     "output_type": "stream",
     "text": [
      "[1, 56, 2, 850, 988, 602, 533, 746, 5, 1126, 596, 5, 1, 67, 7, 38, 851, 987, 1108, 754, 793, 7]\n",
      "\" It' s the last he painted, you know,\" Mrs. Gisburn said that with pardonable pride.\n"
     ]
    }
   ],
   "execution_count": 11
  },
  {
   "metadata": {
    "ExecuteTime": {
     "end_time": "2025-07-29T05:40:30.052502Z",
     "start_time": "2025-07-29T05:40:29.740838Z"
    }
   },
   "cell_type": "code",
   "source": [
    "# Problem\n",
    "\n",
    "text = 'Hello, you like tea?'\n",
    "print(tokenizer.encode(text))"
   ],
   "id": "6df16dba64ea360a",
   "outputs": [
    {
     "ename": "KeyError",
     "evalue": "'Hello'",
     "output_type": "error",
     "traceback": [
      "\u001B[31m---------------------------------------------------------------------------\u001B[39m",
      "\u001B[31mKeyError\u001B[39m                                  Traceback (most recent call last)",
      "\u001B[36mCell\u001B[39m\u001B[36m \u001B[39m\u001B[32mIn[12]\u001B[39m\u001B[32m, line 4\u001B[39m\n\u001B[32m      1\u001B[39m \u001B[38;5;66;03m# Problem\u001B[39;00m\n\u001B[32m      3\u001B[39m text = \u001B[33m'\u001B[39m\u001B[33mHello, you like tea?\u001B[39m\u001B[33m'\u001B[39m\n\u001B[32m----> \u001B[39m\u001B[32m4\u001B[39m \u001B[38;5;28mprint\u001B[39m(\u001B[43mtokenizer\u001B[49m\u001B[43m.\u001B[49m\u001B[43mencode\u001B[49m\u001B[43m(\u001B[49m\u001B[43mtext\u001B[49m\u001B[43m)\u001B[49m)\n",
      "\u001B[36mCell\u001B[39m\u001B[36m \u001B[39m\u001B[32mIn[10]\u001B[39m\u001B[32m, line 9\u001B[39m, in \u001B[36mSimpleTokenizerV1.encode\u001B[39m\u001B[34m(self, text)\u001B[39m\n\u001B[32m      7\u001B[39m preprocessed = re.split(\u001B[33mr\u001B[39m\u001B[33m'\u001B[39m\u001B[33m([,.<>?/:;\u001B[39m\u001B[33m\"\u001B[39m\u001B[38;5;130;01m\\'\u001B[39;00m\u001B[38;5;132;01m{}\u001B[39;00m\u001B[33m()_]|--|\u001B[39m\u001B[33m\\\u001B[39m\u001B[33ms)\u001B[39m\u001B[33m'\u001B[39m, text)\n\u001B[32m      8\u001B[39m preprocessed = [i.strip() \u001B[38;5;28;01mfor\u001B[39;00m i \u001B[38;5;129;01min\u001B[39;00m preprocessed \u001B[38;5;28;01mif\u001B[39;00m i.strip()]\n\u001B[32m----> \u001B[39m\u001B[32m9\u001B[39m ids = \u001B[43m[\u001B[49m\u001B[38;5;28;43mself\u001B[39;49m\u001B[43m.\u001B[49m\u001B[43mstr_to_int\u001B[49m\u001B[43m[\u001B[49m\u001B[43mi\u001B[49m\u001B[43m]\u001B[49m\u001B[43m \u001B[49m\u001B[38;5;28;43;01mfor\u001B[39;49;00m\u001B[43m \u001B[49m\u001B[43mi\u001B[49m\u001B[43m \u001B[49m\u001B[38;5;129;43;01min\u001B[39;49;00m\u001B[43m \u001B[49m\u001B[43mpreprocessed\u001B[49m\u001B[43m]\u001B[49m\n\u001B[32m     10\u001B[39m \u001B[38;5;28;01mreturn\u001B[39;00m ids\n",
      "\u001B[36mCell\u001B[39m\u001B[36m \u001B[39m\u001B[32mIn[10]\u001B[39m\u001B[32m, line 9\u001B[39m, in \u001B[36m<listcomp>\u001B[39m\u001B[34m(.0)\u001B[39m\n\u001B[32m      7\u001B[39m preprocessed = re.split(\u001B[33mr\u001B[39m\u001B[33m'\u001B[39m\u001B[33m([,.<>?/:;\u001B[39m\u001B[33m\"\u001B[39m\u001B[38;5;130;01m\\'\u001B[39;00m\u001B[38;5;132;01m{}\u001B[39;00m\u001B[33m()_]|--|\u001B[39m\u001B[33m\\\u001B[39m\u001B[33ms)\u001B[39m\u001B[33m'\u001B[39m, text)\n\u001B[32m      8\u001B[39m preprocessed = [i.strip() \u001B[38;5;28;01mfor\u001B[39;00m i \u001B[38;5;129;01min\u001B[39;00m preprocessed \u001B[38;5;28;01mif\u001B[39;00m i.strip()]\n\u001B[32m----> \u001B[39m\u001B[32m9\u001B[39m ids = [\u001B[38;5;28;43mself\u001B[39;49m\u001B[43m.\u001B[49m\u001B[43mstr_to_int\u001B[49m\u001B[43m[\u001B[49m\u001B[43mi\u001B[49m\u001B[43m]\u001B[49m \u001B[38;5;28;01mfor\u001B[39;00m i \u001B[38;5;129;01min\u001B[39;00m preprocessed]\n\u001B[32m     10\u001B[39m \u001B[38;5;28;01mreturn\u001B[39;00m ids\n",
      "\u001B[31mKeyError\u001B[39m: 'Hello'"
     ]
    }
   ],
   "execution_count": 12
  },
  {
   "metadata": {},
   "cell_type": "markdown",
   "source": "# Adding special tokens",
   "id": "c1e94a0c4f134173"
  },
  {
   "metadata": {
    "ExecuteTime": {
     "end_time": "2025-07-29T05:40:51.928534Z",
     "start_time": "2025-07-29T05:40:51.922653Z"
    }
   },
   "cell_type": "code",
   "source": [
    "all_tokens = sorted(set(preprocessed))\n",
    "all_tokens.extend(['<|UNK|>','<|ENDOFTEXT|>'])\n",
    "vocab: dict = {token:id for id, token in enumerate(all_tokens)}\n",
    "\n",
    "for i,item in enumerate(list(vocab.items())[-5:]):\n",
    "    print(item)\n",
    "\n"
   ],
   "id": "3ad0c4318f5c34cc",
   "outputs": [
    {
     "name": "stdout",
     "output_type": "stream",
     "text": [
      "('younger', 1127)\n",
      "('your', 1128)\n",
      "('yourself', 1129)\n",
      "('<|UNK|>', 1130)\n",
      "('<|ENDOFTEXT|>', 1131)\n"
     ]
    }
   ],
   "execution_count": 13
  },
  {
   "metadata": {
    "ExecuteTime": {
     "end_time": "2025-07-29T05:40:52.531755Z",
     "start_time": "2025-07-29T05:40:52.526309Z"
    }
   },
   "cell_type": "code",
   "source": [
    "# Creating a tokenizer class with special tokens\n",
    "\n",
    "class SimpleTokenizerV2:\n",
    "    def __init__(self, vocab:dict):\n",
    "        self.str_to_int: dict = vocab\n",
    "        self.int_to_str : dict = {id:token for token,id in vocab.items()}\n",
    "\n",
    "    def encode(self,text:str):\n",
    "        preprocessed =  re.split(r'([,.:;?_!\"()\\']|--|\\s)', text)\n",
    "        preprocessed = [item.strip() for item in preprocessed if item.strip()]\n",
    "        preprocessed = [item if item in self.str_to_int else '<|UNK|>' for item in preprocessed]\n",
    "        ids = [\n",
    "            self.str_to_int.get(token) for token in preprocessed\n",
    "        ]\n",
    "        return ids\n",
    "\n",
    "    def decode(self, ids:list):\n",
    "        text = \" \".join([self.int_to_str[id] for id in ids])\n",
    "\n",
    "        text = re.sub(r'\\s+([,.:;?!\"()\\'])', r'\\1', text)\n",
    "        return text\n",
    "\n"
   ],
   "id": "d232a9fdb4944b07",
   "outputs": [],
   "execution_count": 14
  },
  {
   "metadata": {
    "ExecuteTime": {
     "end_time": "2025-07-29T05:40:52.778836Z",
     "start_time": "2025-07-29T05:40:52.771533Z"
    }
   },
   "cell_type": "code",
   "source": [
    "tokenizer = SimpleTokenizerV2(vocab)\n",
    "text1 = 'Hello, you like tea?'\n",
    "text2 = \"In the sunlit the terraces of the palace.\"\n",
    "text3 = 'The Sun is shinning and the weather is green.'\n",
    "text = \" <|ENDOFTEXT|> \".join((text1,text2,text3,))\n",
    "print(text)\n",
    "encoded_text_sample = tokenizer.encode(text)\n",
    "print(encoded_text_sample)"
   ],
   "id": "bbefee2f32ec2e7b",
   "outputs": [
    {
     "name": "stdout",
     "output_type": "stream",
     "text": [
      "Hello, you like tea? <|ENDOFTEXT|> In the sunlit the terraces of the palace. <|ENDOFTEXT|> The Sun is shinning and the weather is green.\n",
      "[1130, 5, 1126, 628, 975, 10, 1131, 55, 988, 956, 988, 984, 722, 988, 1130, 7, 1131, 93, 1130, 584, 1130, 157, 988, 1130, 584, 1130, 7]\n"
     ]
    }
   ],
   "execution_count": 15
  },
  {
   "metadata": {
    "ExecuteTime": {
     "end_time": "2025-07-29T05:40:52.920724Z",
     "start_time": "2025-07-29T05:40:52.915502Z"
    }
   },
   "cell_type": "code",
   "source": "print(tokenizer.decode(encoded_text_sample))\n",
   "id": "25ac97867d0b52fc",
   "outputs": [
    {
     "name": "stdout",
     "output_type": "stream",
     "text": [
      "<|UNK|>, you like tea? <|ENDOFTEXT|> In the sunlit the terraces of the <|UNK|>. <|ENDOFTEXT|> The <|UNK|> is <|UNK|> and the <|UNK|> is <|UNK|>.\n"
     ]
    }
   ],
   "execution_count": 16
  },
  {
   "metadata": {},
   "cell_type": "markdown",
   "source": "# Bite pair Encoding",
   "id": "4cd00f635c1283a8"
  },
  {
   "metadata": {
    "ExecuteTime": {
     "end_time": "2025-07-29T05:40:53.392934Z",
     "start_time": "2025-07-29T05:40:53.262186Z"
    }
   },
   "cell_type": "code",
   "source": [
    "from importlib.metadata import version\n",
    "import tiktoken\n",
    "print(f\"Tiktoken version: {version('tiktoken')}\")"
   ],
   "id": "a1c8dbc70d55fd08",
   "outputs": [
    {
     "name": "stdout",
     "output_type": "stream",
     "text": [
      "Tiktoken version: 0.9.0\n"
     ]
    }
   ],
   "execution_count": 17
  },
  {
   "metadata": {
    "ExecuteTime": {
     "end_time": "2025-07-29T05:40:53.739788Z",
     "start_time": "2025-07-29T05:40:53.470335Z"
    }
   },
   "cell_type": "code",
   "source": "tokenizer = tiktoken.get_encoding('gpt2')",
   "id": "b4e27a886014d24",
   "outputs": [],
   "execution_count": 18
  },
  {
   "metadata": {
    "ExecuteTime": {
     "end_time": "2025-07-29T05:40:53.759543Z",
     "start_time": "2025-07-29T05:40:53.754835Z"
    }
   },
   "cell_type": "code",
   "source": "type(tokenizer)",
   "id": "37d33c94421003c",
   "outputs": [
    {
     "data": {
      "text/plain": [
       "tiktoken.core.Encoding"
      ]
     },
     "execution_count": 19,
     "metadata": {},
     "output_type": "execute_result"
    }
   ],
   "execution_count": 19
  },
  {
   "metadata": {
    "ExecuteTime": {
     "end_time": "2025-07-29T05:40:53.869255Z",
     "start_time": "2025-07-29T05:40:53.864648Z"
    }
   },
   "cell_type": "code",
   "source": [
    "text = (\n",
    "    \"Hello, you like tea? <|endoftext|> In the sunlit the terraces of the palace. <|endoftext|> The Sun is shinning and the weather is green.\"\n",
    ")\n",
    "integers = tokenizer.encode(text, allowed_special={'<|endoftext|>'})\n",
    "print(integers)"
   ],
   "id": "ea7b457f38b7ff34",
   "outputs": [
    {
     "name": "stdout",
     "output_type": "stream",
     "text": [
      "[15496, 11, 345, 588, 8887, 30, 220, 50256, 554, 262, 4252, 18250, 262, 8812, 2114, 286, 262, 20562, 13, 220, 50256, 383, 3825, 318, 427, 23062, 290, 262, 6193, 318, 4077, 13]\n"
     ]
    }
   ],
   "execution_count": 20
  },
  {
   "metadata": {
    "ExecuteTime": {
     "end_time": "2025-07-29T05:40:54.414204Z",
     "start_time": "2025-07-29T05:40:54.410391Z"
    }
   },
   "cell_type": "code",
   "source": "tokenizer.decode(integers)",
   "id": "665ad46c686028e7",
   "outputs": [
    {
     "data": {
      "text/plain": [
       "'Hello, you like tea? <|endoftext|> In the sunlit the terraces of the palace. <|endoftext|> The Sun is shinning and the weather is green.'"
      ]
     },
     "execution_count": 21,
     "metadata": {},
     "output_type": "execute_result"
    }
   ],
   "execution_count": 21
  },
  {
   "metadata": {
    "ExecuteTime": {
     "end_time": "2025-07-29T05:40:54.802303Z",
     "start_time": "2025-07-29T05:40:54.798031Z"
    }
   },
   "cell_type": "code",
   "source": "tokenizer.encode(\"<|endoftext|>\", allowed_special={\"<|endoftext|>\"})",
   "id": "2e7f74c7e27eb191",
   "outputs": [
    {
     "data": {
      "text/plain": [
       "[50256]"
      ]
     },
     "execution_count": 22,
     "metadata": {},
     "output_type": "execute_result"
    }
   ],
   "execution_count": 22
  },
  {
   "metadata": {
    "ExecuteTime": {
     "end_time": "2025-07-29T05:40:55.165130Z",
     "start_time": "2025-07-29T05:40:55.159928Z"
    }
   },
   "cell_type": "code",
   "source": "tokenizer.decode(tokenizer.encode(\"hasttheklyt\"))",
   "id": "c1032aeac3cd3b21",
   "outputs": [
    {
     "data": {
      "text/plain": [
       "'hasttheklyt'"
      ]
     },
     "execution_count": 23,
     "metadata": {},
     "output_type": "execute_result"
    }
   ],
   "execution_count": 23
  },
  {
   "metadata": {},
   "cell_type": "markdown",
   "source": [
    "# Data sampling with sliding window\n",
    "\n",
    "+LLMs are pretrained by predicting the next word in a text"
   ],
   "id": "cd27bc75bbb18431"
  },
  {
   "metadata": {
    "ExecuteTime": {
     "end_time": "2025-07-29T05:40:56.138491Z",
     "start_time": "2025-07-29T05:40:56.129542Z"
    }
   },
   "cell_type": "code",
   "source": [
    "with open('docs/the-verdict.txt','r',encoding='utf-8') as f:\n",
    "    raw_text=f.read()\n",
    "\n",
    "encoded_text = tokenizer.encode(raw_text)\n",
    "print(len(encoded_text))\n",
    "\n",
    "enc_sample = encoded_text[50:]\n",
    "# print(enc_sample)\n"
   ],
   "id": "18675f22cc7bc9f6",
   "outputs": [
    {
     "name": "stdout",
     "output_type": "stream",
     "text": [
      "5145\n"
     ]
    }
   ],
   "execution_count": 24
  },
  {
   "metadata": {
    "ExecuteTime": {
     "end_time": "2025-07-29T05:40:56.495597Z",
     "start_time": "2025-07-29T05:40:56.491972Z"
    }
   },
   "cell_type": "code",
   "source": [
    "# The context size determines how many tokens are included in the input\n",
    "context_size=4\n",
    "\n",
    "x  = enc_sample[:context_size]\n",
    "y  = enc_sample[1:context_size+1]\n",
    "\n",
    "print(f\"x: {x}\")\n",
    "print(f\"y:      {y}\")\n"
   ],
   "id": "10c1ea113238dfb2",
   "outputs": [
    {
     "name": "stdout",
     "output_type": "stream",
     "text": [
      "x: [290, 4920, 2241, 287]\n",
      "y:      [4920, 2241, 287, 257]\n"
     ]
    }
   ],
   "execution_count": 25
  },
  {
   "metadata": {
    "ExecuteTime": {
     "end_time": "2025-07-29T05:40:56.701451Z",
     "start_time": "2025-07-29T05:40:56.697628Z"
    }
   },
   "cell_type": "code",
   "source": [
    "for i in range(1, context_size+1):\n",
    "    context = enc_sample[:i]\n",
    "    desired = enc_sample[i]\n",
    "    print(f\"{context}---->{desired}\")"
   ],
   "id": "e0b6131a8256719b",
   "outputs": [
    {
     "name": "stdout",
     "output_type": "stream",
     "text": [
      "[290]---->4920\n",
      "[290, 4920]---->2241\n",
      "[290, 4920, 2241]---->287\n",
      "[290, 4920, 2241, 287]---->257\n"
     ]
    }
   ],
   "execution_count": 26
  },
  {
   "metadata": {
    "ExecuteTime": {
     "end_time": "2025-07-29T05:40:56.928552Z",
     "start_time": "2025-07-29T05:40:56.923875Z"
    }
   },
   "cell_type": "code",
   "source": [
    "for i in range(1, context_size+1):\n",
    "    context = enc_sample[:i]\n",
    "    desired = enc_sample[i]\n",
    "    print(f\"{tokenizer.decode(context)}---->{tokenizer.decode([desired])}\")"
   ],
   "id": "c4940035c7b0f137",
   "outputs": [
    {
     "name": "stdout",
     "output_type": "stream",
     "text": [
      " and----> established\n",
      " and established----> himself\n",
      " and established himself----> in\n",
      " and established himself in----> a\n"
     ]
    }
   ],
   "execution_count": 27
  },
  {
   "metadata": {
    "ExecuteTime": {
     "end_time": "2025-07-29T05:41:01.231334Z",
     "start_time": "2025-07-29T05:40:57.426074Z"
    }
   },
   "cell_type": "code",
   "source": [
    "import torch\n",
    "from torch.utils.data import Dataset, DataLoader\n",
    "\n",
    "class MyGPTDatasetV2(Dataset):\n",
    "    def __init__(self, raw_text:str, tokenizer, max_length:int=256, stride=128 ):\n",
    "        super().__init__()\n",
    "        self.input_ids = []\n",
    "        self.target_ids = []\n",
    "\n",
    "        token_ids = tokenizer.encode(raw_text)\n",
    "\n",
    "        for i in range(0,len(token_ids)-max_length,stride):\n",
    "            input_chunk = token_ids[i:i+max_length]\n",
    "            output_chunk = token_ids[i+1 :i+max_length+1]\n",
    "            self.input_ids.append(torch.tensor(input_chunk))\n",
    "            self.target_ids.append(torch.tensor(output_chunk))\n",
    "\n",
    "    def __len__(self):\n",
    "        return len(self.input_ids)\n",
    "\n",
    "    def __getitem__(self, idx):\n",
    "        x = self.input_ids[idx]\n",
    "        y = self.target_ids[idx]\n",
    "        return x, y\n",
    "\n"
   ],
   "id": "c465b5b12d0755c7",
   "outputs": [
    {
     "name": "stderr",
     "output_type": "stream",
     "text": [
      "/Users/slackroo/Data_science/LLM/llm_from_scratch/.venv/lib/python3.11/site-packages/torch/nn/modules/transformer.py:20: UserWarning: Failed to initialize NumPy: No module named 'numpy' (Triggered internally at /Users/runner/work/pytorch/pytorch/pytorch/torch/csrc/utils/tensor_numpy.cpp:84.)\n",
      "  device: torch.device = torch.device(torch._C._get_default_device()),  # torch.device('cpu'),\n"
     ]
    }
   ],
   "execution_count": 28
  },
  {
   "metadata": {
    "ExecuteTime": {
     "end_time": "2025-07-29T05:41:01.263915Z",
     "start_time": "2025-07-29T05:41:01.259114Z"
    }
   },
   "cell_type": "code",
   "source": [
    "def create_dataloaderV1(txt, batch_size=4, max_length=256,\n",
    "                         stride=128, shuffle=True, drop_last=True,\n",
    "                         num_workers=0,\n",
    "                         ):\n",
    "    tokenizer= tiktoken.get_encoding('gpt2')\n",
    "    dataset= MyGPTDatasetV2(txt, tokenizer, max_length, stride)\n",
    "    dataloader= DataLoader(\n",
    "        dataset,\n",
    "        batch_size=batch_size,\n",
    "        drop_last=drop_last,\n",
    "        shuffle=shuffle,\n",
    "        num_workers=num_workers\n",
    "    )\n",
    "    return dataloader\n",
    "\n",
    "\n",
    "\n"
   ],
   "id": "ab539fe5dd0a5fcc",
   "outputs": [],
   "execution_count": 29
  },
  {
   "metadata": {
    "ExecuteTime": {
     "end_time": "2025-07-29T05:41:08.728059Z",
     "start_time": "2025-07-29T05:41:08.639399Z"
    }
   },
   "cell_type": "code",
   "source": [
    "# test dataloader\n",
    "\n",
    "with open('docs/the-verdict.txt','r' ,encoding='utf-8') as f:\n",
    "    raw_text = f.read()\n",
    "\n",
    "\n",
    "dataloader = create_dataloaderV1(raw_text, batch_size=1, max_length=4, stride=1, shuffle=False)\n",
    "\n",
    "data_iter = iter(dataloader)\n",
    "\n",
    "first_batch = next(data_iter)\n",
    "print(first_batch)"
   ],
   "id": "fae475bee8e46a38",
   "outputs": [
    {
     "name": "stdout",
     "output_type": "stream",
     "text": [
      "[tensor([[  40,  367, 2885, 1464]]), tensor([[ 367, 2885, 1464, 1807]])]\n"
     ]
    }
   ],
   "execution_count": 30
  },
  {
   "metadata": {
    "ExecuteTime": {
     "end_time": "2025-07-29T05:41:09.783137Z",
     "start_time": "2025-07-29T05:41:09.735361Z"
    }
   },
   "cell_type": "code",
   "source": [
    "dataloader = create_dataloaderV1(raw_text, batch_size=1, max_length=8, stride=2, shuffle=False)\n",
    "\n",
    "data_iter = iter(dataloader)\n",
    "\n",
    "first_batch = next(data_iter)\n",
    "print(first_batch)"
   ],
   "id": "9b2d2a45f2aa29a5",
   "outputs": [
    {
     "name": "stdout",
     "output_type": "stream",
     "text": [
      "[tensor([[  40,  367, 2885, 1464, 1807, 3619,  402,  271]]), tensor([[  367,  2885,  1464,  1807,  3619,   402,   271, 10899]])]\n"
     ]
    }
   ],
   "execution_count": 31
  },
  {
   "metadata": {},
   "cell_type": "markdown",
   "source": "Then creating multiple batches from the input dataset, we slide an input window across the text. If the stride is set to 1, we shift the input window by one position when creating the next batch. If we set the stride equal to the input window size, we can prevent overlaps between the batches.",
   "id": "6154664c079a9e9f"
  },
  {
   "metadata": {
    "ExecuteTime": {
     "end_time": "2025-07-29T05:40:30.100712Z",
     "start_time": "2025-07-26T08:35:33.404056Z"
    }
   },
   "cell_type": "code",
   "source": "print ([i for i in range(0,10,4)])",
   "id": "c46915a8ebe37960",
   "outputs": [
    {
     "name": "stdout",
     "output_type": "stream",
     "text": [
      "[0, 4, 8]\n"
     ]
    }
   ],
   "execution_count": 174
  },
  {
   "metadata": {},
   "cell_type": "markdown",
   "source": [
    "# creating token  embeddings\n",
    "The last step in preparing the input text for LLM training is to convert the token IDs into embedding vectors"
   ],
   "id": "652ca8eb43d3b1f4"
  },
  {
   "metadata": {
    "ExecuteTime": {
     "end_time": "2025-07-29T05:40:30.101636Z",
     "start_time": "2025-07-26T09:22:49.242436Z"
    }
   },
   "cell_type": "code",
   "source": [
    "# Let’s see how the token ID to embedding vector conversion works with a hands-on example.\n",
    "\n",
    "# Suppose we have 4 input token with ids\n",
    "\n",
    "input_ids = torch.tensor([2,3,5,1])\n",
    "\n",
    "# For simplicity we take vocab size of 6 insteas of 50256 in BPE\n",
    "# and we create embedding of size 3 (GPT3 had  12288 dimensions)\n",
    "\n",
    "vocab_size = 6\n",
    "output_dim = 3\n",
    "\n",
    "torch.manual_seed(123)\n",
    "embedding_layer = torch.nn.Embedding(vocab_size, output_dim)\n",
    "print(embedding_layer.weight)"
   ],
   "id": "9ef6ad6d0b87ea70",
   "outputs": [
    {
     "name": "stdout",
     "output_type": "stream",
     "text": [
      "Parameter containing:\n",
      "tensor([[ 0.3374, -0.1778, -0.1690],\n",
      "        [ 0.9178,  1.5810,  1.3010],\n",
      "        [ 1.2753, -0.2010, -0.1606],\n",
      "        [-0.4015,  0.9666, -1.1481],\n",
      "        [-1.1589,  0.3255, -0.6315],\n",
      "        [-2.8400, -0.7849, -1.4096]], requires_grad=True)\n"
     ]
    }
   ],
   "execution_count": 180
  },
  {
   "metadata": {
    "ExecuteTime": {
     "end_time": "2025-07-29T05:40:30.102518Z",
     "start_time": "2025-07-26T09:24:34.443561Z"
    }
   },
   "cell_type": "code",
   "source": [
    "# we can apply this to the token Id to obrain the embedding vector\n",
    "\n",
    "print(embedding_layer(torch.tensor([3])))"
   ],
   "id": "8e38e1c024fa37e4",
   "outputs": [
    {
     "name": "stdout",
     "output_type": "stream",
     "text": [
      "tensor([[-0.4015,  0.9666, -1.1481]], grad_fn=<EmbeddingBackward0>)\n"
     ]
    }
   ],
   "execution_count": 181
  },
  {
   "metadata": {},
   "cell_type": "markdown",
   "source": "The embedding layer is essen- tially a lookup operation that retrieves rows from the embedding layer’s weight matrix via a token ID.",
   "id": "428539053a6ee43f"
  },
  {
   "metadata": {
    "ExecuteTime": {
     "end_time": "2025-07-29T05:40:30.103258Z",
     "start_time": "2025-07-26T09:27:17.194790Z"
    }
   },
   "cell_type": "code",
   "source": [
    "print(embedding_layer(input_ids).shape)\n",
    "print(embedding_layer(input_ids))"
   ],
   "id": "6fe04501b5b860ce",
   "outputs": [
    {
     "name": "stdout",
     "output_type": "stream",
     "text": [
      "torch.Size([4, 3])\n",
      "tensor([[ 1.2753, -0.2010, -0.1606],\n",
      "        [-0.4015,  0.9666, -1.1481],\n",
      "        [-2.8400, -0.7849, -1.4096],\n",
      "        [ 0.9178,  1.5810,  1.3010]], grad_fn=<EmbeddingBackward0>)\n"
     ]
    }
   ],
   "execution_count": 184
  },
  {
   "metadata": {},
   "cell_type": "markdown",
   "source": "# Encoding word positions",
   "id": "856787b2468bfa6"
  },
  {
   "metadata": {},
   "cell_type": "markdown",
   "source": "Now, let’s con- sider more realistic and useful embedding sizes and encode the input tokens into a 256-dimensional vector representation, which is smaller than what the original GPT-3 model used (in GPT-3, the embedding size is 12,288 dimensions)",
   "id": "e118a049daf7c511"
  },
  {
   "metadata": {
    "ExecuteTime": {
     "end_time": "2025-07-29T05:41:37.423619Z",
     "start_time": "2025-07-29T05:41:37.299757Z"
    }
   },
   "cell_type": "code",
   "source": [
    "vocab_size = 50257\n",
    "output_dim = 256\n",
    "token_embedding_layer = torch.nn.Embedding(vocab_size, output_dim)\n",
    "\n"
   ],
   "id": "9eb9e63592160dbe",
   "outputs": [],
   "execution_count": 32
  },
  {
   "metadata": {
    "ExecuteTime": {
     "end_time": "2025-07-29T05:41:37.605692Z",
     "start_time": "2025-07-29T05:41:37.571865Z"
    }
   },
   "cell_type": "code",
   "source": [
    "max_length=4\n",
    "\n",
    "dataloader = create_dataloaderV1(\n",
    "    raw_text,\n",
    "    batch_size=8,\n",
    "    max_length= max_length,\n",
    "    stride=max_length,\n",
    "    shuffle=False\n",
    ")\n",
    "\n",
    "data_iter = iter(dataloader)\n",
    "inputs, targes = next(data_iter)\n",
    "print(f\"Input token ids :\\n {inputs}\")\n",
    "print(f\"Input shape:\\n {inputs.shape}\")"
   ],
   "id": "95c909889550ae28",
   "outputs": [
    {
     "name": "stdout",
     "output_type": "stream",
     "text": [
      "Input token ids :\n",
      " tensor([[   40,   367,  2885,  1464],\n",
      "        [ 1807,  3619,   402,   271],\n",
      "        [10899,  2138,   257,  7026],\n",
      "        [15632,   438,  2016,   257],\n",
      "        [  922,  5891,  1576,   438],\n",
      "        [  568,   340,   373,   645],\n",
      "        [ 1049,  5975,   284,   502],\n",
      "        [  284,  3285,   326,    11]])\n",
      "Input shape:\n",
      " torch.Size([8, 4])\n"
     ]
    }
   ],
   "execution_count": 33
  },
  {
   "metadata": {
    "ExecuteTime": {
     "end_time": "2025-07-29T05:46:54.601563Z",
     "start_time": "2025-07-29T05:46:54.589710Z"
    }
   },
   "cell_type": "code",
   "source": "torch.tensor([8, 4, 256])+ torch.ones(3)",
   "id": "a3efb22cfa39a50d",
   "outputs": [
    {
     "data": {
      "text/plain": [
       "tensor([  9.,   5., 257.])"
      ]
     },
     "execution_count": 38,
     "metadata": {},
     "output_type": "execute_result"
    }
   ],
   "execution_count": 38
  },
  {
   "metadata": {
    "ExecuteTime": {
     "end_time": "2025-07-29T05:41:39.281430Z",
     "start_time": "2025-07-29T05:41:39.268422Z"
    }
   },
   "cell_type": "code",
   "source": [
    "token_embeddings= token_embedding_layer(inputs)\n",
    "print(token_embeddings.shape)"
   ],
   "id": "7e07777b31982f0a",
   "outputs": [
    {
     "name": "stdout",
     "output_type": "stream",
     "text": [
      "torch.Size([8, 4, 256])\n"
     ]
    }
   ],
   "execution_count": 34
  },
  {
   "metadata": {},
   "cell_type": "markdown",
   "source": "For a GPT model’s absolute embedding approach, we just need to create another embedding layer that has the same embedding dimension as the `token_embedding_ layer`:",
   "id": "cdbd5700c78fb447"
  },
  {
   "metadata": {
    "ExecuteTime": {
     "end_time": "2025-07-29T05:47:23.397768Z",
     "start_time": "2025-07-29T05:47:23.388008Z"
    }
   },
   "cell_type": "code",
   "source": [
    "context_length= max_length\n",
    "pos_embeddings_layer = torch.nn.Embedding(context_length, output_dim)\n",
    "pos_embeddings = pos_embeddings_layer(torch.arange(context_length))\n",
    "print(pos_embeddings.shape)"
   ],
   "id": "5d34f7c9285116c9",
   "outputs": [
    {
     "name": "stdout",
     "output_type": "stream",
     "text": [
      "torch.Size([4, 256])\n"
     ]
    }
   ],
   "execution_count": 39
  },
  {
   "metadata": {
    "ExecuteTime": {
     "end_time": "2025-07-29T05:47:23.603600Z",
     "start_time": "2025-07-29T05:47:23.598296Z"
    }
   },
   "cell_type": "code",
   "source": "print(torch.arange(context_length))",
   "id": "840d3d6a10de8bb1",
   "outputs": [
    {
     "name": "stdout",
     "output_type": "stream",
     "text": [
      "tensor([0, 1, 2, 3])\n"
     ]
    }
   ],
   "execution_count": 40
  },
  {
   "metadata": {
    "ExecuteTime": {
     "end_time": "2025-07-29T05:47:23.799088Z",
     "start_time": "2025-07-29T05:47:23.795719Z"
    }
   },
   "cell_type": "code",
   "source": [
    "input_embeddings = token_embeddings + pos_embeddings\n",
    "print(input_embeddings.shape)"
   ],
   "id": "e208ca2cfce6ed8",
   "outputs": [
    {
     "name": "stdout",
     "output_type": "stream",
     "text": [
      "torch.Size([8, 4, 256])\n"
     ]
    }
   ],
   "execution_count": 41
  },
  {
   "metadata": {
    "ExecuteTime": {
     "end_time": "2025-07-29T05:47:23.982255Z",
     "start_time": "2025-07-29T05:47:23.980188Z"
    }
   },
   "cell_type": "code",
   "source": "",
   "id": "9dd2f8f1cbea48d6",
   "outputs": [],
   "execution_count": null
  },
  {
   "metadata": {},
   "cell_type": "code",
   "outputs": [],
   "execution_count": null,
   "source": "",
   "id": "26e3071ab8b0e4ed"
  }
 ],
 "metadata": {
  "kernelspec": {
   "display_name": "Python 3",
   "language": "python",
   "name": "python3"
  },
  "language_info": {
   "codemirror_mode": {
    "name": "ipython",
    "version": 2
   },
   "file_extension": ".py",
   "mimetype": "text/x-python",
   "name": "python",
   "nbconvert_exporter": "python",
   "pygments_lexer": "ipython2",
   "version": "2.7.6"
  }
 },
 "nbformat": 4,
 "nbformat_minor": 5
}
