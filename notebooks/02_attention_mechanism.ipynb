{
 "cells": [
  {
   "metadata": {},
   "cell_type": "markdown",
   "source": [
    "# Coding attention mechanism\n",
    "\n",
    "## Attending to different parts of the input with self-Attention\n",
    "\n",
    "### A simple self-attention mechanism without trainable weights.\n"
   ],
   "id": "2b8a87f48d487221"
  },
  {
   "cell_type": "code",
   "id": "initial_id",
   "metadata": {
    "collapsed": true,
    "ExecuteTime": {
     "end_time": "2025-08-04T05:24:39.285406Z",
     "start_time": "2025-08-04T05:24:39.281114Z"
    }
   },
   "source": [
    "import torch\n",
    "\n",
    "inputs = torch.tensor(\n",
    "    [\n",
    "        [0.43, 0.15, 0.89],  # Your     (x^1)\n",
    "        [0.55, 0.87, 0.66],  # journey  (x^2)\n",
    "        [0.57, 0.85, 0.64],  # starts   (x^3)\n",
    "        [0.22, 0.58, 0.33],  # with     (x^4)\n",
    "        [0.77, 0.25, 0.10],  # one      (x^6)\n",
    "        [0.05, 0.80, 0.55],  # step     (x^7)\n",
    "    ]\n",
    ")"
   ],
   "outputs": [],
   "execution_count": 2
  },
  {
   "metadata": {
    "ExecuteTime": {
     "end_time": "2025-08-04T05:32:24.968111Z",
     "start_time": "2025-08-04T05:32:24.961897Z"
    }
   },
   "cell_type": "code",
   "source": [
    "input_query = inputs[1]\n",
    "input_query"
   ],
   "id": "adb2c44bdf80663a",
   "outputs": [
    {
     "data": {
      "text/plain": [
       "tensor([0.5500, 0.8700, 0.6600])"
      ]
     },
     "execution_count": 12,
     "metadata": {},
     "output_type": "execute_result"
    }
   ],
   "execution_count": 12
  },
  {
   "metadata": {
    "ExecuteTime": {
     "end_time": "2025-08-04T05:32:28.434724Z",
     "start_time": "2025-08-04T05:32:28.429828Z"
    }
   },
   "cell_type": "code",
   "source": [
    "input_1 = inputs[0]\n",
    "input_1"
   ],
   "id": "1e6874a2a78a67a9",
   "outputs": [
    {
     "data": {
      "text/plain": [
       "tensor([0.4300, 0.1500, 0.8900])"
      ]
     },
     "execution_count": 13,
     "metadata": {},
     "output_type": "execute_result"
    }
   ],
   "execution_count": 13
  },
  {
   "metadata": {
    "ExecuteTime": {
     "end_time": "2025-08-04T05:32:28.616132Z",
     "start_time": "2025-08-04T05:32:28.611769Z"
    }
   },
   "cell_type": "code",
   "source": "0.55*0.43 + 0.87*0.15 + 0.66*0.89",
   "id": "446aea9f22107581",
   "outputs": [
    {
     "data": {
      "text/plain": [
       "0.9544"
      ]
     },
     "execution_count": 14,
     "metadata": {},
     "output_type": "execute_result"
    }
   ],
   "execution_count": 14
  },
  {
   "metadata": {
    "ExecuteTime": {
     "end_time": "2025-08-04T05:32:28.795154Z",
     "start_time": "2025-08-04T05:32:28.790303Z"
    }
   },
   "cell_type": "code",
   "source": [
    "\n",
    "# compute the attention score\n",
    "\n",
    "torch.dot(input_query, input_1)"
   ],
   "id": "b5272d8f07b96dfa",
   "outputs": [
    {
     "data": {
      "text/plain": [
       "tensor(0.9544)"
      ]
     },
     "execution_count": 15,
     "metadata": {},
     "output_type": "execute_result"
    }
   ],
   "execution_count": 15
  },
  {
   "metadata": {
    "ExecuteTime": {
     "end_time": "2025-08-04T05:32:29.319542Z",
     "start_time": "2025-08-04T05:32:29.314497Z"
    }
   },
   "cell_type": "code",
   "source": [
    "res = 0.\n",
    "\n",
    "for idx, ele in enumerate(inputs[0]):\n",
    "    print(inputs[0][idx])"
   ],
   "id": "95c2d2c93f55c3a2",
   "outputs": [
    {
     "name": "stdout",
     "output_type": "stream",
     "text": [
      "tensor(0.4300)\n",
      "tensor(0.1500)\n",
      "tensor(0.8900)\n"
     ]
    }
   ],
   "execution_count": 16
  },
  {
   "metadata": {
    "ExecuteTime": {
     "end_time": "2025-08-04T05:33:53.516073Z",
     "start_time": "2025-08-04T05:33:53.511967Z"
    }
   },
   "cell_type": "code",
   "source": [
    "res = 0.\n",
    "i = 0\n",
    "\n",
    "for idx, ele in enumerate(inputs[i]):\n",
    "    # res += inputs[i][idx] *  input_query[idx]\n",
    "res += inputs[i][idx] *  torch.dot(inputs[i], input_query)\n"
   ],
   "id": "96ad777d2acf2abf",
   "outputs": [],
   "execution_count": 21
  },
  {
   "metadata": {
    "ExecuteTime": {
     "end_time": "2025-08-04T05:37:06.871172Z",
     "start_time": "2025-08-04T05:37:06.866977Z"
    }
   },
   "cell_type": "code",
   "source": "inputs.shape",
   "id": "825894ff3a527cb7",
   "outputs": [
    {
     "data": {
      "text/plain": [
       "torch.Size([6, 3])"
      ]
     },
     "execution_count": 23,
     "metadata": {},
     "output_type": "execute_result"
    }
   ],
   "execution_count": 23
  },
  {
   "metadata": {
    "ExecuteTime": {
     "end_time": "2025-08-04T05:37:31.998641Z",
     "start_time": "2025-08-04T05:37:31.992129Z"
    }
   },
   "cell_type": "code",
   "source": [
    "# using for all inputs\n",
    "# using attn_score_2 cause we are trying to find wrt to token 2\n",
    "\n",
    "query  = inputs[1]\n",
    "attn_score_2 = torch.empty(inputs.shape[0])\n",
    "\n",
    "for i, x_i in enumerate(inputs):\n",
    "    attn_score_2[i] = torch.dot(query, x_i)\n",
    "\n",
    "print(attn_score_2)"
   ],
   "id": "abd9b6320278a088",
   "outputs": [
    {
     "name": "stdout",
     "output_type": "stream",
     "text": [
      "tensor([0.9544, 1.4950, 1.4754, 0.8434, 0.7070, 1.0865])\n"
     ]
    }
   ],
   "execution_count": 24
  },
  {
   "metadata": {
    "ExecuteTime": {
     "end_time": "2025-08-04T05:44:18.657417Z",
     "start_time": "2025-08-04T05:44:18.648555Z"
    }
   },
   "cell_type": "code",
   "source": [
    "# now from scores lets create the attention weights\n",
    "\n",
    "# step 1 we normalize the attention scores to add up to 1\n",
    "\n",
    "attn_weights_temp = attn_score_2/attn_score_2.sum()\n",
    "print(attn_weights_temp)\n",
    "print(attn_weights_temp.sum())\n",
    "\n",
    "\n"
   ],
   "id": "bf016562e448d457",
   "outputs": [
    {
     "name": "stdout",
     "output_type": "stream",
     "text": [
      "tensor([0.1455, 0.2278, 0.2249, 0.1285, 0.1077, 0.1656])\n",
      "tensor(1.0000)\n"
     ]
    }
   ],
   "execution_count": 25
  },
  {
   "metadata": {
    "ExecuteTime": {
     "end_time": "2025-08-04T05:53:00.328281Z",
     "start_time": "2025-08-04T05:53:00.318544Z"
    }
   },
   "cell_type": "code",
   "source": [
    "def softmax_naive(x):\n",
    "    return torch.exp(x)/torch.exp(x).sum(dim=0)\n",
    "\n",
    "softmax_naive(attn_score_2)"
   ],
   "id": "86335b5bfc6cc15a",
   "outputs": [
    {
     "data": {
      "text/plain": [
       "tensor([0.1385, 0.2379, 0.2333, 0.1240, 0.1082, 0.1581])"
      ]
     },
     "execution_count": 36,
     "metadata": {},
     "output_type": "execute_result"
    }
   ],
   "execution_count": 36
  },
  {
   "metadata": {
    "ExecuteTime": {
     "end_time": "2025-08-04T06:59:50.663043Z",
     "start_time": "2025-08-04T06:59:50.656226Z"
    }
   },
   "cell_type": "code",
   "source": [
    "attn_weights_2 = torch.softmax(attn_score_2, dim=0)  # stable and optimized stable function\n",
    "\n",
    "print(\"Attention weights:\", attn_weights_2)\n",
    "print(\"Sum:\", attn_weights_2.sum())"
   ],
   "id": "4e9a74c6e9f8785f",
   "outputs": [
    {
     "name": "stdout",
     "output_type": "stream",
     "text": [
      "Attention weights: tensor([0.1385, 0.2379, 0.2333, 0.1240, 0.1082, 0.1581])\n",
      "Sum: tensor(1.)\n"
     ]
    }
   ],
   "execution_count": 44
  },
  {
   "metadata": {},
   "cell_type": "markdown",
   "source": [
    "# Compute the context vector\n",
    "\n",
    "![Attention Mechanism Context Vector](./docs/nb_images/cal_norm_attention_weights.png)\n",
    "\n",
    "The context vector is a weighted sum of values, where weights come from the attention mechanism. It's computed by multiplying each input vector with its corresponding attention weight and summing the results.\n"
   ],
   "id": "545334454451593c"
  },
  {
   "metadata": {
    "ExecuteTime": {
     "end_time": "2025-08-04T06:54:48.441307Z",
     "start_time": "2025-08-04T06:54:48.431979Z"
    }
   },
   "cell_type": "code",
   "source": "print(attn_weights_2)",
   "id": "381e88fe6a131cf1",
   "outputs": [
    {
     "name": "stdout",
     "output_type": "stream",
     "text": [
      "tensor([0.1385, 0.2379, 0.2333, 0.1240, 0.1082, 0.1581])\n"
     ]
    }
   ],
   "execution_count": 39
  },
  {
   "metadata": {
    "ExecuteTime": {
     "end_time": "2025-08-04T07:00:11.529902Z",
     "start_time": "2025-08-04T07:00:11.523844Z"
    }
   },
   "cell_type": "code",
   "source": [
    "# attn_scores\n",
    "i = 1\n",
    "query= inputs[i]\n",
    "\n",
    "context_vec_2 = torch.zeros(query.shape)\n",
    "\n",
    "for i, x_i in enumerate(inputs):\n",
    "    context_vec_2 += attn_weights_2[i] * inputs[i]\n",
    "\n",
    "print(context_vec_2)"
   ],
   "id": "8a52147a29b8b4a7",
   "outputs": [
    {
     "name": "stdout",
     "output_type": "stream",
     "text": [
      "tensor([0.4419, 0.6515, 0.5683])\n"
     ]
    }
   ],
   "execution_count": 45
  },
  {
   "metadata": {},
   "cell_type": "markdown",
   "source": "# Simple self attention mechanism without trainable weights\n",
   "id": "6298fa022760a134"
  },
  {
   "metadata": {
    "ExecuteTime": {
     "end_time": "2025-08-04T07:17:01.802082Z",
     "start_time": "2025-08-04T07:17:01.788449Z"
    }
   },
   "cell_type": "code",
   "source": [
    "# lets find attn scores for all the inputs\n",
    "\n",
    "attn_scores = torch.empty(inputs.shape[0], inputs.shape[0])\n",
    "\n",
    "for i, x_i in enumerate(inputs):\n",
    "    for j, x_j in enumerate(inputs):\n",
    "        attn_scores[i, j] = torch.dot(x_i, x_j)\n",
    "\n",
    "print(attn_scores)"
   ],
   "id": "34ce4b2a77683c0c",
   "outputs": [
    {
     "name": "stdout",
     "output_type": "stream",
     "text": [
      "tensor([[0.9995, 0.9544, 0.9422, 0.4753, 0.4576, 0.6310],\n",
      "        [0.9544, 1.4950, 1.4754, 0.8434, 0.7070, 1.0865],\n",
      "        [0.9422, 1.4754, 1.4570, 0.8296, 0.7154, 1.0605],\n",
      "        [0.4753, 0.8434, 0.8296, 0.4937, 0.3474, 0.6565],\n",
      "        [0.4576, 0.7070, 0.7154, 0.3474, 0.6654, 0.2935],\n",
      "        [0.6310, 1.0865, 1.0605, 0.6565, 0.2935, 0.9450]])\n"
     ]
    }
   ],
   "execution_count": 47
  },
  {
   "metadata": {
    "ExecuteTime": {
     "end_time": "2025-08-04T07:20:31.507793Z",
     "start_time": "2025-08-04T07:20:31.502563Z"
    }
   },
   "cell_type": "code",
   "source": [
    "attn_scores = inputs @ inputs.T\n",
    "attn_weights = torch.softmax(attn_scores, dim=1)\n",
    "print(attn_scores)\n",
    "print(f\"\\nNormalised attention weights:\")\n",
    "print(attn_weights)"
   ],
   "id": "aa5ba07ffb7a36d1",
   "outputs": [
    {
     "name": "stdout",
     "output_type": "stream",
     "text": [
      "tensor([[0.9995, 0.9544, 0.9422, 0.4753, 0.4576, 0.6310],\n",
      "        [0.9544, 1.4950, 1.4754, 0.8434, 0.7070, 1.0865],\n",
      "        [0.9422, 1.4754, 1.4570, 0.8296, 0.7154, 1.0605],\n",
      "        [0.4753, 0.8434, 0.8296, 0.4937, 0.3474, 0.6565],\n",
      "        [0.4576, 0.7070, 0.7154, 0.3474, 0.6654, 0.2935],\n",
      "        [0.6310, 1.0865, 1.0605, 0.6565, 0.2935, 0.9450]])\n",
      "\n",
      "Normalised attention weights:\n",
      "tensor([[0.2098, 0.2006, 0.1981, 0.1242, 0.1220, 0.1452],\n",
      "        [0.1385, 0.2379, 0.2333, 0.1240, 0.1082, 0.1581],\n",
      "        [0.1390, 0.2369, 0.2326, 0.1242, 0.1108, 0.1565],\n",
      "        [0.1435, 0.2074, 0.2046, 0.1462, 0.1263, 0.1720],\n",
      "        [0.1526, 0.1958, 0.1975, 0.1367, 0.1879, 0.1295],\n",
      "        [0.1385, 0.2184, 0.2128, 0.1420, 0.0988, 0.1896]])\n"
     ]
    }
   ],
   "execution_count": 52
  },
  {
   "metadata": {
    "ExecuteTime": {
     "end_time": "2025-08-04T07:20:09.196347Z",
     "start_time": "2025-08-04T07:20:09.188297Z"
    }
   },
   "cell_type": "code",
   "source": "context_vec =",
   "id": "626eaf0050995e13",
   "outputs": [
    {
     "data": {
      "text/plain": [
       "tensor([1.0000, 1.0000, 1.0000, 1.0000, 1.0000, 1.0000])"
      ]
     },
     "execution_count": 50,
     "metadata": {},
     "output_type": "execute_result"
    }
   ],
   "execution_count": 50
  },
  {
   "metadata": {
    "ExecuteTime": {
     "end_time": "2025-08-04T07:23:22.676244Z",
     "start_time": "2025-08-04T07:23:22.670824Z"
    }
   },
   "cell_type": "code",
   "source": "print(attn_weights@inputs)",
   "id": "13007d906ce5508f",
   "outputs": [
    {
     "name": "stdout",
     "output_type": "stream",
     "text": [
      "tensor([[0.4421, 0.5931, 0.5790],\n",
      "        [0.4419, 0.6515, 0.5683],\n",
      "        [0.4431, 0.6496, 0.5671],\n",
      "        [0.4304, 0.6298, 0.5510],\n",
      "        [0.4671, 0.5910, 0.5266],\n",
      "        [0.4177, 0.6503, 0.5645]])\n"
     ]
    }
   ],
   "execution_count": 57
  },
  {
   "metadata": {},
   "cell_type": "markdown",
   "source": [
    "# Implementing self-attention with trainable weights\n",
    "\n",
    "## computing the attention mechanism step by step"
   ],
   "id": "8ef1477e038fc9fd"
  },
  {
   "metadata": {},
   "cell_type": "code",
   "outputs": [],
   "execution_count": null,
   "source": "",
   "id": "aa18d40976e76ef5"
  },
  {
   "metadata": {},
   "cell_type": "code",
   "outputs": [],
   "execution_count": null,
   "source": "",
   "id": "79306d5d3b490679"
  }
 ],
 "metadata": {
  "kernelspec": {
   "display_name": "Python 3",
   "language": "python",
   "name": "python3"
  },
  "language_info": {
   "codemirror_mode": {
    "name": "ipython",
    "version": 2
   },
   "file_extension": ".py",
   "mimetype": "text/x-python",
   "name": "python",
   "nbconvert_exporter": "python",
   "pygments_lexer": "ipython2",
   "version": "2.7.6"
  }
 },
 "nbformat": 4,
 "nbformat_minor": 5
}
