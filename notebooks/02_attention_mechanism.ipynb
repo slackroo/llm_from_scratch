{
 "cells": [
  {
   "metadata": {},
   "cell_type": "markdown",
   "source": [
    "# Coding attention mechanism\n",
    "\n",
    "## Attending to different parts of the input with self-Attention\n",
    "\n",
    "### A simple self-attention mechanism without trainable weights.\n"
   ],
   "id": "2b8a87f48d487221"
  },
  {
   "cell_type": "code",
   "id": "initial_id",
   "metadata": {
    "collapsed": true,
    "ExecuteTime": {
     "end_time": "2025-08-10T11:41:05.840092Z",
     "start_time": "2025-08-10T11:41:03.521176Z"
    }
   },
   "source": [
    "import torch\n",
    "from nbformat.v4.convert import downgrade_output\n",
    "\n",
    "inputs = torch.tensor(\n",
    "    [\n",
    "        [0.43, 0.15, 0.89],  # Your     (x^1)\n",
    "        [0.55, 0.87, 0.66],  # journey  (x^2)\n",
    "        [0.57, 0.85, 0.64],  # starts   (x^3)\n",
    "        [0.22, 0.58, 0.33],  # with     (x^4)\n",
    "        [0.77, 0.25, 0.10],  # one      (x^6)\n",
    "        [0.05, 0.80, 0.55],  # step     (x^7)\n",
    "    ]\n",
    ")"
   ],
   "outputs": [
    {
     "name": "stderr",
     "output_type": "stream",
     "text": [
      "/Users/slackroo/Data_science/LLM/llm_from_scratch/.venv/lib/python3.11/site-packages/torch/nn/modules/transformer.py:20: UserWarning: Failed to initialize NumPy: No module named 'numpy' (Triggered internally at /Users/runner/work/pytorch/pytorch/pytorch/torch/csrc/utils/tensor_numpy.cpp:84.)\n",
      "  device: torch.device = torch.device(torch._C._get_default_device()),  # torch.device('cpu'),\n"
     ]
    }
   ],
   "execution_count": 1
  },
  {
   "metadata": {
    "ExecuteTime": {
     "end_time": "2025-08-10T11:41:05.905132Z",
     "start_time": "2025-08-10T11:41:05.861520Z"
    }
   },
   "cell_type": "code",
   "source": [
    "input_query = inputs[1]\n",
    "input_query"
   ],
   "id": "adb2c44bdf80663a",
   "outputs": [
    {
     "data": {
      "text/plain": [
       "tensor([0.5500, 0.8700, 0.6600])"
      ]
     },
     "execution_count": 2,
     "metadata": {},
     "output_type": "execute_result"
    }
   ],
   "execution_count": 2
  },
  {
   "metadata": {
    "ExecuteTime": {
     "end_time": "2025-08-10T11:41:05.931457Z",
     "start_time": "2025-08-10T11:41:05.925695Z"
    }
   },
   "cell_type": "code",
   "source": [
    "input_1 = inputs[0]\n",
    "input_1"
   ],
   "id": "1e6874a2a78a67a9",
   "outputs": [
    {
     "data": {
      "text/plain": [
       "tensor([0.4300, 0.1500, 0.8900])"
      ]
     },
     "execution_count": 3,
     "metadata": {},
     "output_type": "execute_result"
    }
   ],
   "execution_count": 3
  },
  {
   "metadata": {
    "ExecuteTime": {
     "end_time": "2025-08-10T11:41:05.991787Z",
     "start_time": "2025-08-10T11:41:05.987715Z"
    }
   },
   "cell_type": "code",
   "source": "0.55*0.43 + 0.87*0.15 + 0.66*0.89",
   "id": "446aea9f22107581",
   "outputs": [
    {
     "data": {
      "text/plain": [
       "0.9544"
      ]
     },
     "execution_count": 4,
     "metadata": {},
     "output_type": "execute_result"
    }
   ],
   "execution_count": 4
  },
  {
   "metadata": {
    "ExecuteTime": {
     "end_time": "2025-08-10T11:41:06.068027Z",
     "start_time": "2025-08-10T11:41:06.057922Z"
    }
   },
   "cell_type": "code",
   "source": [
    "\n",
    "# compute the attention score\n",
    "\n",
    "torch.dot(input_query, input_1)"
   ],
   "id": "b5272d8f07b96dfa",
   "outputs": [
    {
     "data": {
      "text/plain": [
       "tensor(0.9544)"
      ]
     },
     "execution_count": 5,
     "metadata": {},
     "output_type": "execute_result"
    }
   ],
   "execution_count": 5
  },
  {
   "metadata": {
    "ExecuteTime": {
     "end_time": "2025-08-10T11:41:06.150079Z",
     "start_time": "2025-08-10T11:41:06.141932Z"
    }
   },
   "cell_type": "code",
   "source": [
    "res = 0.\n",
    "\n",
    "for idx, ele in enumerate(inputs[0]):\n",
    "    print(inputs[0][idx])"
   ],
   "id": "95c2d2c93f55c3a2",
   "outputs": [
    {
     "name": "stdout",
     "output_type": "stream",
     "text": [
      "tensor(0.4300)\n",
      "tensor(0.1500)\n",
      "tensor(0.8900)\n"
     ]
    }
   ],
   "execution_count": 6
  },
  {
   "metadata": {
    "ExecuteTime": {
     "end_time": "2025-08-10T11:41:06.226055Z",
     "start_time": "2025-08-10T11:41:06.218913Z"
    }
   },
   "cell_type": "code",
   "source": [
    "res = 0.\n",
    "i = 0\n",
    "\n",
    "for idx, ele in enumerate(inputs[i]):\n",
    "    res += inputs[i][idx] *  input_query[idx]\n",
    "res += inputs[i][idx] *  torch.dot(inputs[i], input_query)\n"
   ],
   "id": "96ad777d2acf2abf",
   "outputs": [],
   "execution_count": 7
  },
  {
   "metadata": {
    "ExecuteTime": {
     "end_time": "2025-08-10T11:41:06.243312Z",
     "start_time": "2025-08-10T11:41:06.238148Z"
    }
   },
   "cell_type": "code",
   "source": [
    "\n",
    "inputs.shape"
   ],
   "id": "825894ff3a527cb7",
   "outputs": [
    {
     "data": {
      "text/plain": [
       "torch.Size([6, 3])"
      ]
     },
     "execution_count": 8,
     "metadata": {},
     "output_type": "execute_result"
    }
   ],
   "execution_count": 8
  },
  {
   "metadata": {
    "ExecuteTime": {
     "end_time": "2025-08-10T11:41:06.310412Z",
     "start_time": "2025-08-10T11:41:06.302628Z"
    }
   },
   "cell_type": "code",
   "source": [
    "# using for all inputs\n",
    "# using attn_score_2 cause we are trying to find wrt to token 2\n",
    "\n",
    "query  = inputs[1]\n",
    "attn_score_2 = torch.empty(inputs.shape[0])\n",
    "\n",
    "for i, x_i in enumerate(inputs):\n",
    "    attn_score_2[i] = torch.dot(query, x_i)\n",
    "\n",
    "print(attn_score_2)"
   ],
   "id": "abd9b6320278a088",
   "outputs": [
    {
     "name": "stdout",
     "output_type": "stream",
     "text": [
      "tensor([0.9544, 1.4950, 1.4754, 0.8434, 0.7070, 1.0865])\n"
     ]
    }
   ],
   "execution_count": 9
  },
  {
   "metadata": {
    "ExecuteTime": {
     "end_time": "2025-08-10T11:41:06.385272Z",
     "start_time": "2025-08-10T11:41:06.378249Z"
    }
   },
   "cell_type": "code",
   "source": [
    "# now from scores lets create the attention weights\n",
    "\n",
    "# step 1 we normalize the attention scores to add up to 1\n",
    "\n",
    "attn_weights_temp = attn_score_2/attn_score_2.sum()\n",
    "print(attn_weights_temp)\n",
    "print(attn_weights_temp.sum())\n",
    "\n",
    "\n"
   ],
   "id": "bf016562e448d457",
   "outputs": [
    {
     "name": "stdout",
     "output_type": "stream",
     "text": [
      "tensor([0.1455, 0.2278, 0.2249, 0.1285, 0.1077, 0.1656])\n",
      "tensor(1.0000)\n"
     ]
    }
   ],
   "execution_count": 10
  },
  {
   "metadata": {
    "ExecuteTime": {
     "end_time": "2025-08-10T11:41:06.469549Z",
     "start_time": "2025-08-10T11:41:06.461683Z"
    }
   },
   "cell_type": "code",
   "source": [
    "def softmax_naive(x):\n",
    "    return torch.exp(x)/torch.exp(x).sum(dim=0)\n",
    "\n",
    "softmax_naive(attn_score_2)"
   ],
   "id": "86335b5bfc6cc15a",
   "outputs": [
    {
     "data": {
      "text/plain": [
       "tensor([0.1385, 0.2379, 0.2333, 0.1240, 0.1082, 0.1581])"
      ]
     },
     "execution_count": 11,
     "metadata": {},
     "output_type": "execute_result"
    }
   ],
   "execution_count": 11
  },
  {
   "metadata": {
    "ExecuteTime": {
     "end_time": "2025-08-10T11:41:06.553864Z",
     "start_time": "2025-08-10T11:41:06.545241Z"
    }
   },
   "cell_type": "code",
   "source": [
    "attn_weights_2 = torch.softmax(attn_score_2, dim=0)  # stable and optimized stable function\n",
    "\n",
    "print(\"Attention weights:\", attn_weights_2)\n",
    "print(\"Sum:\", attn_weights_2.sum())"
   ],
   "id": "4e9a74c6e9f8785f",
   "outputs": [
    {
     "name": "stdout",
     "output_type": "stream",
     "text": [
      "Attention weights: tensor([0.1385, 0.2379, 0.2333, 0.1240, 0.1082, 0.1581])\n",
      "Sum: tensor(1.)\n"
     ]
    }
   ],
   "execution_count": 12
  },
  {
   "metadata": {},
   "cell_type": "markdown",
   "source": [
    "# Compute the context vector\n",
    "\n",
    "![Attention Mechanism Context Vector](./docs/nb_images/cal_norm_attention_weights.png)\n",
    "\n",
    "The context vector is a weighted sum of values, where weights come from the attention mechanism. It's computed by multiplying each input vector with its corresponding attention weight and summing the results.\n"
   ],
   "id": "545334454451593c"
  },
  {
   "metadata": {
    "ExecuteTime": {
     "end_time": "2025-08-10T11:41:06.625818Z",
     "start_time": "2025-08-10T11:41:06.621392Z"
    }
   },
   "cell_type": "code",
   "source": "print(attn_weights_2)",
   "id": "381e88fe6a131cf1",
   "outputs": [
    {
     "name": "stdout",
     "output_type": "stream",
     "text": [
      "tensor([0.1385, 0.2379, 0.2333, 0.1240, 0.1082, 0.1581])\n"
     ]
    }
   ],
   "execution_count": 13
  },
  {
   "metadata": {
    "ExecuteTime": {
     "end_time": "2025-08-10T11:41:06.691993Z",
     "start_time": "2025-08-10T11:41:06.685415Z"
    }
   },
   "cell_type": "code",
   "source": [
    "# attn_scores\n",
    "i = 1\n",
    "query= inputs[i]\n",
    "\n",
    "context_vec_2 = torch.zeros(query.shape)\n",
    "\n",
    "for i, x_i in enumerate(inputs):\n",
    "    context_vec_2 += attn_weights_2[i] * inputs[i]\n",
    "\n",
    "print(context_vec_2)"
   ],
   "id": "8a52147a29b8b4a7",
   "outputs": [
    {
     "name": "stdout",
     "output_type": "stream",
     "text": [
      "tensor([0.4419, 0.6515, 0.5683])\n"
     ]
    }
   ],
   "execution_count": 14
  },
  {
   "metadata": {},
   "cell_type": "markdown",
   "source": "# Simple self attention mechanism without trainable weights\n",
   "id": "6298fa022760a134"
  },
  {
   "metadata": {
    "ExecuteTime": {
     "end_time": "2025-08-10T11:41:06.761697Z",
     "start_time": "2025-08-10T11:41:06.755013Z"
    }
   },
   "cell_type": "code",
   "source": [
    "# lets find attn scores for all the inputs\n",
    "\n",
    "attn_scores = torch.empty(inputs.shape[0], inputs.shape[0])\n",
    "\n",
    "for i, x_i in enumerate(inputs):\n",
    "    for j, x_j in enumerate(inputs):\n",
    "        attn_scores[i, j] = torch.dot(x_i, x_j)\n",
    "\n",
    "print(attn_scores)"
   ],
   "id": "34ce4b2a77683c0c",
   "outputs": [
    {
     "name": "stdout",
     "output_type": "stream",
     "text": [
      "tensor([[0.9995, 0.9544, 0.9422, 0.4753, 0.4576, 0.6310],\n",
      "        [0.9544, 1.4950, 1.4754, 0.8434, 0.7070, 1.0865],\n",
      "        [0.9422, 1.4754, 1.4570, 0.8296, 0.7154, 1.0605],\n",
      "        [0.4753, 0.8434, 0.8296, 0.4937, 0.3474, 0.6565],\n",
      "        [0.4576, 0.7070, 0.7154, 0.3474, 0.6654, 0.2935],\n",
      "        [0.6310, 1.0865, 1.0605, 0.6565, 0.2935, 0.9450]])\n"
     ]
    }
   ],
   "execution_count": 15
  },
  {
   "metadata": {
    "ExecuteTime": {
     "end_time": "2025-08-10T11:41:06.830701Z",
     "start_time": "2025-08-10T11:41:06.816382Z"
    }
   },
   "cell_type": "code",
   "source": [
    "attn_scores = inputs @ inputs.T\n",
    "attn_weights = torch.softmax(attn_scores, dim=1)\n",
    "print(attn_scores)\n",
    "print(f\"\\nNormalised attention weights:\")\n",
    "print(attn_weights)"
   ],
   "id": "aa5ba07ffb7a36d1",
   "outputs": [
    {
     "name": "stdout",
     "output_type": "stream",
     "text": [
      "tensor([[0.9995, 0.9544, 0.9422, 0.4753, 0.4576, 0.6310],\n",
      "        [0.9544, 1.4950, 1.4754, 0.8434, 0.7070, 1.0865],\n",
      "        [0.9422, 1.4754, 1.4570, 0.8296, 0.7154, 1.0605],\n",
      "        [0.4753, 0.8434, 0.8296, 0.4937, 0.3474, 0.6565],\n",
      "        [0.4576, 0.7070, 0.7154, 0.3474, 0.6654, 0.2935],\n",
      "        [0.6310, 1.0865, 1.0605, 0.6565, 0.2935, 0.9450]])\n",
      "\n",
      "Normalised attention weights:\n",
      "tensor([[0.2098, 0.2006, 0.1981, 0.1242, 0.1220, 0.1452],\n",
      "        [0.1385, 0.2379, 0.2333, 0.1240, 0.1082, 0.1581],\n",
      "        [0.1390, 0.2369, 0.2326, 0.1242, 0.1108, 0.1565],\n",
      "        [0.1435, 0.2074, 0.2046, 0.1462, 0.1263, 0.1720],\n",
      "        [0.1526, 0.1958, 0.1975, 0.1367, 0.1879, 0.1295],\n",
      "        [0.1385, 0.2184, 0.2128, 0.1420, 0.0988, 0.1896]])\n"
     ]
    }
   ],
   "execution_count": 16
  },
  {
   "metadata": {
    "ExecuteTime": {
     "end_time": "2025-08-10T11:43:11.360646Z",
     "start_time": "2025-08-10T11:43:11.355792Z"
    }
   },
   "cell_type": "code",
   "source": "print(attn_weights@inputs)",
   "id": "13007d906ce5508f",
   "outputs": [
    {
     "name": "stdout",
     "output_type": "stream",
     "text": [
      "tensor([[0.4421, 0.5931, 0.5790],\n",
      "        [0.4419, 0.6515, 0.5683],\n",
      "        [0.4431, 0.6496, 0.5671],\n",
      "        [0.4304, 0.6298, 0.5510],\n",
      "        [0.4671, 0.5910, 0.5266],\n",
      "        [0.4177, 0.6503, 0.5645]])\n"
     ]
    }
   ],
   "execution_count": 18
  },
  {
   "metadata": {},
   "cell_type": "markdown",
   "source": [
    "# Implementing self-attention with trainable weights\n",
    "\n",
    "## computing the attention mechanism step by step"
   ],
   "id": "8ef1477e038fc9fd"
  },
  {
   "metadata": {
    "ExecuteTime": {
     "end_time": "2025-08-10T11:52:48.902817Z",
     "start_time": "2025-08-10T11:52:48.897983Z"
    }
   },
   "cell_type": "code",
   "source": "inputs[0]\n",
   "id": "66f64dd9814e0e4a",
   "outputs": [
    {
     "data": {
      "text/plain": [
       "tensor([0.4300, 0.1500, 0.8900])"
      ]
     },
     "execution_count": 21,
     "metadata": {},
     "output_type": "execute_result"
    }
   ],
   "execution_count": 21
  },
  {
   "metadata": {
    "ExecuteTime": {
     "end_time": "2025-08-10T12:06:01.928130Z",
     "start_time": "2025-08-10T12:06:01.924845Z"
    }
   },
   "cell_type": "code",
   "source": [
    "x_2 = inputs[1]\n",
    "d_in = inputs.shape[1]\n",
    "d_out=2\n"
   ],
   "id": "aa18d40976e76ef5",
   "outputs": [],
   "execution_count": 24
  },
  {
   "metadata": {
    "ExecuteTime": {
     "end_time": "2025-08-10T12:12:43.086391Z",
     "start_time": "2025-08-10T12:12:43.078684Z"
    }
   },
   "cell_type": "code",
   "source": [
    "torch.manual_seed(123)\n",
    "\n",
    "W_query = torch.nn.Parameter(torch.rand(d_in, d_out))\n",
    "W_key = torch.nn.Parameter(torch.rand(d_in, d_out))\n",
    "W_value = torch.nn.Parameter(torch.rand(d_in, d_out))"
   ],
   "id": "79306d5d3b490679",
   "outputs": [],
   "execution_count": 27
  },
  {
   "metadata": {
    "ExecuteTime": {
     "end_time": "2025-08-10T12:12:44.269758Z",
     "start_time": "2025-08-10T12:12:44.264902Z"
    }
   },
   "cell_type": "code",
   "source": [
    "query_2 = x_2 @ W_query\n",
    "query_2"
   ],
   "id": "469a5b9d0490f0b0",
   "outputs": [
    {
     "data": {
      "text/plain": [
       "tensor([0.4306, 1.4551], grad_fn=<SqueezeBackward4>)"
      ]
     },
     "execution_count": 28,
     "metadata": {},
     "output_type": "execute_result"
    }
   ],
   "execution_count": 28
  },
  {
   "metadata": {
    "ExecuteTime": {
     "end_time": "2025-08-10T12:25:53.876914Z",
     "start_time": "2025-08-10T12:25:53.872671Z"
    }
   },
   "cell_type": "code",
   "source": [
    "keys = inputs @ W_key\n",
    "value = inputs @ W_value\n",
    "\n",
    "keys.shape"
   ],
   "id": "a5c59269437b4338",
   "outputs": [
    {
     "data": {
      "text/plain": [
       "torch.Size([6, 2])"
      ]
     },
     "execution_count": 30,
     "metadata": {},
     "output_type": "execute_result"
    }
   ],
   "execution_count": 30
  },
  {
   "metadata": {
    "ExecuteTime": {
     "end_time": "2025-08-10T12:26:16.568931Z",
     "start_time": "2025-08-10T12:26:16.564464Z"
    }
   },
   "cell_type": "code",
   "source": "print(keys)",
   "id": "80a2c409c6fb15de",
   "outputs": [
    {
     "name": "stdout",
     "output_type": "stream",
     "text": [
      "tensor([[0.3669, 0.7646],\n",
      "        [0.4433, 1.1419],\n",
      "        [0.4361, 1.1156],\n",
      "        [0.2408, 0.6706],\n",
      "        [0.1827, 0.3292],\n",
      "        [0.3275, 0.9642]], grad_fn=<MmBackward0>)\n"
     ]
    }
   ],
   "execution_count": 32
  },
  {
   "metadata": {
    "ExecuteTime": {
     "end_time": "2025-08-10T12:52:17.264657Z",
     "start_time": "2025-08-10T12:52:17.218470Z"
    }
   },
   "cell_type": "code",
   "source": [
    "# Computing attention score for the 2nd input\n",
    "\n",
    "keys_2 = keys[1]\n",
    "attn_score_22 = torch.dot(query_2, keys_2)\n",
    "print(attn_score_22)"
   ],
   "id": "7cda2a8ecdb8ab30",
   "outputs": [
    {
     "name": "stdout",
     "output_type": "stream",
     "text": [
      "tensor(1.8524, grad_fn=<DotBackward0>)\n"
     ]
    }
   ],
   "execution_count": 33
  },
  {
   "metadata": {
    "ExecuteTime": {
     "end_time": "2025-08-10T12:54:07.511046Z",
     "start_time": "2025-08-10T12:54:07.489890Z"
    }
   },
   "cell_type": "code",
   "source": [
    "attn_score_2 = query_2 @ keys.T\n",
    "print(attn_score_2)"
   ],
   "id": "fb3caf58c16d9af9",
   "outputs": [
    {
     "name": "stdout",
     "output_type": "stream",
     "text": [
      "tensor([1.2705, 1.8524, 1.8111, 1.0795, 0.5577, 1.5440],\n",
      "       grad_fn=<SqueezeBackward4>)\n"
     ]
    }
   ],
   "execution_count": 35
  },
  {
   "metadata": {
    "ExecuteTime": {
     "end_time": "2025-08-10T13:05:09.941013Z",
     "start_time": "2025-08-10T13:05:09.930395Z"
    }
   },
   "cell_type": "code",
   "source": [
    "# compute the normalized attenrion scores\n",
    "# we add the normalizaton proposed by the original paper where we divide the scores by sqrt(d_k)\n",
    "\n",
    "d_k = keys.shape[1]\n",
    "\n",
    "attn_weights_2 = torch.softmax(attn_score_2 / d_k**0.5, dim=-1)\n",
    "print(attn_weights_2)\n"
   ],
   "id": "5ea3bf738c3820b",
   "outputs": [
    {
     "name": "stdout",
     "output_type": "stream",
     "text": [
      "tensor([0.1500, 0.2264, 0.2199, 0.1311, 0.0906, 0.1820],\n",
      "       grad_fn=<SoftmaxBackward0>)\n"
     ]
    }
   ],
   "execution_count": 38
  },
  {
   "metadata": {
    "ExecuteTime": {
     "end_time": "2025-08-10T13:05:18.699153Z",
     "start_time": "2025-08-10T13:05:18.693156Z"
    }
   },
   "cell_type": "code",
   "source": "attn_weights_2.sum()\n",
   "id": "d7b8888f395a8191",
   "outputs": [
    {
     "data": {
      "text/plain": [
       "tensor(1., grad_fn=<SumBackward0>)"
      ]
     },
     "execution_count": 39,
     "metadata": {},
     "output_type": "execute_result"
    }
   ],
   "execution_count": 39
  },
  {
   "metadata": {
    "ExecuteTime": {
     "end_time": "2025-08-10T13:13:25.362281Z",
     "start_time": "2025-08-10T13:13:25.352610Z"
    }
   },
   "cell_type": "code",
   "source": [
    "# compute the context vector\n",
    "# The query and key vectors are used to compute the attention weights.\n",
    "# the value vector is used along with the attention weights to compute the context vector.\n",
    "\n",
    "context_vec_2 = attn_weights_2 @ value\n",
    "\n",
    "print(context_vec_2)\n"
   ],
   "id": "12ce534814bbe1e7",
   "outputs": [
    {
     "name": "stdout",
     "output_type": "stream",
     "text": [
      "tensor([0.3061, 0.8210], grad_fn=<SqueezeBackward4>)\n"
     ]
    }
   ],
   "execution_count": 40
  },
  {
   "metadata": {},
   "cell_type": "markdown",
   "source": "# 3.4.2 Implementing a compact SelfAttention class",
   "id": "8df93dbc1591000b"
  },
  {
   "metadata": {
    "ExecuteTime": {
     "end_time": "2025-08-10T13:36:45.232744Z",
     "start_time": "2025-08-10T13:36:45.225323Z"
    }
   },
   "cell_type": "code",
   "source": [
    "import torch.nn as nn\n",
    "\n",
    "class SelfAttentionV1O(nn.Module):\n",
    "\n",
    "    def __init__(self, d_in, d_out):\n",
    "        super().__init__()\n",
    "        self.W_query = torch.nn.Parameter(torch.rand(d_in, d_out))\n",
    "        self.W_key = torch.nn.Parameter(torch.rand(d_in, d_out))\n",
    "        self.W_value = torch.nn.Parameter(torch.rand(d_in , d_out))\n",
    "\n",
    "\n",
    "    def forward(self, x):\n",
    "        queries = inputs @ W_query\n",
    "        keys = inputs @ W_key\n",
    "        values = inputs @ W_value\n",
    "\n",
    "        d_k = keys.shape[1]\n",
    "        attn_scores = queries @ keys.T\n",
    "        attn_weights = torch.softmax(attn_scores / d_k**0.5, dim=-1)\n",
    "        context_vec = attn_weights @ values\n",
    "\n",
    "        return context_vec\n",
    "\n"
   ],
   "id": "78a60045802f7d37",
   "outputs": [],
   "execution_count": 44
  },
  {
   "metadata": {
    "ExecuteTime": {
     "end_time": "2025-08-10T13:36:56.867097Z",
     "start_time": "2025-08-10T13:36:56.858484Z"
    }
   },
   "cell_type": "code",
   "source": [
    "torch.manual_seed(123)\n",
    "\n",
    "sa_v1 = SelfAttentionV1O(d_in, d_out)\n",
    "print(sa_v1(inputs))"
   ],
   "id": "6b5683156dcc34e1",
   "outputs": [
    {
     "name": "stdout",
     "output_type": "stream",
     "text": [
      "tensor([[0.2996, 0.8053],\n",
      "        [0.3061, 0.8210],\n",
      "        [0.3058, 0.8203],\n",
      "        [0.2948, 0.7939],\n",
      "        [0.2927, 0.7891],\n",
      "        [0.2990, 0.8040]], grad_fn=<MmBackward0>)\n"
     ]
    }
   ],
   "execution_count": 46
  },
  {
   "metadata": {
    "ExecuteTime": {
     "end_time": "2025-08-11T07:38:58.545446Z",
     "start_time": "2025-08-11T07:38:58.536937Z"
    }
   },
   "cell_type": "code",
   "source": [
    "import torch.nn as nn\n",
    "\n",
    "class SelfAttentionV2(nn.Module):\n",
    "\n",
    "    def __init__(self, d_in, d_out, qkv_bias=False):\n",
    "        super().__init__()\n",
    "        self.W_query = torch.nn.Linear(d_in, d_out, bias=qkv_bias)\n",
    "        self.W_key = torch.nn.Linear(d_in, d_out, bias=qkv_bias)\n",
    "        self.W_value = torch.nn.Linear(d_in, d_out, bias=qkv_bias)\n",
    "\n",
    "\n",
    "    def forward(self, x):\n",
    "        queries = self.W_query(inputs)\n",
    "        keys = self.W_key(inputs)\n",
    "        values = self.W_value(inputs)\n",
    "\n",
    "        d_k = keys.shape[1]\n",
    "        attn_scores = queries @ keys.T\n",
    "        attn_weights = torch.softmax(attn_scores / d_k**0.5, dim=-1)\n",
    "        context_vec = attn_weights @ values\n",
    "\n",
    "        return context_vec\n",
    "\n",
    "torch.manual_seed(789)\n",
    "sa_v2 = SelfAttentionV2(d_in, d_out)\n",
    "print(sa_v2(inputs))"
   ],
   "id": "4b4d4d236eb8db0d",
   "outputs": [
    {
     "name": "stdout",
     "output_type": "stream",
     "text": [
      "tensor([[-0.0739,  0.0713],\n",
      "        [-0.0748,  0.0703],\n",
      "        [-0.0749,  0.0702],\n",
      "        [-0.0760,  0.0685],\n",
      "        [-0.0763,  0.0679],\n",
      "        [-0.0754,  0.0693]], grad_fn=<MmBackward0>)\n"
     ]
    }
   ],
   "execution_count": 55
  },
  {
   "metadata": {},
   "cell_type": "code",
   "outputs": [],
   "execution_count": null,
   "source": "",
   "id": "3296e116f51b940b"
  },
  {
   "metadata": {},
   "cell_type": "markdown",
   "source": [
    "# 3.5 Hiding future words with causal attention\n",
    "##  3.5.1 Applying causal attention mask\n",
    "\n"
   ],
   "id": "b80d2bf38252293e"
  },
  {
   "metadata": {
    "ExecuteTime": {
     "end_time": "2025-08-11T07:59:56.982033Z",
     "start_time": "2025-08-11T07:59:56.974885Z"
    }
   },
   "cell_type": "code",
   "source": [
    "# your journey starts with one step\n",
    "\n",
    "# we want generate one token at a time\n",
    "# your --> want\n",
    "\n",
    "queries = sa_v2.W_query(inputs)\n",
    "keys = sa_v2.W_key(inputs)\n",
    "values = sa_v2.W_value(inputs)\n",
    "\n",
    "d_k = keys.shape[1]\n",
    "attn_scores = queries @ keys.T\n",
    "attn_weights = torch.softmax(attn_scores / d_k**0.5, dim=-1)\n",
    "print(attn_weights)"
   ],
   "id": "975b2ccb15465f4d",
   "outputs": [
    {
     "name": "stdout",
     "output_type": "stream",
     "text": [
      "tensor([[0.1921, 0.1646, 0.1652, 0.1550, 0.1721, 0.1510],\n",
      "        [0.2041, 0.1659, 0.1662, 0.1496, 0.1665, 0.1477],\n",
      "        [0.2036, 0.1659, 0.1662, 0.1498, 0.1664, 0.1480],\n",
      "        [0.1869, 0.1667, 0.1668, 0.1571, 0.1661, 0.1564],\n",
      "        [0.1830, 0.1669, 0.1670, 0.1588, 0.1658, 0.1585],\n",
      "        [0.1935, 0.1663, 0.1666, 0.1542, 0.1666, 0.1529]],\n",
      "       grad_fn=<SoftmaxBackward0>)\n"
     ]
    }
   ],
   "execution_count": 68
  },
  {
   "metadata": {
    "ExecuteTime": {
     "end_time": "2025-08-11T07:59:58.629763Z",
     "start_time": "2025-08-11T07:59:58.624657Z"
    }
   },
   "cell_type": "code",
   "source": "attn_scores.shape",
   "id": "3bec2bbb6089b4cd",
   "outputs": [
    {
     "data": {
      "text/plain": [
       "torch.Size([6, 6])"
      ]
     },
     "execution_count": 69,
     "metadata": {},
     "output_type": "execute_result"
    }
   ],
   "execution_count": 69
  },
  {
   "metadata": {
    "ExecuteTime": {
     "end_time": "2025-08-11T08:00:16.735875Z",
     "start_time": "2025-08-11T08:00:16.722975Z"
    }
   },
   "cell_type": "code",
   "source": [
    "context_length = attn_scores.shape[0]\n",
    "mask_simple = torch.tril(torch.ones(context_length, context_length))\n",
    "print(mask_simple)"
   ],
   "id": "cbdbe35705912feb",
   "outputs": [
    {
     "name": "stdout",
     "output_type": "stream",
     "text": [
      "tensor([[1., 0., 0., 0., 0., 0.],\n",
      "        [1., 1., 0., 0., 0., 0.],\n",
      "        [1., 1., 1., 0., 0., 0.],\n",
      "        [1., 1., 1., 1., 0., 0.],\n",
      "        [1., 1., 1., 1., 1., 0.],\n",
      "        [1., 1., 1., 1., 1., 1.]])\n"
     ]
    }
   ],
   "execution_count": 70
  },
  {
   "metadata": {
    "ExecuteTime": {
     "end_time": "2025-08-11T08:02:31.170496Z",
     "start_time": "2025-08-11T08:02:31.167895Z"
    }
   },
   "cell_type": "code",
   "source": "mask_simple = attn_weights * mask_simple",
   "id": "337718ffa8bc2aee",
   "outputs": [],
   "execution_count": 71
  },
  {
   "metadata": {
    "ExecuteTime": {
     "end_time": "2025-08-11T08:02:53.896907Z",
     "start_time": "2025-08-11T08:02:53.891495Z"
    }
   },
   "cell_type": "code",
   "source": "print(mask_simple.sum(dim=-1, keepdim=True))",
   "id": "c0136bc7c85f8454",
   "outputs": [
    {
     "name": "stdout",
     "output_type": "stream",
     "text": [
      "tensor([[0.1921],\n",
      "        [0.3700],\n",
      "        [0.5357],\n",
      "        [0.6775],\n",
      "        [0.8415],\n",
      "        [1.0000]], grad_fn=<SumBackward1>)\n"
     ]
    }
   ],
   "execution_count": 73
  },
  {
   "metadata": {
    "ExecuteTime": {
     "end_time": "2025-08-11T08:06:22.401081Z",
     "start_time": "2025-08-11T08:06:22.395978Z"
    }
   },
   "cell_type": "code",
   "source": [
    "# it is good for optimization purposes to have the row sum to be 1\n",
    "\n",
    "# we normalize with the row sum technique\n",
    "row_sums = mask_simple.sum(dim=-1, keepdim=True)\n",
    "masked_sample_norm = mask_simple / row_sums\n",
    "\n",
    "print(masked_sample_norm)"
   ],
   "id": "6d442c12686a5591",
   "outputs": [
    {
     "name": "stdout",
     "output_type": "stream",
     "text": [
      "tensor([[1.0000, 0.0000, 0.0000, 0.0000, 0.0000, 0.0000],\n",
      "        [0.5517, 0.4483, 0.0000, 0.0000, 0.0000, 0.0000],\n",
      "        [0.3800, 0.3097, 0.3103, 0.0000, 0.0000, 0.0000],\n",
      "        [0.2758, 0.2460, 0.2462, 0.2319, 0.0000, 0.0000],\n",
      "        [0.2175, 0.1983, 0.1984, 0.1888, 0.1971, 0.0000],\n",
      "        [0.1935, 0.1663, 0.1666, 0.1542, 0.1666, 0.1529]],\n",
      "       grad_fn=<DivBackward0>)\n"
     ]
    }
   ],
   "execution_count": 75
  },
  {
   "metadata": {
    "ExecuteTime": {
     "end_time": "2025-08-11T08:14:53.162851Z",
     "start_time": "2025-08-11T08:14:53.153076Z"
    }
   },
   "cell_type": "code",
   "source": [
    "# there is a simpler way to achieve the above in one go\n",
    "# attention scores ---> masked attention scores ---> masked attention weights normalized (apply softmax)\n",
    "\n",
    "mask = torch.triu(torch.ones(context_length, context_length), diagonal=1)\n",
    "masked = attn_scores.masked_fill(mask.bool(), -torch.inf)\n",
    "print(masked)\n",
    "\n",
    "\n",
    "\n",
    "\n"
   ],
   "id": "8ca97da6757e1c90",
   "outputs": [
    {
     "name": "stdout",
     "output_type": "stream",
     "text": [
      "tensor([[0.2899,   -inf,   -inf,   -inf,   -inf,   -inf],\n",
      "        [0.4656, 0.1723,   -inf,   -inf,   -inf,   -inf],\n",
      "        [0.4594, 0.1703, 0.1731,   -inf,   -inf,   -inf],\n",
      "        [0.2642, 0.1024, 0.1036, 0.0186,   -inf,   -inf],\n",
      "        [0.2183, 0.0874, 0.0882, 0.0177, 0.0786,   -inf],\n",
      "        [0.3408, 0.1270, 0.1290, 0.0198, 0.1290, 0.0078]],\n",
      "       grad_fn=<MaskedFillBackward0>)\n"
     ]
    }
   ],
   "execution_count": 78
  },
  {
   "metadata": {
    "ExecuteTime": {
     "end_time": "2025-08-11T08:17:58.711596Z",
     "start_time": "2025-08-11T08:17:58.707113Z"
    }
   },
   "cell_type": "code",
   "source": [
    "# torch.exp(torch.tensor(-999999999))\n",
    "# or\n",
    "torch.exp(torch.tensor(float(\"-inf\")))\n"
   ],
   "id": "9bcc3b02b0920686",
   "outputs": [
    {
     "data": {
      "text/plain": [
       "tensor(0.)"
      ]
     },
     "execution_count": 80,
     "metadata": {},
     "output_type": "execute_result"
    }
   ],
   "execution_count": 80
  },
  {
   "metadata": {
    "ExecuteTime": {
     "end_time": "2025-08-11T08:20:31.771538Z",
     "start_time": "2025-08-11T08:20:31.766513Z"
    }
   },
   "cell_type": "code",
   "source": [
    "# attn_weights = torch.softmax(attn_scores / d_k**0.5, dim=-1)\n",
    "attn_weights = torch.softmax(masked / d_k**0.5, dim=-1)\n",
    "print(attn_weights)"
   ],
   "id": "72cc5dcb64594c5a",
   "outputs": [
    {
     "name": "stdout",
     "output_type": "stream",
     "text": [
      "tensor([[1.0000, 0.0000, 0.0000, 0.0000, 0.0000, 0.0000],\n",
      "        [0.5517, 0.4483, 0.0000, 0.0000, 0.0000, 0.0000],\n",
      "        [0.3800, 0.3097, 0.3103, 0.0000, 0.0000, 0.0000],\n",
      "        [0.2758, 0.2460, 0.2462, 0.2319, 0.0000, 0.0000],\n",
      "        [0.2175, 0.1983, 0.1984, 0.1888, 0.1971, 0.0000],\n",
      "        [0.1935, 0.1663, 0.1666, 0.1542, 0.1666, 0.1529]],\n",
      "       grad_fn=<SoftmaxBackward0>)\n"
     ]
    }
   ],
   "execution_count": 81
  },
  {
   "metadata": {},
   "cell_type": "code",
   "outputs": [],
   "execution_count": null,
   "source": "",
   "id": "6bcdcb970f6643ea"
  }
 ],
 "metadata": {
  "kernelspec": {
   "display_name": "Python 3",
   "language": "python",
   "name": "python3"
  },
  "language_info": {
   "codemirror_mode": {
    "name": "ipython",
    "version": 2
   },
   "file_extension": ".py",
   "mimetype": "text/x-python",
   "name": "python",
   "nbconvert_exporter": "python",
   "pygments_lexer": "ipython2",
   "version": "2.7.6"
  }
 },
 "nbformat": 4,
 "nbformat_minor": 5
}
