{
 "cells": [
  {
   "cell_type": "code",
   "id": "initial_id",
   "metadata": {
    "collapsed": true,
    "ExecuteTime": {
     "end_time": "2025-08-22T12:43:29.060255Z",
     "start_time": "2025-08-22T12:43:29.046636Z"
    }
   },
   "source": [
    "from importlib.metadata import version\n",
    "\n",
    "pkgs = [\n",
    "    \"matplotlib\",\n",
    "    \"numpy\",\n",
    "    \"tiktoken\",\n",
    "    \"torch\",\n",
    "    # \"tensorflow\", # for open ai pretrained wights\n",
    "]\n",
    "\n",
    "for p in pkgs:\n",
    "    print(f\"{p}: {version(p)}\")"
   ],
   "outputs": [
    {
     "name": "stdout",
     "output_type": "stream",
     "text": [
      "matplotlib: 3.10.5\n",
      "numpy: 2.3.2\n",
      "tiktoken: 0.9.0\n",
      "torch: 2.2.2\n"
     ]
    }
   ],
   "execution_count": 4
  },
  {
   "metadata": {
    "ExecuteTime": {
     "end_time": "2025-08-22T12:45:01.037245Z",
     "start_time": "2025-08-22T12:45:01.033490Z"
    }
   },
   "cell_type": "code",
   "source": [
    "GPT_CONFIG_124M = {\n",
    "    'vocab_size': 50257, # vocab size\n",
    "    'context_length': 256, # context length\n",
    "    'emb_dim': 768, # embedding dimension\n",
    "    'n_layers': 12, # number of transformer blocks\n",
    "    'n_heads': 12, # number of attention heads\n",
    "    'drop_rate': 0.1, # dropout rate\n",
    "    'qkv_bias': False, # whether to use bias in the query, key, and value weights\n",
    "}"
   ],
   "id": "667b79cc479c0cb7",
   "outputs": [],
   "execution_count": 5
  },
  {
   "metadata": {},
   "cell_type": "code",
   "outputs": [],
   "execution_count": null,
   "source": "",
   "id": "a73ea61ac1ebfa1b"
  }
 ],
 "metadata": {
  "kernelspec": {
   "display_name": "Python 3",
   "language": "python",
   "name": "python3"
  },
  "language_info": {
   "codemirror_mode": {
    "name": "ipython",
    "version": 2
   },
   "file_extension": ".py",
   "mimetype": "text/x-python",
   "name": "python",
   "nbconvert_exporter": "python",
   "pygments_lexer": "ipython2",
   "version": "2.7.6"
  }
 },
 "nbformat": 4,
 "nbformat_minor": 5
}
