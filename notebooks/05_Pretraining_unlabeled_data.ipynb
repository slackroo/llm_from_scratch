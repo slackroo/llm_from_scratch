{
 "cells": [
  {
   "cell_type": "code",
   "id": "initial_id",
   "metadata": {
    "collapsed": true,
    "ExecuteTime": {
     "end_time": "2025-08-31T16:38:00.357Z",
     "start_time": "2025-08-31T16:38:00.341863Z"
    }
   },
   "source": [
    "from importlib.metadata import version\n",
    "\n",
    "pkgs = [\n",
    "    \"matplotlib\",\n",
    "    \"numpy\",\n",
    "    \"tiktoken\",\n",
    "    \"torch\",\n",
    "    # \"tensorflow\", # for open ai pretrained wights\n",
    "]\n",
    "\n",
    "for p in pkgs:\n",
    "    print(f\"{p}: {version(p)}\")\n",
    "\n",
    "import torch\n",
    "\n",
    "torch.set_printoptions(\n",
    "    sci_mode=False,      # Turn off scientific notation\n",
    "    precision=4,         # Number of decimal places\n",
    "    threshold=100,      # Number of elements to print before summarizing\n",
    "    linewidth=120        # Characters per line before wrapping\n",
    ")\n"
   ],
   "outputs": [
    {
     "name": "stdout",
     "output_type": "stream",
     "text": [
      "matplotlib: 3.10.5\n",
      "numpy: 2.3.2\n",
      "tiktoken: 0.9.0\n",
      "torch: 2.2.2\n"
     ]
    }
   ],
   "execution_count": 72
  },
  {
   "metadata": {
    "ExecuteTime": {
     "end_time": "2025-08-31T16:24:30.442195Z",
     "start_time": "2025-08-31T16:24:30.418813Z"
    }
   },
   "cell_type": "code",
   "source": [
    "from gpt_helpers import GPTModel\n",
    "\n",
    "GPT_CONFIG_124M = {\n",
    "    'vocab_size': 50257,  # vocab size\n",
    "    'context_length': 256,  # context length\n",
    "    'emb_dim': 768,  # embedding dimension\n",
    "    'n_layers': 12,  # number of transformer blocks\n",
    "    'n_heads': 12,  # number of attention heads\n",
    "    'drop_rate': 0.1,  # dropout rate\n",
    "    'qkv_bias': False,  # whether to use bias in the query, key, and value weights\n",
    "}"
   ],
   "id": "667b79cc479c0cb7",
   "outputs": [],
   "execution_count": 2
  },
  {
   "metadata": {
    "ExecuteTime": {
     "end_time": "2025-08-31T16:24:31.499819Z",
     "start_time": "2025-08-31T16:24:30.450888Z"
    }
   },
   "cell_type": "code",
   "source": [
    "\n",
    "\n",
    "torch.manual_seed(456)\n",
    "\n",
    "model = GPTModel(GPT_CONFIG_124M)\n",
    "# model.eval()    # this shows the model architecture\n",
    "model.eval();\n"
   ],
   "id": "a73ea61ac1ebfa1b",
   "outputs": [],
   "execution_count": 3
  },
  {
   "metadata": {
    "ExecuteTime": {
     "end_time": "2025-08-31T16:24:31.585010Z",
     "start_time": "2025-08-31T16:24:31.581834Z"
    }
   },
   "cell_type": "code",
   "source": [
    "import tiktoken\n",
    "from gpt_helpers import generate_text_simple\n",
    "\n",
    "\n",
    "def text_to_token_ids(text, tokenizer):\n",
    "    encoded = tokenizer.encode(text, allowed_special={\"<|endoftext|>\"})\n",
    "    encoded_tensor = torch.tensor(encoded).unsqueeze(0)  #adding batch dimension for the current architecture\n",
    "    return encoded_tensor\n",
    "\n",
    "\n"
   ],
   "id": "a4cc3a40f48e20a6",
   "outputs": [],
   "execution_count": 4
  },
  {
   "metadata": {
    "ExecuteTime": {
     "end_time": "2025-08-31T16:24:31.864868Z",
     "start_time": "2025-08-31T16:24:31.594897Z"
    }
   },
   "cell_type": "code",
   "source": [
    "start_context = \"Every effort moves you\"\n",
    "tokenizer = tiktoken.get_encoding(\"gpt2\")\n",
    "\n",
    "token_ids = text_to_token_ids(start_context, tokenizer)\n",
    "print(token_ids)"
   ],
   "id": "aa080f18ae2826bc",
   "outputs": [
    {
     "name": "stdout",
     "output_type": "stream",
     "text": [
      "tensor([[6109, 3626, 6100,  345]])\n"
     ]
    }
   ],
   "execution_count": 5
  },
  {
   "metadata": {
    "ExecuteTime": {
     "end_time": "2025-08-31T16:24:31.875928Z",
     "start_time": "2025-08-31T16:24:31.872322Z"
    }
   },
   "cell_type": "code",
   "source": [
    "def token_ids_to_text(token_ids, tokenizer):\n",
    "    flat = token_ids.squeeze(0)  # remove batch dimension\n",
    "    return tokenizer.decode(flat.tolist())\n",
    "\n",
    "\n",
    "print(token_ids_to_text(token_ids, tokenizer))"
   ],
   "id": "7609d7490ba36d08",
   "outputs": [
    {
     "name": "stdout",
     "output_type": "stream",
     "text": [
      "Every effort moves you\n"
     ]
    }
   ],
   "execution_count": 6
  },
  {
   "metadata": {
    "ExecuteTime": {
     "end_time": "2025-08-31T16:24:32.336832Z",
     "start_time": "2025-08-31T16:24:31.913889Z"
    }
   },
   "cell_type": "code",
   "source": [
    "token_ids = generate_text_simple(\n",
    "    model=model,\n",
    "    idx=text_to_token_ids(start_context, tokenizer),\n",
    "    max_new_tokens=10,\n",
    "    context_size=GPT_CONFIG_124M['context_length']\n",
    ")\n",
    "\n",
    "print(token_ids.squeeze(0))"
   ],
   "id": "9796441d787f47d2",
   "outputs": [
    {
     "name": "stdout",
     "output_type": "stream",
     "text": [
      "tensor([ 6109,  3626,  6100,   345, 13443, 37191, 25420, 23390, 35735, 37542, 27518, 24287, 31523,  8074])\n"
     ]
    }
   ],
   "execution_count": 7
  },
  {
   "metadata": {
    "ExecuteTime": {
     "end_time": "2025-08-31T16:24:32.362195Z",
     "start_time": "2025-08-31T16:24:32.358131Z"
    }
   },
   "cell_type": "code",
   "source": "print(token_ids_to_text(token_ids, tokenizer))",
   "id": "98f23c49219cca6",
   "outputs": [
    {
     "name": "stdout",
     "output_type": "stream",
     "text": [
      "Every effort moves you vague trousers deepest cyclistsurnal rpm discourage northeast breaches Hom\n"
     ]
    }
   ],
   "execution_count": 8
  },
  {
   "metadata": {
    "ExecuteTime": {
     "end_time": "2025-08-31T16:24:32.396137Z",
     "start_time": "2025-08-31T16:24:32.391443Z"
    }
   },
   "cell_type": "code",
   "source": "print(token_ids[0, :5])",
   "id": "13da4f20659fa484",
   "outputs": [
    {
     "name": "stdout",
     "output_type": "stream",
     "text": [
      "tensor([ 6109,  3626,  6100,   345, 13443])\n"
     ]
    }
   ],
   "execution_count": 9
  },
  {
   "metadata": {},
   "cell_type": "markdown",
   "source": "# 5.1.2 calculating the text generation loss: Cross entropy  and perplexity",
   "id": "fb273570e4386e22"
  },
  {
   "metadata": {
    "ExecuteTime": {
     "end_time": "2025-08-31T16:24:32.433219Z",
     "start_time": "2025-08-31T16:24:32.427148Z"
    }
   },
   "cell_type": "code",
   "source": [
    "print(text_to_token_ids(\"every effort moves\", tokenizer))\n",
    "print(text_to_token_ids(\"I really like\", tokenizer))\n",
    "print(text_to_token_ids(\" effort moves you\", tokenizer))\n",
    "print(text_to_token_ids(\" really like chocolate\", tokenizer))"
   ],
   "id": "7e4d83e63b6d5a86",
   "outputs": [
    {
     "name": "stdout",
     "output_type": "stream",
     "text": [
      "tensor([[16833,  3626,  6100]])\n",
      "tensor([[  40, 1107,  588]])\n",
      "tensor([[3626, 6100,  345]])\n",
      "tensor([[ 1107,   588, 11311]])\n"
     ]
    }
   ],
   "execution_count": 10
  },
  {
   "metadata": {
    "ExecuteTime": {
     "end_time": "2025-08-31T16:24:32.475287Z",
     "start_time": "2025-08-31T16:24:32.471456Z"
    }
   },
   "cell_type": "code",
   "source": [
    "# lets look at some example of logits\n",
    "\n",
    "inputs = torch.tensor([[16833, 3626, 6100],\n",
    "                       [40, 1107, 588]])\n",
    "\n",
    "targets = torch.tensor([[3626, 6100, 345],\n",
    "                        [1107, 588, 11311]])\n",
    "\n"
   ],
   "id": "b28c81e89d5bde4b",
   "outputs": [],
   "execution_count": 11
  },
  {
   "metadata": {
    "ExecuteTime": {
     "end_time": "2025-08-31T16:24:32.542998Z",
     "start_time": "2025-08-31T16:24:32.491671Z"
    }
   },
   "cell_type": "code",
   "source": [
    "with torch.no_grad():\n",
    "    logits = model(inputs)\n",
    "\n",
    "print(logits.shape)\n"
   ],
   "id": "df4b89995146597d",
   "outputs": [
    {
     "name": "stdout",
     "output_type": "stream",
     "text": [
      "torch.Size([2, 3, 50257])\n"
     ]
    }
   ],
   "execution_count": 12
  },
  {
   "metadata": {
    "ExecuteTime": {
     "end_time": "2025-08-31T16:24:32.565750Z",
     "start_time": "2025-08-31T16:24:32.557494Z"
    }
   },
   "cell_type": "code",
   "source": [
    "probas = torch.softmax(logits, dim=-1)\n",
    "probas.shape"
   ],
   "id": "c5b730c5711f1cc6",
   "outputs": [
    {
     "data": {
      "text/plain": [
       "torch.Size([2, 3, 50257])"
      ]
     },
     "execution_count": 13,
     "metadata": {},
     "output_type": "execute_result"
    }
   ],
   "execution_count": 13
  },
  {
   "metadata": {
    "ExecuteTime": {
     "end_time": "2025-08-31T16:24:32.606059Z",
     "start_time": "2025-08-31T16:24:32.599718Z"
    }
   },
   "cell_type": "code",
   "source": "probas",
   "id": "3125c72bb6cfeaa",
   "outputs": [
    {
     "data": {
      "text/plain": [
       "tensor([[[    0.0000,     0.0001,     0.0001,  ...,     0.0000,     0.0000,     0.0000],\n",
       "         [    0.0000,     0.0000,     0.0000,  ...,     0.0000,     0.0000,     0.0000],\n",
       "         [    0.0000,     0.0001,     0.0000,  ...,     0.0000,     0.0000,     0.0000]],\n",
       "\n",
       "        [[    0.0000,     0.0000,     0.0000,  ...,     0.0000,     0.0000,     0.0000],\n",
       "         [    0.0000,     0.0000,     0.0001,  ...,     0.0000,     0.0000,     0.0000],\n",
       "         [    0.0000,     0.0000,     0.0000,  ...,     0.0000,     0.0000,     0.0000]]])"
      ]
     },
     "execution_count": 14,
     "metadata": {},
     "output_type": "execute_result"
    }
   ],
   "execution_count": 14
  },
  {
   "metadata": {
    "ExecuteTime": {
     "end_time": "2025-08-31T16:24:32.638742Z",
     "start_time": "2025-08-31T16:24:32.634487Z"
    }
   },
   "cell_type": "code",
   "source": [
    "token_ids = torch.argmax(probas, dim=-1, keepdim=True)\n",
    "print(\"Token IDs:\\n\", token_ids)\n",
    "# token_ids_to_text(preds, tokenizer)"
   ],
   "id": "f0d23174b61035a0",
   "outputs": [
    {
     "name": "stdout",
     "output_type": "stream",
     "text": [
      "Token IDs:\n",
      " tensor([[[ 5365],\n",
      "         [13774],\n",
      "         [30197]],\n",
      "\n",
      "        [[41229],\n",
      "         [31634],\n",
      "         [ 7710]]])\n"
     ]
    }
   ],
   "execution_count": 15
  },
  {
   "metadata": {
    "ExecuteTime": {
     "end_time": "2025-08-31T16:24:32.684685Z",
     "start_time": "2025-08-31T16:24:32.681200Z"
    }
   },
   "cell_type": "code",
   "source": [
    "print(f\"Targets batch 1: {token_ids_to_text(targets[0], tokenizer)}\")\n",
    "print(f\"ouputs batch 1: {token_ids_to_text(token_ids[0].flatten(), tokenizer)}\")"
   ],
   "id": "27904dd24672bb75",
   "outputs": [
    {
     "name": "stdout",
     "output_type": "stream",
     "text": [
      "Targets batch 1:  effort moves you\n",
      "ouputs batch 1:  relatively crying Northwestern\n"
     ]
    }
   ],
   "execution_count": 16
  },
  {
   "metadata": {
    "ExecuteTime": {
     "end_time": "2025-08-31T16:24:32.712410Z",
     "start_time": "2025-08-31T16:24:32.710110Z"
    }
   },
   "cell_type": "code",
   "source": "# targets[txt_idx]",
   "id": "6cee5e06e5bd2454",
   "outputs": [],
   "execution_count": 17
  },
  {
   "metadata": {
    "ExecuteTime": {
     "end_time": "2025-08-31T16:24:32.737691Z",
     "start_time": "2025-08-31T16:24:32.733808Z"
    }
   },
   "cell_type": "code",
   "source": [
    "# what iss the probability of the target token for the target ( actually what it should have been )\n",
    "txt_idx = 0\n",
    "target_probas1 = probas[txt_idx, [0, 1, 2], targets[txt_idx]]\n",
    "print(\"text 1:\", target_probas1)\n",
    "# ideally we want to increase the above probability score during training"
   ],
   "id": "e0fa493f687890ca",
   "outputs": [
    {
     "name": "stdout",
     "output_type": "stream",
     "text": [
      "text 1: tensor([    0.0000,     0.0001,     0.0000])\n"
     ]
    }
   ],
   "execution_count": 18
  },
  {
   "metadata": {
    "ExecuteTime": {
     "end_time": "2025-08-31T16:24:32.785657Z",
     "start_time": "2025-08-31T16:24:32.781201Z"
    }
   },
   "cell_type": "code",
   "source": [
    "# what iss the probability of the target token for the target ( actually what it should have been )\n",
    "txt_idx = 1\n",
    "target_probas2 = probas[txt_idx, [0, 1, 2], targets[txt_idx]]\n",
    "print(\"text 2:\", target_probas2)"
   ],
   "id": "5f8640140770449e",
   "outputs": [
    {
     "name": "stdout",
     "output_type": "stream",
     "text": [
      "text 2: tensor([    0.0000,     0.0000,     0.0000])\n"
     ]
    }
   ],
   "execution_count": 19
  },
  {
   "metadata": {
    "ExecuteTime": {
     "end_time": "2025-08-31T16:24:32.837222Z",
     "start_time": "2025-08-31T16:24:32.833112Z"
    }
   },
   "cell_type": "code",
   "source": [
    "# whats the error?\n",
    "# compute the log probabilities\n",
    "log_probas = torch.log(torch.cat((target_probas1, target_probas2)))\n",
    "print(log_probas)"
   ],
   "id": "e4095870bd1c79a9",
   "outputs": [
    {
     "name": "stdout",
     "output_type": "stream",
     "text": [
      "tensor([-10.5025,  -9.6969, -11.0536, -10.3832, -10.6481, -11.6515])\n"
     ]
    }
   ],
   "execution_count": 20
  },
  {
   "metadata": {
    "ExecuteTime": {
     "end_time": "2025-08-31T16:24:32.888613Z",
     "start_time": "2025-08-31T16:24:32.884312Z"
    }
   },
   "cell_type": "code",
   "source": [
    "# negative log likelihood\n",
    "-1 * torch.mean(log_probas)\n",
    "# the idea is to make this close to zero"
   ],
   "id": "34fe65a2a0f911ea",
   "outputs": [
    {
     "data": {
      "text/plain": [
       "tensor(10.6560)"
      ]
     },
     "execution_count": 21,
     "metadata": {},
     "output_type": "execute_result"
    }
   ],
   "execution_count": 21
  },
  {
   "metadata": {
    "ExecuteTime": {
     "end_time": "2025-08-31T16:24:32.936093Z",
     "start_time": "2025-08-31T16:24:32.931806Z"
    }
   },
   "cell_type": "code",
   "source": [
    "print(torch.log(torch.tensor([1.0])))\n",
    "print(torch.log(torch.tensor([0.00000000000003])))"
   ],
   "id": "3ed801c4e36ecea5",
   "outputs": [
    {
     "name": "stdout",
     "output_type": "stream",
     "text": [
      "tensor([0.])\n",
      "tensor([-31.1376])\n"
     ]
    }
   ],
   "execution_count": 22
  },
  {
   "metadata": {
    "ExecuteTime": {
     "end_time": "2025-08-31T16:24:33.005924Z",
     "start_time": "2025-08-31T16:24:33.002135Z"
    }
   },
   "cell_type": "code",
   "source": "logits.shape",
   "id": "86472c14f722426",
   "outputs": [
    {
     "data": {
      "text/plain": [
       "torch.Size([2, 3, 50257])"
      ]
     },
     "execution_count": 23,
     "metadata": {},
     "output_type": "execute_result"
    }
   ],
   "execution_count": 23
  },
  {
   "metadata": {
    "ExecuteTime": {
     "end_time": "2025-08-31T16:24:33.077811Z",
     "start_time": "2025-08-31T16:24:33.071993Z"
    }
   },
   "cell_type": "code",
   "source": [
    "logits_flat = logits.flatten(0, 1)\n",
    "logits_flat.shape"
   ],
   "id": "46af680486257705",
   "outputs": [
    {
     "data": {
      "text/plain": [
       "torch.Size([6, 50257])"
      ]
     },
     "execution_count": 24,
     "metadata": {},
     "output_type": "execute_result"
    }
   ],
   "execution_count": 24
  },
  {
   "metadata": {
    "ExecuteTime": {
     "end_time": "2025-08-31T16:24:33.139781Z",
     "start_time": "2025-08-31T16:24:33.135664Z"
    }
   },
   "cell_type": "code",
   "source": [
    "targets_flat = targets.flatten(0, 1)\n",
    "targets_flat.shape"
   ],
   "id": "62fddfc80b857d3e",
   "outputs": [
    {
     "data": {
      "text/plain": [
       "torch.Size([6])"
      ]
     },
     "execution_count": 25,
     "metadata": {},
     "output_type": "execute_result"
    }
   ],
   "execution_count": 25
  },
  {
   "metadata": {
    "ExecuteTime": {
     "end_time": "2025-08-31T16:24:33.195219Z",
     "start_time": "2025-08-31T16:24:33.188477Z"
    }
   },
   "cell_type": "code",
   "source": [
    "targets_flat = targets.flatten(0, 1)\n",
    "targets_flat.shape\n"
   ],
   "id": "51df23cbf8c5742d",
   "outputs": [
    {
     "data": {
      "text/plain": [
       "torch.Size([6])"
      ]
     },
     "execution_count": 26,
     "metadata": {},
     "output_type": "execute_result"
    }
   ],
   "execution_count": 26
  },
  {
   "metadata": {
    "ExecuteTime": {
     "end_time": "2025-08-31T16:24:33.267128Z",
     "start_time": "2025-08-31T16:24:33.262591Z"
    }
   },
   "cell_type": "code",
   "source": [
    "# pytorch shortcut\n",
    "\n",
    "torch.nn.functional.cross_entropy(logits_flat, targets_flat)"
   ],
   "id": "4bb05048084e9fcd",
   "outputs": [
    {
     "data": {
      "text/plain": [
       "tensor(10.6560)"
      ]
     },
     "execution_count": 27,
     "metadata": {},
     "output_type": "execute_result"
    }
   ],
   "execution_count": 27
  },
  {
   "metadata": {},
   "cell_type": "markdown",
   "source": "# Calculating the loss",
   "id": "b37c009a432d9f5b"
  },
  {
   "metadata": {
    "ExecuteTime": {
     "end_time": "2025-08-31T16:24:33.325414Z",
     "start_time": "2025-08-31T16:24:33.320564Z"
    }
   },
   "cell_type": "code",
   "source": [
    "import os\n",
    "import urllib.request\n",
    "\n",
    "with open('docs/the-verdict.txt', 'r', encoding='utf-8') as f:\n",
    "    raw_text = f.read()"
   ],
   "id": "338f9b55df9a5e6f",
   "outputs": [],
   "execution_count": 28
  },
  {
   "metadata": {
    "ExecuteTime": {
     "end_time": "2025-08-31T16:24:33.371583Z",
     "start_time": "2025-08-31T16:24:33.367797Z"
    }
   },
   "cell_type": "code",
   "source": "raw_text[:100]",
   "id": "27f83dc75532528a",
   "outputs": [
    {
     "data": {
      "text/plain": [
       "'I HAD always thought Jack Gisburn rather a cheap genius--though a good fellow enough--so it was no g'"
      ]
     },
     "execution_count": 29,
     "metadata": {},
     "output_type": "execute_result"
    }
   ],
   "execution_count": 29
  },
  {
   "metadata": {
    "ExecuteTime": {
     "end_time": "2025-08-31T16:24:33.411705Z",
     "start_time": "2025-08-31T16:24:33.404091Z"
    }
   },
   "cell_type": "code",
   "source": [
    "total_characters = len(raw_text)\n",
    "total_tokens = len(tokenizer.encode(raw_text))\n",
    "\n",
    "print(f\"Total Characters: {total_characters}\")\n",
    "print(f\"Total Tokens: {total_tokens}\")"
   ],
   "id": "9bcc6256c02ca931",
   "outputs": [
    {
     "name": "stdout",
     "output_type": "stream",
     "text": [
      "Total Characters: 20479\n",
      "Total Tokens: 5145\n"
     ]
    }
   ],
   "execution_count": 30
  },
  {
   "metadata": {
    "ExecuteTime": {
     "end_time": "2025-08-31T16:24:33.440345Z",
     "start_time": "2025-08-31T16:24:33.437258Z"
    }
   },
   "cell_type": "code",
   "source": [
    "# split the data to training set and validation set\n",
    "\n",
    "from gpt_helpers import create_dataloaderV1\n",
    "\n",
    "# Train/Validation ratio\n",
    "train_ratio = 0.90\n",
    "split_idx = int(len(raw_text) * train_ratio)\n",
    "train_data = raw_text[:split_idx]\n",
    "val_data = raw_text[split_idx:]\n"
   ],
   "id": "5fdb23272da5e4ae",
   "outputs": [],
   "execution_count": 31
  },
  {
   "metadata": {
    "ExecuteTime": {
     "end_time": "2025-08-31T16:24:33.468783Z",
     "start_time": "2025-08-31T16:24:33.459928Z"
    }
   },
   "cell_type": "code",
   "source": [
    "torch.manual_seed(123)\n",
    "\n",
    "train_loader = create_dataloaderV1(\n",
    "    train_data,\n",
    "    batch_size=2,\n",
    "    max_length=GPT_CONFIG_124M['context_length'],\n",
    "    stride=GPT_CONFIG_124M['context_length'],\n",
    "    drop_last=True,\n",
    "    shuffle=True,\n",
    "    num_workers=0,\n",
    ")\n",
    "\n",
    "val_loader = create_dataloaderV1(\n",
    "    val_data,\n",
    "    batch_size=2,\n",
    "    max_length=GPT_CONFIG_124M['context_length'],\n",
    "    stride=GPT_CONFIG_124M['context_length'],\n",
    "    drop_last=False,\n",
    "    shuffle=False,\n",
    "    num_workers=0,\n",
    ")\n",
    "\n"
   ],
   "id": "f45a46728a944a58",
   "outputs": [],
   "execution_count": 32
  },
  {
   "metadata": {
    "ExecuteTime": {
     "end_time": "2025-08-31T16:24:33.483302Z",
     "start_time": "2025-08-31T16:24:33.478537Z"
    }
   },
   "cell_type": "code",
   "source": [
    "print(\"Train loader\")\n",
    "\n",
    "for x, y in train_loader:\n",
    "    pass\n",
    "print(x.shape, y.shape)"
   ],
   "id": "da11a29e7aeebaa7",
   "outputs": [
    {
     "name": "stdout",
     "output_type": "stream",
     "text": [
      "Train loader\n",
      "torch.Size([2, 256]) torch.Size([2, 256])\n"
     ]
    }
   ],
   "execution_count": 33
  },
  {
   "metadata": {
    "ExecuteTime": {
     "end_time": "2025-08-31T16:24:33.511023Z",
     "start_time": "2025-08-31T16:24:33.505799Z"
    }
   },
   "cell_type": "code",
   "source": [
    "print(\"Validation loader\")\n",
    "\n",
    "for x, y in val_loader:\n",
    "    pass\n",
    "print(x.shape, y.shape)"
   ],
   "id": "a7a2bd1af3d0f345",
   "outputs": [
    {
     "name": "stdout",
     "output_type": "stream",
     "text": [
      "Validation loader\n",
      "torch.Size([2, 256]) torch.Size([2, 256])\n"
     ]
    }
   ],
   "execution_count": 34
  },
  {
   "metadata": {
    "ExecuteTime": {
     "end_time": "2025-08-31T16:24:33.537105Z",
     "start_time": "2025-08-31T16:24:33.533501Z"
    }
   },
   "cell_type": "code",
   "source": "x.numel()",
   "id": "8ca2e7928c96d347",
   "outputs": [
    {
     "data": {
      "text/plain": [
       "512"
      ]
     },
     "execution_count": 35,
     "metadata": {},
     "output_type": "execute_result"
    }
   ],
   "execution_count": 35
  },
  {
   "metadata": {
    "ExecuteTime": {
     "end_time": "2025-08-31T16:24:33.585201Z",
     "start_time": "2025-08-31T16:24:33.583551Z"
    }
   },
   "cell_type": "code",
   "source": "",
   "id": "2adf749b46ffcd72",
   "outputs": [],
   "execution_count": null
  },
  {
   "metadata": {
    "ExecuteTime": {
     "end_time": "2025-08-31T16:24:33.606458Z",
     "start_time": "2025-08-31T16:24:33.601663Z"
    }
   },
   "cell_type": "code",
   "source": [
    "train_tokens = 0\n",
    "for input_batch, target_batch in train_loader:\n",
    "    train_tokens += input_batch.numel()\n",
    "\n",
    "val_tokens = 0\n",
    "for input_batch, target_batch in val_loader:\n",
    "    val_tokens += input_batch.numel()\n",
    "\n",
    "print(\"train tokens:\", train_tokens)\n",
    "print(\"val tokens:\", val_tokens)\n",
    "print(\"all tokens:\", train_tokens + val_tokens)"
   ],
   "id": "543169edce07b1b1",
   "outputs": [
    {
     "name": "stdout",
     "output_type": "stream",
     "text": [
      "train tokens: 4608\n",
      "val tokens: 512\n",
      "all tokens: 5120\n"
     ]
    }
   ],
   "execution_count": 36
  },
  {
   "metadata": {
    "ExecuteTime": {
     "end_time": "2025-08-31T16:24:33.655504Z",
     "start_time": "2025-08-31T16:24:33.651881Z"
    }
   },
   "cell_type": "code",
   "source": [
    "device = torch.device(\"cuda\" if torch.cuda.is_available() else \"cpu\")\n",
    "device"
   ],
   "id": "72a0b25fd720b05d",
   "outputs": [
    {
     "data": {
      "text/plain": [
       "device(type='cpu')"
      ]
     },
     "execution_count": 37,
     "metadata": {},
     "output_type": "execute_result"
    }
   ],
   "execution_count": 37
  },
  {
   "metadata": {
    "ExecuteTime": {
     "end_time": "2025-08-31T16:24:33.692901Z",
     "start_time": "2025-08-31T16:24:33.688403Z"
    }
   },
   "cell_type": "code",
   "source": "len(train_loader)",
   "id": "44262636f5893a42",
   "outputs": [
    {
     "data": {
      "text/plain": [
       "9"
      ]
     },
     "execution_count": 38,
     "metadata": {},
     "output_type": "execute_result"
    }
   ],
   "execution_count": 38
  },
  {
   "metadata": {
    "ExecuteTime": {
     "end_time": "2025-08-31T16:24:33.738773Z",
     "start_time": "2025-08-31T16:24:33.733434Z"
    }
   },
   "cell_type": "code",
   "source": [
    "def calc_loss_batch(input_batch, target_batch, model, device):\n",
    "    input_batch, target_batch = input_batch.to(device), target_batch.to(device)\n",
    "    logits = model(input_batch)\n",
    "    loss = torch.nn.functional.cross_entropy(logits.flatten(0, 1), target_batch.flatten())\n",
    "    return loss\n",
    "\n",
    "\n",
    "def calc_loss_loader(data_loader, model, device, num_batches=None):\n",
    "    total_loss = 0.0\n",
    "    if len(data_loader) == 0:\n",
    "        return float(\"nan\")\n",
    "    elif num_batches is None:\n",
    "        num_batches = len(data_loader)\n",
    "    else:\n",
    "        # Reduce the number of batches to match the total number of batches in the dataloader\n",
    "        # if num_batches excceds the number of batches in  the data loader\n",
    "        num_batches = min(num_batches, len(data_loader))\n",
    "    for i, (input_batch, target_batch) in enumerate(data_loader):\n",
    "        if i < num_batches:\n",
    "            loss = calc_loss_batch(input_batch, target_batch, model, device)\n",
    "            total_loss += loss.item()\n",
    "        else:\n",
    "            break\n",
    "    return total_loss / num_batches\n",
    "\n"
   ],
   "id": "8e560a5a5f127298",
   "outputs": [],
   "execution_count": 39
  },
  {
   "metadata": {
    "ExecuteTime": {
     "end_time": "2025-08-31T16:24:40.379179Z",
     "start_time": "2025-08-31T16:24:33.752873Z"
    }
   },
   "cell_type": "code",
   "source": [
    "# for reproducability due to thee shuffling in the dataloader\n",
    "torch.manual_seed(123)\n",
    "\n",
    "with torch.no_grad():\n",
    "    train_loss = calc_loss_loader(train_loader, model, device)\n",
    "    val_loss = calc_loss_loader(val_loader, model, device)\n",
    "\n",
    "print(f\"train loss: {train_loss:.4f}, val loss: {val_loss:.4f}\")"
   ],
   "id": "438527621a67a6d2",
   "outputs": [
    {
     "name": "stdout",
     "output_type": "stream",
     "text": [
      "train loss: 10.9898, val loss: 10.9956\n"
     ]
    }
   ],
   "execution_count": 40
  },
  {
   "metadata": {},
   "cell_type": "markdown",
   "source": "#  Perplexity",
   "id": "d479d6fd3352a7d6"
  },
  {
   "metadata": {
    "ExecuteTime": {
     "end_time": "2025-08-31T16:24:40.416060Z",
     "start_time": "2025-08-31T16:24:40.411475Z"
    }
   },
   "cell_type": "code",
   "source": [
    "# perplexity score, it basically says how unsure the model is about the words it predicts\n",
    "torch.exp(torch.tensor(train_loss))"
   ],
   "id": "2d3c0adc7e8c01cb",
   "outputs": [
    {
     "data": {
      "text/plain": [
       "tensor(59267.2891)"
      ]
     },
     "execution_count": 41,
     "metadata": {},
     "output_type": "execute_result"
    }
   ],
   "execution_count": 41
  },
  {
   "metadata": {},
   "cell_type": "markdown",
   "source": "# training the LLM",
   "id": "a4f59ff674e18881"
  },
  {
   "metadata": {
    "ExecuteTime": {
     "end_time": "2025-08-31T16:24:40.441150Z",
     "start_time": "2025-08-31T16:24:40.433669Z"
    }
   },
   "cell_type": "code",
   "source": [
    "def train_model_simple(model, train_loader, val_loader, optimizer, device, num_epochs,\n",
    "                       eval_freq, eval_iter, start_context, tokenizer):\n",
    "    # Initialize lists to track losses and tokens seen\n",
    "    train_losses, val_losses, track_tokens_seen = [], [], []\n",
    "    tokens_seen, global_step = 0, -1\n",
    "\n",
    "    # Main training loop\n",
    "    for epoch in range(num_epochs):\n",
    "        model.train()  # Set model to training mode\n",
    "\n",
    "        for input_batch, target_batch in train_loader:\n",
    "            optimizer.zero_grad()  # Reset loss gradients from previous batch iteration\n",
    "            loss = calc_loss_batch(input_batch, target_batch, model, device)\n",
    "            loss.backward()  # Calculate loss gradients\n",
    "            optimizer.step()  # Update model weights using loss gradients\n",
    "            tokens_seen += input_batch.numel()\n",
    "            global_step += 1\n",
    "\n",
    "            # Optional evaluation step\n",
    "            if global_step % eval_freq == 0:\n",
    "                train_loss, val_loss = evaluate_model(\n",
    "                    model, train_loader, val_loader, device, eval_iter)\n",
    "                train_losses.append(train_loss)\n",
    "                val_losses.append(val_loss)\n",
    "                track_tokens_seen.append(tokens_seen)\n",
    "                print(f\"Ep {epoch + 1} (Step {global_step:06d}): \"\n",
    "                      f\"Train loss {train_loss:.3f}, Val loss {val_loss:.3f}\")\n",
    "\n",
    "        # Print a sample text after each epoch\n",
    "        generate_and_print_sample(\n",
    "            model, tokenizer, device, start_context\n",
    "        )\n",
    "\n",
    "    return train_losses, val_losses, track_tokens_seen\n",
    "\n",
    "\n",
    "def evaluate_model(model, train_loader, val_loader, device, eval_iter):\n",
    "    model.eval()\n",
    "    with torch.no_grad():\n",
    "        train_loss = calc_loss_loader(train_loader, model, device, num_batches=eval_iter)\n",
    "        val_loss = calc_loss_loader(val_loader, model, device, num_batches=eval_iter)\n",
    "    model.train()\n",
    "    return train_loss, val_loss\n",
    "\n",
    "\n",
    "def generate_and_print_sample(model, tokenizer, device, start_context):\n",
    "    model.eval()\n",
    "    context_size = model.pos_emb.weight.shape[0]\n",
    "    encoded = text_to_token_ids(start_context, tokenizer).to(device)\n",
    "    with torch.no_grad():\n",
    "        token_ids = generate_text_simple(\n",
    "            model=model, idx=encoded,\n",
    "            max_new_tokens=50, context_size=context_size\n",
    "        )\n",
    "    decoded_text = token_ids_to_text(token_ids, tokenizer)\n",
    "    print(decoded_text.replace(\"\\n\", \" \"))  # Compact print format\n",
    "    model.train()"
   ],
   "id": "580cf30974d33582",
   "outputs": [],
   "execution_count": 42
  },
  {
   "metadata": {
    "ExecuteTime": {
     "end_time": "2025-08-31T16:24:44.734392Z",
     "start_time": "2025-08-31T16:24:40.453291Z"
    }
   },
   "cell_type": "code",
   "source": [
    "torch.manual_seed(123)\n",
    "\n",
    "model = GPTModel(GPT_CONFIG_124M)\n",
    "model.to(device)\n",
    "optimizer = torch.optim.AdamW(model.parameters(), lr=0.0004, weight_decay=0.1)"
   ],
   "id": "3701de8d0977e586",
   "outputs": [],
   "execution_count": 43
  },
  {
   "metadata": {
    "ExecuteTime": {
     "end_time": "2025-08-31T16:33:26.667008Z",
     "start_time": "2025-08-31T16:24:44.763386Z"
    }
   },
   "cell_type": "code",
   "source": [
    "num_epochs = 10\n",
    "train_losses, val_losses, token_seen = train_model_simple(\n",
    "    model, train_loader, val_loader, optimizer, device, num_epochs=num_epochs,\n",
    "    eval_freq=5, eval_iter=5, start_context=\"Every effort moves you\", tokenizer=tokenizer\n",
    ")"
   ],
   "id": "fe1fe618aac85b2f",
   "outputs": [
    {
     "name": "stdout",
     "output_type": "stream",
     "text": [
      "Ep 1 (Step 000000): Train loss 9.783, Val loss 9.927\n",
      "Ep 1 (Step 000005): Train loss 7.985, Val loss 8.335\n",
      "Every effort moves you,,,,,,,,,,,,.                                     \n",
      "Ep 2 (Step 000010): Train loss 6.753, Val loss 7.048\n",
      "Ep 2 (Step 000015): Train loss 6.114, Val loss 6.573\n",
      "Every effort moves you, and,, and, and,,,,, and, and,,,,,,,,,,,,,, and,,,, and,, and,,,,, and,,,,,,\n",
      "Ep 3 (Step 000020): Train loss 5.525, Val loss 6.490\n",
      "Ep 3 (Step 000025): Train loss 5.324, Val loss 6.387\n",
      "Every effort moves you, and to the picture.                      \"I, and the of the of the's the honour, and, and I had been, and I\n",
      "Ep 4 (Step 000030): Train loss 4.761, Val loss 6.360\n",
      "Ep 4 (Step 000035): Train loss 4.461, Val loss 6.258\n",
      "Every effort moves you of the to the picture--as of the picture--as I had been \" it was his \" I was the     \"I was his I had been the his pictures--and it the picture and I had been the picture of\n",
      "Ep 5 (Step 000040): Train loss 3.833, Val loss 6.196\n",
      "Every effort moves you know the \"Oh, and he was not the fact by his last word.         \"I was.      \"Oh, I felt a little a little the    \n",
      "Ep 6 (Step 000045): Train loss 3.352, Val loss 6.139\n",
      "Ep 6 (Step 000050): Train loss 2.861, Val loss 6.112\n",
      "Every effort moves you know; and my dear, and he was not the fact with a little of the house of the fact of the fact, and.                       \n",
      "Ep 7 (Step 000055): Train loss 2.347, Val loss 6.138\n",
      "Ep 7 (Step 000060): Train loss 2.084, Val loss 6.179\n",
      "Every effort moves you know,\" was one of the picture for nothing--I told Mrs.  \"I looked--as of the fact, and I felt him--his back his head to the donkey. \"Oh, and_--because he had always _\n",
      "Ep 8 (Step 000065): Train loss 1.521, Val loss 6.176\n",
      "Ep 8 (Step 000070): Train loss 1.272, Val loss 6.178\n",
      "Every effort moves you?\" \"I didn't bear the picture--I told me.  \"I looked up, and went on groping and Mrs. I was back the head to look up at the honour being _mine_--because he was when I\n",
      "Ep 9 (Step 000075): Train loss 1.000, Val loss 6.277\n",
      "Ep 9 (Step 000080): Train loss 0.718, Val loss 6.281\n",
      "Every effort moves you?\"  \"Yes--quite insensible to the irony. She wanted him vindicated--and by me!\"  He laughed again, and threw back his head to look up at the sketch of the donkey. \"There were days when I\n",
      "Ep 10 (Step 000085): Train loss 0.506, Val loss 6.325\n",
      "Every effort moves you?\"  \"Yes--quite insensible to the irony. She wanted him vindicated--and by me!\"  He laughed again, and threw back his head to the donkey again. I saw that, and down the room, when I\n"
     ]
    }
   ],
   "execution_count": 44
  },
  {
   "metadata": {
    "ExecuteTime": {
     "end_time": "2025-08-31T16:33:32.553056Z",
     "start_time": "2025-08-31T16:33:26.852959Z"
    }
   },
   "cell_type": "code",
   "source": [
    "import matplotlib.pyplot as plt\n",
    "from matplotlib.ticker import MaxNLocator\n",
    "\n",
    "\n",
    "def plot_losses(epochs_seen, tokens_seen, train_losses, val_losses):\n",
    "    fig, ax1 = plt.subplots(figsize=(5, 3))\n",
    "\n",
    "    # Plot training and validation loss against epochs\n",
    "    ax1.plot(epochs_seen.tolist(), train_losses, label=\"Training loss\")\n",
    "    ax1.plot(epochs_seen.tolist(), val_losses, linestyle=\"-.\", label=\"Validation loss\")\n",
    "    ax1.set_xlabel(\"Epochs\")\n",
    "    ax1.set_ylabel(\"Loss\")\n",
    "    ax1.legend(loc=\"upper right\")\n",
    "    ax1.xaxis.set_major_locator(MaxNLocator(integer=True))  # only show integer labels on x-axis\n",
    "\n",
    "    # Create a second x-axis for tokens seen\n",
    "    ax2 = ax1.twiny()  # Create a second x-axis that shares the same y-axis\n",
    "    ax2.plot(tokens_seen, train_losses, alpha=0)  # Invisible plot for aligning ticks\n",
    "    ax2.set_xlabel(\"Tokens seen\")\n",
    "\n",
    "    fig.tight_layout()  # Adjust layout to make room\n",
    "    plt.savefig(\"loss-plot.pdf\")\n",
    "    plt.show()\n",
    "\n",
    "\n",
    "epochs_tensor = torch.linspace(0, num_epochs, len(train_losses))\n",
    "plot_losses(epochs_tensor, token_seen, train_losses, val_losses)"
   ],
   "id": "46c2c15c04f85446",
   "outputs": [
    {
     "data": {
      "text/plain": [
       "<Figure size 500x300 with 2 Axes>"
      ],
      "image/png": "[encoded data removed]"
     },
     "metadata": {},
     "output_type": "display_data",
     "jetTransient": {
      "display_id": null
     }
    }
   ],
   "execution_count": 45
  },
  {
   "metadata": {},
   "cell_type": "markdown",
   "source": "# Decoding strategies to control randomness",
   "id": "83371de21c5b4a2c"
  },
  {
   "metadata": {
    "ExecuteTime": {
     "end_time": "2025-08-31T16:33:34.913272Z",
     "start_time": "2025-08-31T16:33:32.659688Z"
    }
   },
   "cell_type": "code",
   "source": [
    "model.to(\"cpu\")\n",
    "model.eval()\n",
    "\n",
    "tokenizer = tiktoken.get_encoding(\"gpt2\")\n",
    "\n",
    "token_ids = generate_text_simple(\n",
    "    model=model,\n",
    "    idx=text_to_token_ids(\"Every effort moves you\", tokenizer),\n",
    "    max_new_tokens=25,\n",
    "    context_size=GPT_CONFIG_124M['context_length']\n",
    ")\n",
    "\n",
    "print(\"Output text:\\n\", token_ids_to_text(token_ids, tokenizer))"
   ],
   "id": "8b4c7a18c1370593",
   "outputs": [
    {
     "name": "stdout",
     "output_type": "stream",
     "text": [
      "Output text:\n",
      " Every effort moves you?\"\n",
      "\n",
      "\"Yes--quite insensible to the irony. She wanted him vindicated--and by me!\"\n",
      "\n",
      "\n"
     ]
    }
   ],
   "execution_count": 46
  },
  {
   "metadata": {},
   "cell_type": "markdown",
   "source": "# Temperature scaling",
   "id": "7cd45e8915c88e6d"
  },
  {
   "metadata": {
    "ExecuteTime": {
     "end_time": "2025-08-31T16:33:35.002629Z",
     "start_time": "2025-08-31T16:33:34.991201Z"
    }
   },
   "cell_type": "code",
   "source": [
    "vocab = {\n",
    "    \"closer\": 0,\n",
    "    \"every\": 1,\n",
    "    \"effort\": 2,\n",
    "    \"forward\": 3,\n",
    "    \"inches\": 4,\n",
    "    \"moves\": 5,\n",
    "    \"pizza\": 6,\n",
    "    \"towards\": 7,\n",
    "    \"you\": 8,\n",
    "}\n",
    "\n",
    "inverse_vocab = {v: k for k, v in vocab.items()}\n",
    "inverse_vocab"
   ],
   "id": "664a3e384df035fa",
   "outputs": [
    {
     "data": {
      "text/plain": [
       "{0: 'closer',\n",
       " 1: 'every',\n",
       " 2: 'effort',\n",
       " 3: 'forward',\n",
       " 4: 'inches',\n",
       " 5: 'moves',\n",
       " 6: 'pizza',\n",
       " 7: 'towards',\n",
       " 8: 'you'}"
      ]
     },
     "execution_count": 47,
     "metadata": {},
     "output_type": "execute_result"
    }
   ],
   "execution_count": 47
  },
  {
   "metadata": {
    "ExecuteTime": {
     "end_time": "2025-08-31T16:33:35.111480Z",
     "start_time": "2025-08-31T16:33:35.108200Z"
    }
   },
   "cell_type": "code",
   "source": "",
   "id": "9e861a03bfd847ce",
   "outputs": [],
   "execution_count": null
  },
  {
   "metadata": {
    "ExecuteTime": {
     "end_time": "2025-08-31T16:33:35.137888Z",
     "start_time": "2025-08-31T16:33:35.127966Z"
    }
   },
   "cell_type": "code",
   "source": [
    "# We usually do get the next token i.e the logits\n",
    "# logits = model(x)\n",
    "\n",
    "next_token_logits = torch.tensor(\n",
    "    [4.51, 0.89, -1.90, 6.75, 1.63, -1.62, -1.89, 6.28, 1.79]\n",
    ")\n",
    "\n",
    "probas = torch.softmax(next_token_logits, dim=0)\n",
    "probas\n"
   ],
   "id": "ce734d7defe4c83d",
   "outputs": [
    {
     "data": {
      "text/plain": [
       "tensor([    0.0609,     0.0016,     0.0001,     0.5721,     0.0034,     0.0001,     0.0001,     0.3576,     0.0040])"
      ]
     },
     "execution_count": 48,
     "metadata": {},
     "output_type": "execute_result"
    }
   ],
   "execution_count": 48
  },
  {
   "metadata": {
    "ExecuteTime": {
     "end_time": "2025-08-31T16:33:35.215345Z",
     "start_time": "2025-08-31T16:33:35.205414Z"
    }
   },
   "cell_type": "code",
   "source": "probas.sum()",
   "id": "6cb9dd03b05a3527",
   "outputs": [
    {
     "data": {
      "text/plain": [
       "tensor(1.0000)"
      ]
     },
     "execution_count": 49,
     "metadata": {},
     "output_type": "execute_result"
    }
   ],
   "execution_count": 49
  },
  {
   "metadata": {
    "ExecuteTime": {
     "end_time": "2025-08-31T16:33:35.333785Z",
     "start_time": "2025-08-31T16:33:35.324232Z"
    }
   },
   "cell_type": "code",
   "source": [
    "next_token_id = torch.argmax(probas).item()\n",
    "next_token_id"
   ],
   "id": "6af47bc331a11925",
   "outputs": [
    {
     "data": {
      "text/plain": [
       "3"
      ]
     },
     "execution_count": 50,
     "metadata": {},
     "output_type": "execute_result"
    }
   ],
   "execution_count": 50
  },
  {
   "metadata": {
    "ExecuteTime": {
     "end_time": "2025-08-31T16:33:35.415950Z",
     "start_time": "2025-08-31T16:33:35.407332Z"
    }
   },
   "cell_type": "code",
   "source": [
    "# this would be generated when we use the generate_text_simple function\n",
    "inverse_vocab[next_token_id]"
   ],
   "id": "61ea713503c20914",
   "outputs": [
    {
     "data": {
      "text/plain": [
       "'forward'"
      ]
     },
     "execution_count": 51,
     "metadata": {},
     "output_type": "execute_result"
    }
   ],
   "execution_count": 51
  },
  {
   "metadata": {
    "ExecuteTime": {
     "end_time": "2025-08-31T16:33:35.498501Z",
     "start_time": "2025-08-31T16:33:35.491062Z"
    }
   },
   "cell_type": "code",
   "source": [
    "# instead of deterministic we can use torch multinomial lets us sample from these probabilities .\n",
    "# so instead of deterministically always getting the largest token we will now get the token proportional to these probas\n",
    "# or proportional to the probability values.\n",
    "\n",
    "# torch.manual_seed(123)\n",
    "next_token_id = torch.multinomial(probas, num_samples=1).item()\n",
    "print(inverse_vocab[next_token_id])"
   ],
   "id": "afea5bbde739f8fd",
   "outputs": [
    {
     "name": "stdout",
     "output_type": "stream",
     "text": [
      "towards\n"
     ]
    }
   ],
   "execution_count": 52
  },
  {
   "metadata": {
    "ExecuteTime": {
     "end_time": "2025-08-31T16:33:35.652927Z",
     "start_time": "2025-08-31T16:33:35.572400Z"
    }
   },
   "cell_type": "code",
   "source": [
    "def print_sampled_token(probas):\n",
    "    torch.manual_seed(123)\n",
    "    sample = [torch.multinomial(probas, num_samples=1).item() for i in range(1_000)]\n",
    "    sampled_ids = torch.bincount(torch.tensor(sample))\n",
    "    for i,freq in enumerate(sampled_ids):\n",
    "        print(f\"{freq} x {inverse_vocab[i]}\")\n",
    "\n",
    "print_sampled_token(probas)"
   ],
   "id": "d2d664ed3ada1497",
   "outputs": [
    {
     "name": "stdout",
     "output_type": "stream",
     "text": [
      "71 x closer\n",
      "2 x every\n",
      "0 x effort\n",
      "544 x forward\n",
      "2 x inches\n",
      "1 x moves\n",
      "0 x pizza\n",
      "376 x towards\n",
      "4 x you\n"
     ]
    }
   ],
   "execution_count": 53
  },
  {
   "metadata": {
    "ExecuteTime": {
     "end_time": "2025-08-31T16:33:35.699194Z",
     "start_time": "2025-08-31T16:33:35.690190Z"
    }
   },
   "cell_type": "code",
   "source": "10/0.98, 10.0/3",
   "id": "93289c19c7b99c51",
   "outputs": [
    {
     "data": {
      "text/plain": [
       "(10.204081632653061, 3.3333333333333335)"
      ]
     },
     "execution_count": 54,
     "metadata": {},
     "output_type": "execute_result"
    }
   ],
   "execution_count": 54
  },
  {
   "metadata": {
    "ExecuteTime": {
     "end_time": "2025-08-31T16:34:40.618625Z",
     "start_time": "2025-08-31T16:34:40.613555Z"
    }
   },
   "cell_type": "code",
   "source": [
    "def softmax_with_temperature(logits, temp):\n",
    "    scaled_logits = logits / temp\n",
    "    return torch.softmax(scaled_logits, dim=0)\n",
    "\n",
    "softmax_with_temperature(next_token_logits, 2)"
   ],
   "id": "d59059e2a103f31f",
   "outputs": [
    {
     "data": {
      "text/plain": [
       "tensor([0.1375, 0.0225, 0.0056, 0.4214, 0.0326, 0.0064, 0.0056, 0.3331, 0.0353])"
      ]
     },
     "execution_count": 56,
     "metadata": {},
     "output_type": "execute_result"
    }
   ],
   "execution_count": 56
  },
  {
   "metadata": {
    "ExecuteTime": {
     "end_time": "2025-08-31T16:34:42.396393Z",
     "start_time": "2025-08-31T16:34:42.392956Z"
    }
   },
   "cell_type": "code",
   "source": [
    "test_temps = [1, 0.1, 5]\n",
    "\n",
    "scaled_probas = [softmax_with_temperature(next_token_logits, T) for T in test_temps]"
   ],
   "id": "adaa869ddc26e452",
   "outputs": [],
   "execution_count": 57
  },
  {
   "metadata": {
    "ExecuteTime": {
     "end_time": "2025-08-31T16:34:42.532244Z",
     "start_time": "2025-08-31T16:34:42.527707Z"
    }
   },
   "cell_type": "code",
   "source": "scaled_probas[0].detach().cpu()#.tolist()",
   "id": "ff63391709e5255d",
   "outputs": [
    {
     "data": {
      "text/plain": [
       "tensor([    0.0609,     0.0016,     0.0001,     0.5721,     0.0034,     0.0001,     0.0001,     0.3576,     0.0040])"
      ]
     },
     "execution_count": 58,
     "metadata": {},
     "output_type": "execute_result"
    }
   ],
   "execution_count": 58
  },
  {
   "metadata": {
    "ExecuteTime": {
     "end_time": "2025-08-31T16:34:42.728850Z",
     "start_time": "2025-08-31T16:34:42.726443Z"
    }
   },
   "cell_type": "code",
   "source": "import numpy as np",
   "id": "f78d3aa0e9ef243b",
   "outputs": [],
   "execution_count": 59
  },
  {
   "metadata": {
    "ExecuteTime": {
     "end_time": "2025-08-31T16:34:43.096471Z",
     "start_time": "2025-08-31T16:34:42.935694Z"
    }
   },
   "cell_type": "code",
   "source": [
    "# plotting\n",
    "\n",
    "x = list(range(len(vocab)))\n",
    "x = np.array(x)\n",
    "bar_width  = 0.15\n",
    "\n",
    "fig,ax = plt.subplots(figsize=(5,3))\n",
    "for i,T in enumerate(test_temps):\n",
    "    rects = ax.bar(x+i*bar_width,scaled_probas[i].tolist(), width=bar_width, label=f\"Temperature={T}\")\n",
    "\n",
    "ax.set_ylabel(\"Probability\")\n",
    "ax.set_xticks(x)\n",
    "ax.set_xticklabels(vocab.keys(), rotation=45)\n",
    "ax.legend()\n",
    "\n",
    "plt.tight_layout()\n",
    "# plt.savefig(\"temp-plot.pdf\")\n",
    "plt.show()"
   ],
   "id": "45b01942c2525da6",
   "outputs": [
    {
     "data": {
      "text/plain": [
       "<Figure size 500x300 with 1 Axes>"
      ],
      "image/png": "[encoded data removed]"
     },
     "metadata": {},
     "output_type": "display_data",
     "jetTransient": {
      "display_id": null
     }
    }
   ],
   "execution_count": 60
  },
  {
   "metadata": {
    "ExecuteTime": {
     "end_time": "2025-08-31T16:34:43.113317Z",
     "start_time": "2025-08-31T16:34:43.108596Z"
    }
   },
   "cell_type": "code",
   "source": "scaled_probas[2].sum()",
   "id": "c14a975160e4bd54",
   "outputs": [
    {
     "data": {
      "text/plain": [
       "tensor(1.0000)"
      ]
     },
     "execution_count": 61,
     "metadata": {},
     "output_type": "execute_result"
    }
   ],
   "execution_count": 61
  },
  {
   "metadata": {},
   "cell_type": "markdown",
   "source": [
    "# top K sampling\n",
    "\n",
    "This selects the top K highest logits"
   ],
   "id": "d30004f36a064d76"
  },
  {
   "metadata": {
    "ExecuteTime": {
     "end_time": "2025-08-31T16:34:43.552656Z",
     "start_time": "2025-08-31T16:34:43.549646Z"
    }
   },
   "cell_type": "code",
   "source": [
    "next_token_logits = torch.tensor(\n",
    "    [4.51, 0.89, -1.90, 6.75, 1.63, -1.62, -1.89, 6.28, 1.79]\n",
    ")"
   ],
   "id": "a3bd038ef27dd643",
   "outputs": [],
   "execution_count": 62
  },
  {
   "metadata": {
    "ExecuteTime": {
     "end_time": "2025-08-31T16:34:43.947844Z",
     "start_time": "2025-08-31T16:34:43.942397Z"
    }
   },
   "cell_type": "code",
   "source": [
    "top_k = 3\n",
    "top_logits, top_pos  = torch.topk(next_token_logits, k=top_k)\n",
    "print(top_logits)\n",
    "print(top_pos)"
   ],
   "id": "63283d014d89355b",
   "outputs": [
    {
     "name": "stdout",
     "output_type": "stream",
     "text": [
      "tensor([6.7500, 6.2800, 4.5100])\n",
      "tensor([3, 7, 0])\n"
     ]
    }
   ],
   "execution_count": 63
  },
  {
   "metadata": {
    "ExecuteTime": {
     "end_time": "2025-08-31T16:34:44.154675Z",
     "start_time": "2025-08-31T16:34:44.149930Z"
    }
   },
   "cell_type": "code",
   "source": [
    "new_logits = torch.where(\n",
    "    condition=next_token_logits < top_logits[-1],\n",
    "    input=torch.tensor(float(\"-inf\")),\n",
    "    other=next_token_logits\n",
    ")\n",
    "print(new_logits)"
   ],
   "id": "ae79b9d071b60c22",
   "outputs": [
    {
     "name": "stdout",
     "output_type": "stream",
     "text": [
      "tensor([4.5100,   -inf,   -inf, 6.7500,   -inf,   -inf,   -inf, 6.2800,   -inf])\n"
     ]
    }
   ],
   "execution_count": 64
  },
  {
   "metadata": {
    "ExecuteTime": {
     "end_time": "2025-08-31T16:34:44.516589Z",
     "start_time": "2025-08-31T16:34:44.511593Z"
    }
   },
   "cell_type": "code",
   "source": "torch.softmax(new_logits, dim=0)",
   "id": "13ebe95c9f8cd04a",
   "outputs": [
    {
     "data": {
      "text/plain": [
       "tensor([0.0615, 0.0000, 0.0000, 0.5775, 0.0000, 0.0000, 0.0000, 0.3610, 0.0000])"
      ]
     },
     "execution_count": 65,
     "metadata": {},
     "output_type": "execute_result"
    }
   ],
   "execution_count": 65
  },
  {
   "metadata": {},
   "cell_type": "markdown",
   "source": "# modifying the generate text function",
   "id": "a64c10e28212e6c2"
  },
  {
   "metadata": {
    "ExecuteTime": {
     "end_time": "2025-08-31T16:34:45.654429Z",
     "start_time": "2025-08-31T16:34:45.650232Z"
    }
   },
   "cell_type": "code",
   "source": "tokenizer.decode([50256])",
   "id": "d58531b49a9cc235",
   "outputs": [
    {
     "data": {
      "text/plain": [
       "'<|endoftext|>'"
      ]
     },
     "execution_count": 66,
     "metadata": {},
     "output_type": "execute_result"
    }
   ],
   "execution_count": 66
  },
  {
   "metadata": {
    "ExecuteTime": {
     "end_time": "2025-08-31T16:34:46.210199Z",
     "start_time": "2025-08-31T16:34:46.204260Z"
    }
   },
   "cell_type": "code",
   "source": [
    "def generate_text(model, idx, max_new_tokens=100, context_size=1024, temperature=0.0, top_k=None, eos_id=None):\n",
    "    # idx is (Batch, Token) array of indices in the current context\n",
    "    for _ in range(max_new_tokens):\n",
    "\n",
    "        # Crop current context if it exceeds the context size limit\n",
    "        # E.g., if LLM supports only 5 tokens, and the context size is 10\n",
    "        # then the last 5 tokenes are used\n",
    "        idx_cond = idx[:, -context_size:]\n",
    "\n",
    "        # get the predictions\n",
    "        with torch.no_grad():\n",
    "            logits = model(idx_cond)\n",
    "\n",
    "        # Focus only on the last time step\n",
    "        # (batch , n_tokens, vocab_size) becomes (batch, vocab_size)\n",
    "        logits = logits[:, -1, :]\n",
    "\n",
    "        if top_k is not None:\n",
    "            top_logits, top_pos  = torch.topk(logits, k=top_k)\n",
    "            new_logits = torch.where(\n",
    "                condition=logits < top_logits[:, -1],\n",
    "                input=torch.tensor(float(\"-inf\")),\n",
    "                other=logits\n",
    "            )\n",
    "\n",
    "        if temperature > 0.0:\n",
    "            probas = torch.softmax(logits / temperature, dim=-1)\n",
    "            idx_next = torch.multinomial(probas, num_samples=1)\n",
    "        else:\n",
    "            # get the idx of the vocab enty with the highest logits value\n",
    "            idx_next = torch.argmax(logits, dim=-1, keepdim=True)\n",
    "\n",
    "        if idx_next == eos_id:\n",
    "            break\n",
    "\n",
    "        # append sampled index to the running sequence\n",
    "        idx = torch.cat((idx, idx_next), dim=-1)\n",
    "\n",
    "    return idx"
   ],
   "id": "a17952c1dae5f791",
   "outputs": [],
   "execution_count": 67
  },
  {
   "metadata": {
    "ExecuteTime": {
     "end_time": "2025-08-31T16:34:48.273249Z",
     "start_time": "2025-08-31T16:34:46.829125Z"
    }
   },
   "cell_type": "code",
   "source": [
    "torch.manual_seed(123)\n",
    "\n",
    "token_ids = generate_text(\n",
    "    model=model,\n",
    "    idx=text_to_token_ids(\"Every effort moves you\", tokenizer),\n",
    "    max_new_tokens=25,\n",
    "    context_size=GPT_CONFIG_124M['context_length'],\n",
    "    # temperature=1.4,\n",
    "    # top_k=25,\n",
    "\n",
    ")\n",
    "\n",
    "print(\"output text:\\n\", token_ids_to_text(token_ids, tokenizer))"
   ],
   "id": "ac543049439b454c",
   "outputs": [
    {
     "name": "stdout",
     "output_type": "stream",
     "text": [
      "output text:\n",
      " Every effort moves you?\"\n",
      "\n",
      "\"Yes--quite insensible to the irony. She wanted him vindicated--and by me!\"\n",
      "\n",
      "\n"
     ]
    }
   ],
   "execution_count": 68
  },
  {
   "metadata": {
    "ExecuteTime": {
     "end_time": "2025-08-31T16:35:03.466876Z",
     "start_time": "2025-08-31T16:35:01.723599Z"
    }
   },
   "cell_type": "code",
   "source": [
    "token_ids = generate_text(\n",
    "    model=model,\n",
    "    idx=text_to_token_ids(\"Every effort moves you\", tokenizer),\n",
    "    max_new_tokens=25,\n",
    "    context_size=GPT_CONFIG_124M['context_length'],\n",
    "    temperature=1.4,\n",
    "    top_k=25,\n",
    "\n",
    ")\n",
    "\n",
    "print(\"output text:\\n\", token_ids_to_text(token_ids, tokenizer))"
   ],
   "id": "e54bba8860f5ff6f",
   "outputs": [
    {
     "name": "stdout",
     "output_type": "stream",
     "text": [
      "output text:\n",
      " Every effort moves you Bernsteinuskicolds a sore furiouslyorg itbred the Avees-- XVelling of jealousyating ale SE Dy to hot matte\n"
     ]
    }
   ],
   "execution_count": 69
  },
  {
   "metadata": {},
   "cell_type": "markdown",
   "source": "# loading and saving model weights in pytorch",
   "id": "11ff63ab9dba4fd0"
  },
  {
   "metadata": {
    "ExecuteTime": {
     "end_time": "2025-08-31T16:37:02.290580Z",
     "start_time": "2025-08-31T16:37:00.082700Z"
    }
   },
   "cell_type": "code",
   "source": "torch.save(model.state_dict(), 'model_weights.pth')",
   "id": "291d737b4b8c7892",
   "outputs": [],
   "execution_count": 71
  },
  {
   "metadata": {},
   "cell_type": "code",
   "outputs": [],
   "execution_count": null,
   "source": "",
   "id": "aa3f3e7a85c547c2"
  }
 ],
 "metadata": {
  "kernelspec": {
   "display_name": "Python 3",
   "language": "python",
   "name": "python3"
  },
  "language_info": {
   "codemirror_mode": {
    "name": "ipython",
    "version": 2
   },
   "file_extension": ".py",
   "mimetype": "text/x-python",
   "name": "python",
   "nbconvert_exporter": "python",
   "pygments_lexer": "ipython2",
   "version": "2.7.6"
  }
 },
 "nbformat": 4,
 "nbformat_minor": 5
}
