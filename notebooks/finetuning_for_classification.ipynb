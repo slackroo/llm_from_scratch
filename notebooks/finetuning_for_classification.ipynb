{
 "cells": [
  {
   "metadata": {},
   "cell_type": "markdown",
   "source": [
    "# Finetuning for classification\n",
    "\n",
    "## Preparing the datase"
   ],
   "id": "5147eb950d7cd29a"
  },
  {
   "metadata": {
    "ExecuteTime": {
     "end_time": "2025-09-03T15:22:12.172277Z",
     "start_time": "2025-09-03T15:22:12.140304Z"
    }
   },
   "cell_type": "code",
   "source": [
    "from importlib.metadata import version\n",
    "\n",
    "pkgs = [\n",
    "    \"matplotlib\",\n",
    "    \"numpy\",\n",
    "    \"tiktoken\",\n",
    "    \"torch\",\n",
    "    \"tensorflow\", # for open ai pretrained wights\n",
    "    \"pandas\",\n",
    "    \"polars\"\n",
    "]\n",
    "\n",
    "for p in pkgs:\n",
    "    print(f\"{p}: {version(p)}\")"
   ],
   "id": "22c799eff521f7cc",
   "outputs": [
    {
     "name": "stdout",
     "output_type": "stream",
     "text": [
      "matplotlib: 3.10.5\n",
      "numpy: 2.3.2\n",
      "tiktoken: 0.9.0\n",
      "torch: 2.2.2\n",
      "tensorflow: 2.16.2\n",
      "pandas: 2.3.2\n",
      "polars: 1.32.3\n"
     ]
    }
   ],
   "execution_count": 35
  },
  {
   "cell_type": "code",
   "id": "initial_id",
   "metadata": {
    "collapsed": true,
    "ExecuteTime": {
     "end_time": "2025-09-03T15:22:12.192313Z",
     "start_time": "2025-09-03T15:22:12.186339Z"
    }
   },
   "source": [
    "import urllib.request\n",
    "import zipfile\n",
    "import os\n",
    "from pathlib import Path\n",
    "\n",
    "url = \"https://archive.ics.uci.edu/static/public/228/sms+spam+collection.zip\"\n",
    "zip_path = \"sms_spam_collection.zip\"\n",
    "extracted_path = \"sms_spam_collection\"\n",
    "data_file_path = Path(extracted_path) / \"SMSSpamCollection.tsv\"\n",
    "\n",
    "def download_and_unzip_spam_data(url, zip_path, extracted_path, data_file_path):\n",
    "    if data_file_path.exists():\n",
    "        print(\"Data file already exists. Skipping download.\")\n",
    "        return\n",
    "\n",
    "    #download\n",
    "    with urllib.request.urlopen(url) as response:\n",
    "        with open(zip_path, \"wb\") as out_file:\n",
    "            out_file.write(response.read())\n",
    "\n",
    "    with zipfile.ZipFile(zip_path, \"r\") as zip_ref:\n",
    "        zip_ref.extractall(extracted_path)\n",
    "\n",
    "    # add .tsv file extension\n",
    "    original_file_path = Path(extracted_path) / \"SMSSpamCollection\"\n",
    "    os.rename(original_file_path, data_file_path)\n",
    "    print(f\"Data file downloaded and extracted to {data_file_path}\")\n",
    "\n",
    "try:\n",
    "    download_and_unzip_spam_data(url, zip_path, extracted_path, data_file_path)\n",
    "except Exception as e:\n",
    "    print(f\"An error occurred while downloading and extracting the data: {e}\")"
   ],
   "outputs": [
    {
     "name": "stdout",
     "output_type": "stream",
     "text": [
      "Data file already exists. Skipping download.\n"
     ]
    }
   ],
   "execution_count": 36
  },
  {
   "metadata": {
    "ExecuteTime": {
     "end_time": "2025-09-03T15:22:12.213339Z",
     "start_time": "2025-09-03T15:22:12.210853Z"
    }
   },
   "cell_type": "code",
   "source": "import pandas as pd",
   "id": "eda37a8940db1893",
   "outputs": [],
   "execution_count": 37
  },
  {
   "metadata": {
    "ExecuteTime": {
     "end_time": "2025-09-03T15:22:12.251545Z",
     "start_time": "2025-09-03T15:22:12.232035Z"
    }
   },
   "cell_type": "code",
   "source": [
    "df = pd.read_csv(data_file_path, sep=\"\\t\", header=None, names=[\"label\", \"text\"])\n",
    "df[:5]"
   ],
   "id": "94fccd3e96284111",
   "outputs": [
    {
     "data": {
      "text/plain": [
       "  label                                               text\n",
       "0   ham  Go until jurong point, crazy.. Available only ...\n",
       "1   ham                      Ok lar... Joking wif u oni...\n",
       "2  spam  Free entry in 2 a wkly comp to win FA Cup fina...\n",
       "3   ham  U dun say so early hor... U c already then say...\n",
       "4   ham  Nah I don't think he goes to usf, he lives aro..."
      ],
      "text/html": [
       "<div>\n",
       "<style scoped>\n",
       "    .dataframe tbody tr th:only-of-type {\n",
       "        vertical-align: middle;\n",
       "    }\n",
       "\n",
       "    .dataframe tbody tr th {\n",
       "        vertical-align: top;\n",
       "    }\n",
       "\n",
       "    .dataframe thead th {\n",
       "        text-align: right;\n",
       "    }\n",
       "</style>\n",
       "<table border=\"1\" class=\"dataframe\">\n",
       "  <thead>\n",
       "    <tr style=\"text-align: right;\">\n",
       "      <th></th>\n",
       "      <th>label</th>\n",
       "      <th>text</th>\n",
       "    </tr>\n",
       "  </thead>\n",
       "  <tbody>\n",
       "    <tr>\n",
       "      <th>0</th>\n",
       "      <td>ham</td>\n",
       "      <td>Go until jurong point, crazy.. Available only ...</td>\n",
       "    </tr>\n",
       "    <tr>\n",
       "      <th>1</th>\n",
       "      <td>ham</td>\n",
       "      <td>Ok lar... Joking wif u oni...</td>\n",
       "    </tr>\n",
       "    <tr>\n",
       "      <th>2</th>\n",
       "      <td>spam</td>\n",
       "      <td>Free entry in 2 a wkly comp to win FA Cup fina...</td>\n",
       "    </tr>\n",
       "    <tr>\n",
       "      <th>3</th>\n",
       "      <td>ham</td>\n",
       "      <td>U dun say so early hor... U c already then say...</td>\n",
       "    </tr>\n",
       "    <tr>\n",
       "      <th>4</th>\n",
       "      <td>ham</td>\n",
       "      <td>Nah I don't think he goes to usf, he lives aro...</td>\n",
       "    </tr>\n",
       "  </tbody>\n",
       "</table>\n",
       "</div>"
      ]
     },
     "execution_count": 38,
     "metadata": {},
     "output_type": "execute_result"
    }
   ],
   "execution_count": 38
  },
  {
   "metadata": {
    "ExecuteTime": {
     "end_time": "2025-09-03T15:22:12.317065Z",
     "start_time": "2025-09-03T15:22:12.313279Z"
    }
   },
   "cell_type": "code",
   "source": "len(df)",
   "id": "3d37b12d2b1172e8",
   "outputs": [
    {
     "data": {
      "text/plain": [
       "5572"
      ]
     },
     "execution_count": 39,
     "metadata": {},
     "output_type": "execute_result"
    }
   ],
   "execution_count": 39
  },
  {
   "metadata": {
    "ExecuteTime": {
     "end_time": "2025-09-03T15:22:12.411800Z",
     "start_time": "2025-09-03T15:22:12.405226Z"
    }
   },
   "cell_type": "code",
   "source": "df[\"label\"].value_counts()",
   "id": "f3cd90fb3ae2426",
   "outputs": [
    {
     "data": {
      "text/plain": [
       "label\n",
       "ham     4825\n",
       "spam     747\n",
       "Name: count, dtype: int64"
      ]
     },
     "execution_count": 40,
     "metadata": {},
     "output_type": "execute_result"
    }
   ],
   "execution_count": 40
  },
  {
   "metadata": {
    "ExecuteTime": {
     "end_time": "2025-09-03T15:22:12.562857Z",
     "start_time": "2025-09-03T15:22:12.550888Z"
    }
   },
   "cell_type": "code",
   "source": [
    "def create_balanced_dataset(df):\n",
    "    num_spam = df[df['label']=='spam'].shape[0]\n",
    "\n",
    "    ham_subset = df[df['label']=='ham'].sample(n=num_spam, random_state=123)\n",
    "\n",
    "    balanced_df = pd.concat([ham_subset, df[df['label']=='spam']])\n",
    "    return balanced_df\n",
    "\n",
    "balanced_df = create_balanced_dataset(df)\n",
    "balanced_df['label'].value_counts()"
   ],
   "id": "292e3c48946bfaf0",
   "outputs": [
    {
     "data": {
      "text/plain": [
       "label\n",
       "ham     747\n",
       "spam    747\n",
       "Name: count, dtype: int64"
      ]
     },
     "execution_count": 41,
     "metadata": {},
     "output_type": "execute_result"
    }
   ],
   "execution_count": 41
  },
  {
   "metadata": {
    "ExecuteTime": {
     "end_time": "2025-09-03T15:22:12.782755Z",
     "start_time": "2025-09-03T15:22:12.778591Z"
    }
   },
   "cell_type": "code",
   "source": [
    "map_dict = {'ham': 0, 'spam': 1}\n",
    "\n",
    "balanced_df['label'] = balanced_df['label'].map(map_dict)\n"
   ],
   "id": "a4e404d7e606a213",
   "outputs": [],
   "execution_count": 42
  },
  {
   "metadata": {
    "ExecuteTime": {
     "end_time": "2025-09-03T15:22:12.847707Z",
     "start_time": "2025-09-03T15:22:12.842910Z"
    }
   },
   "cell_type": "code",
   "source": "balanced_df['label'].value_counts()",
   "id": "9c9f307eaa2c21ba",
   "outputs": [
    {
     "data": {
      "text/plain": [
       "label\n",
       "0    747\n",
       "1    747\n",
       "Name: count, dtype: int64"
      ]
     },
     "execution_count": 43,
     "metadata": {},
     "output_type": "execute_result"
    }
   ],
   "execution_count": 43
  },
  {
   "metadata": {
    "ExecuteTime": {
     "end_time": "2025-09-03T15:22:12.941698Z",
     "start_time": "2025-09-03T15:22:12.935189Z"
    }
   },
   "cell_type": "code",
   "source": [
    "def random_split(df, train_frac=0.8, validation_frac=0.2):\n",
    "    # shuffle the entire dataset\n",
    "    df = df.sample(frac=1, random_state=123).reset_index(drop=True)\n",
    "\n",
    "    train_end = int(train_frac * len(df))\n",
    "    validation_end = train_end + int(validation_frac * len(df))\n",
    "\n",
    "    train_df = df[:train_end]\n",
    "    validation_df = df[train_end:validation_end]\n",
    "    test_df = df[validation_end:]\n",
    "\n",
    "    return train_df, validation_df, test_df\n",
    "\n",
    "train_df, validation_df, test_df = random_split(balanced_df, 0.7, 0.1)\n",
    "print(f\"Training set size: {len(train_df)}\")\n",
    "print(f\"Validation set size: {len(validation_df)}\")\n",
    "print(f\"Test set size: {len(test_df)}\")\n"
   ],
   "id": "c7028a9efe0f801",
   "outputs": [
    {
     "name": "stdout",
     "output_type": "stream",
     "text": [
      "Training set size: 1045\n",
      "Validation set size: 149\n",
      "Test set size: 300\n"
     ]
    }
   ],
   "execution_count": 44
  },
  {
   "metadata": {},
   "cell_type": "markdown",
   "source": "# Create Data Loaders",
   "id": "ace146dff21771d6"
  },
  {
   "metadata": {
    "ExecuteTime": {
     "end_time": "2025-09-03T15:22:13.057207Z",
     "start_time": "2025-09-03T15:22:13.050162Z"
    }
   },
   "cell_type": "code",
   "source": "df.head()",
   "id": "c203215a1ad14680",
   "outputs": [
    {
     "data": {
      "text/plain": [
       "  label                                               text\n",
       "0   ham  Go until jurong point, crazy.. Available only ...\n",
       "1   ham                      Ok lar... Joking wif u oni...\n",
       "2  spam  Free entry in 2 a wkly comp to win FA Cup fina...\n",
       "3   ham  U dun say so early hor... U c already then say...\n",
       "4   ham  Nah I don't think he goes to usf, he lives aro..."
      ],
      "text/html": [
       "<div>\n",
       "<style scoped>\n",
       "    .dataframe tbody tr th:only-of-type {\n",
       "        vertical-align: middle;\n",
       "    }\n",
       "\n",
       "    .dataframe tbody tr th {\n",
       "        vertical-align: top;\n",
       "    }\n",
       "\n",
       "    .dataframe thead th {\n",
       "        text-align: right;\n",
       "    }\n",
       "</style>\n",
       "<table border=\"1\" class=\"dataframe\">\n",
       "  <thead>\n",
       "    <tr style=\"text-align: right;\">\n",
       "      <th></th>\n",
       "      <th>label</th>\n",
       "      <th>text</th>\n",
       "    </tr>\n",
       "  </thead>\n",
       "  <tbody>\n",
       "    <tr>\n",
       "      <th>0</th>\n",
       "      <td>ham</td>\n",
       "      <td>Go until jurong point, crazy.. Available only ...</td>\n",
       "    </tr>\n",
       "    <tr>\n",
       "      <th>1</th>\n",
       "      <td>ham</td>\n",
       "      <td>Ok lar... Joking wif u oni...</td>\n",
       "    </tr>\n",
       "    <tr>\n",
       "      <th>2</th>\n",
       "      <td>spam</td>\n",
       "      <td>Free entry in 2 a wkly comp to win FA Cup fina...</td>\n",
       "    </tr>\n",
       "    <tr>\n",
       "      <th>3</th>\n",
       "      <td>ham</td>\n",
       "      <td>U dun say so early hor... U c already then say...</td>\n",
       "    </tr>\n",
       "    <tr>\n",
       "      <th>4</th>\n",
       "      <td>ham</td>\n",
       "      <td>Nah I don't think he goes to usf, he lives aro...</td>\n",
       "    </tr>\n",
       "  </tbody>\n",
       "</table>\n",
       "</div>"
      ]
     },
     "execution_count": 45,
     "metadata": {},
     "output_type": "execute_result"
    }
   ],
   "execution_count": 45
  },
  {
   "metadata": {
    "ExecuteTime": {
     "end_time": "2025-09-03T15:22:13.133631Z",
     "start_time": "2025-09-03T15:22:13.130477Z"
    }
   },
   "cell_type": "code",
   "source": [
    "import tiktoken\n",
    "\n",
    "tokenizer = tiktoken.get_encoding(\"gpt2\")\n",
    "print(tokenizer.decode([50256]))"
   ],
   "id": "472d8c28c908ec97",
   "outputs": [
    {
     "name": "stdout",
     "output_type": "stream",
     "text": [
      "<|endoftext|>\n"
     ]
    }
   ],
   "execution_count": 46
  },
  {
   "metadata": {
    "ExecuteTime": {
     "end_time": "2025-09-03T15:22:13.335348Z",
     "start_time": "2025-09-03T15:22:13.330782Z"
    }
   },
   "cell_type": "code",
   "source": "tokenizer.n_vocab",
   "id": "d8d478cef26587b9",
   "outputs": [
    {
     "data": {
      "text/plain": [
       "50257"
      ]
     },
     "execution_count": 47,
     "metadata": {},
     "output_type": "execute_result"
    }
   ],
   "execution_count": 47
  },
  {
   "metadata": {
    "ExecuteTime": {
     "end_time": "2025-09-03T15:22:13.397740Z",
     "start_time": "2025-09-03T15:22:13.390823Z"
    }
   },
   "cell_type": "code",
   "source": [
    "# we need to create padding to make sure the input lengths across batches are consiste\n",
    "import torch\n",
    "from torch.utils.data import Dataset, DataLoader\n",
    "\n",
    "class SpamDataset(Dataset):\n",
    "    def __init__(self, csv_file, tokenizer, max_length=None, pad_token_id=None):\n",
    "        if type(csv_file) == str:\n",
    "            self.data = pd.read_csv(csv_file)\n",
    "        elif type(csv_file) == pd.DataFrame:\n",
    "            self.data = csv_file\n",
    "        else:\n",
    "            raise ValueError(\"csv_file must be a path string or a pandas DataFrame\")\n",
    "\n",
    "        self.encoded_text = [\n",
    "            tokenizer.encode(txt) for txt in self.data[\"text\"]\n",
    "        ]\n",
    "\n",
    "        if max_length is None:\n",
    "            self.max_length = self._longest_encoded_length()\n",
    "        else:\n",
    "            self.max_length = max_length\n",
    "            # truncate if text is longer than max length\n",
    "            self.encoded_text = [\n",
    "                encoded_text[:self.max_length] for encoded_text in self.encoded_text\n",
    "            ]\n",
    "\n",
    "        # pad sequence to longest sequence\n",
    "        self.encoded_text = [\n",
    "            encoded_text + [pad_token_id]*(self.max_length - len(encoded_text))\n",
    "            for encoded_text in self.encoded_text\n",
    "        ]\n",
    "\n",
    "    def __getitem__(self, index):\n",
    "        encoded = self.encoded_text[index]\n",
    "        label = self.data[\"label\"][index]\n",
    "        return (\n",
    "            torch.tensor(encoded, dtype=torch.long),\n",
    "            torch.tensor(label, dtype=torch.long),\n",
    "        )\n",
    "\n",
    "    def __len__(self):\n",
    "        return len(self.data)\n",
    "\n",
    "\n",
    "    def _longest_encoded_length(self):\n",
    "        # max_length = 0\n",
    "        # for encoded_text in self.encoded_text:\n",
    "        #     if len(encoded_text) > max_length:\n",
    "        #         max_length = len(encoded_text)\n",
    "        # return max_length\n",
    "        return max(len(encoded_text) for encoded_text in self.encoded_text)\n"
   ],
   "id": "da757e4ab2197549",
   "outputs": [],
   "execution_count": 48
  },
  {
   "metadata": {
    "ExecuteTime": {
     "end_time": "2025-09-03T15:22:13.439003Z",
     "start_time": "2025-09-03T15:22:13.405237Z"
    }
   },
   "cell_type": "code",
   "source": [
    "train_dataset =  SpamDataset(\n",
    "    csv_file=train_df,\n",
    "    tokenizer=tokenizer,\n",
    "    max_length=None,\n",
    "    pad_token_id=tokenizer.n_vocab-1\n",
    ")"
   ],
   "id": "76e5708cbf1544d9",
   "outputs": [],
   "execution_count": 49
  },
  {
   "metadata": {
    "ExecuteTime": {
     "end_time": "2025-09-03T15:22:13.452073Z",
     "start_time": "2025-09-03T15:22:13.447769Z"
    }
   },
   "cell_type": "code",
   "source": "train_dataset.max_length",
   "id": "b27f13530e652635",
   "outputs": [
    {
     "data": {
      "text/plain": [
       "120"
      ]
     },
     "execution_count": 50,
     "metadata": {},
     "output_type": "execute_result"
    }
   ],
   "execution_count": 50
  },
  {
   "metadata": {
    "ExecuteTime": {
     "end_time": "2025-09-03T15:22:13.500732Z",
     "start_time": "2025-09-03T15:22:13.472254Z"
    }
   },
   "cell_type": "code",
   "source": [
    "val_dataset = SpamDataset(\n",
    "    csv_file=validation_df,\n",
    "    tokenizer=tokenizer,\n",
    "    max_length=train_dataset.max_length,\n",
    "    pad_token_id=tokenizer.n_vocab-1\n",
    ")\n",
    "test_dataset = SpamDataset(\n",
    "    csv_file=test_df,\n",
    "    tokenizer=tokenizer,\n",
    "    max_length=train_dataset.max_length,\n",
    "    pad_token_id=tokenizer.n_vocab-1\n",
    ")"
   ],
   "id": "183f1a3d71a35baf",
   "outputs": [],
   "execution_count": 51
  },
  {
   "metadata": {
    "ExecuteTime": {
     "end_time": "2025-09-03T15:22:13.588927Z",
     "start_time": "2025-09-03T15:22:13.570280Z"
    }
   },
   "cell_type": "code",
   "source": [
    "from torch.utils.data import DataLoader\n",
    "\n",
    "num_workers = 0\n",
    "batch_size = 8\n",
    "\n",
    "torch.manual_seed(123)\n",
    "\n",
    "train_loader = DataLoader(train_dataset, batch_size=batch_size, num_workers=num_workers, shuffle=True, drop_last=True)\n",
    "val_loader = DataLoader(val_dataset, batch_size=batch_size, num_workers=num_workers, shuffle=False)\n",
    "test_loader = DataLoader(test_dataset, batch_size=batch_size, num_workers=num_workers, shuffle=False)"
   ],
   "id": "a2e75680ec1b1324",
   "outputs": [],
   "execution_count": 52
  },
  {
   "metadata": {
    "ExecuteTime": {
     "end_time": "2025-09-03T15:22:13.696536Z",
     "start_time": "2025-09-03T15:22:13.598162Z"
    }
   },
   "cell_type": "code",
   "source": [
    "# Dry run\n",
    "\n",
    "print(\"Train loader:\")\n",
    "for input_batch, label_batch in train_loader:\n",
    "    pass\n",
    "print(\"input batch shape:\", input_batch.shape)\n",
    "print(\"label batch shape:\", label_batch.shape)"
   ],
   "id": "793d7e6c8b239762",
   "outputs": [
    {
     "name": "stdout",
     "output_type": "stream",
     "text": [
      "Train loader:\n",
      "input batch shape: torch.Size([8, 120])\n",
      "label batch shape: torch.Size([8])\n"
     ]
    }
   ],
   "execution_count": 53
  },
  {
   "metadata": {
    "ExecuteTime": {
     "end_time": "2025-09-03T15:23:04.890040Z",
     "start_time": "2025-09-03T15:23:04.886555Z"
    }
   },
   "cell_type": "code",
   "source": [
    "print(f\"{len(train_loader)} batches in train loader\")\n",
    "print(f\"{len(val_loader)} batches in validation loader\")\n",
    "print(f\"{len(test_loader)} batches in test loader\")"
   ],
   "id": "333392eb37acbc33",
   "outputs": [
    {
     "name": "stdout",
     "output_type": "stream",
     "text": [
      "130 batches in train loader\n",
      "19 batches in validation loader\n",
      "38 batches in test loader\n"
     ]
    }
   ],
   "execution_count": 54
  },
  {
   "metadata": {
    "ExecuteTime": {
     "end_time": "2025-09-03T15:16:56.400835Z",
     "start_time": "2025-09-03T15:16:56.396719Z"
    }
   },
   "cell_type": "code",
   "source": [
    "temp = [1, 2, 3, 4]\n",
    "temp + [99] * (6 - len(temp))\n",
    "print(tokenizer.n_vocab-1)"
   ],
   "id": "46dfa7bdb0999c32",
   "outputs": [
    {
     "name": "stdout",
     "output_type": "stream",
     "text": [
      "50256\n"
     ]
    }
   ],
   "execution_count": 33
  },
  {
   "metadata": {},
   "cell_type": "code",
   "outputs": [],
   "execution_count": null,
   "source": "",
   "id": "7ae928660673ca67"
  }
 ],
 "metadata": {
  "kernelspec": {
   "display_name": "Python 3",
   "language": "python",
   "name": "python3"
  },
  "language_info": {
   "codemirror_mode": {
    "name": "ipython",
    "version": 2
   },
   "file_extension": ".py",
   "mimetype": "text/x-python",
   "name": "python",
   "nbconvert_exporter": "python",
   "pygments_lexer": "ipython2",
   "version": "2.7.6"
  }
 },
 "nbformat": 4,
 "nbformat_minor": 5
}
