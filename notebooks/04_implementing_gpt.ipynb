{
 "cells": [
  {
   "metadata": {},
   "cell_type": "markdown",
   "source": [
    "# Implementing a GPT model from scratch\n",
    "## Coding a LLM architecture"
   ],
   "id": "1d2f4f26cb420261"
  },
  {
   "metadata": {
    "ExecuteTime": {
     "end_time": "2025-08-12T08:08:31.090079Z",
     "start_time": "2025-08-12T08:08:31.086979Z"
    }
   },
   "cell_type": "code",
   "source": [
    "GPT_CONFIG_124M = {\n",
    "    'vocab_size': 50257,\n",
    "    'context_length': 1024,\n",
    "    'emb_dim': 768,\n",
    "    'n_layers': 12,\n",
    "    'n_heads': 12,\n",
    "    'drop_rate': 0.1,\n",
    "    'qkv_bias': False\n",
    "}"
   ],
   "id": "143d6941f5140753",
   "outputs": [],
   "execution_count": 10
  },
  {
   "metadata": {
    "ExecuteTime": {
     "end_time": "2025-08-12T06:50:29.023872Z",
     "start_time": "2025-08-12T06:50:29.020787Z"
    }
   },
   "cell_type": "code",
   "source": [
    "import torch\n",
    "import torch.nn as nn\n",
    "from urllib3.poolmanager import key_fn_by_scheme"
   ],
   "id": "a586a64738fa2260",
   "outputs": [],
   "execution_count": 3
  },
  {
   "cell_type": "code",
   "id": "initial_id",
   "metadata": {
    "collapsed": true,
    "ExecuteTime": {
     "end_time": "2025-08-12T07:57:26.280537Z",
     "start_time": "2025-08-12T07:57:25.939110Z"
    }
   },
   "source": [
    "class DummyGPTModel(nn.Module):\n",
    "    def __init__(self, cfg):\n",
    "        super().__init__()\n",
    "        self.tok_emb = nn.Embedding(cfg['vocab_size'], cfg['emb_dim'])\n",
    "        self.pos_emb = nn.Embedding(cfg['context_length'], cfg['emb_dim'])\n",
    "        self.drop_emb = nn.Dropout(cfg['drop_rate'])\n",
    "\n",
    "        # placeholder for the transformer block\n",
    "        self.trf_block = nn.Sequential(\n",
    "            *[DummyTranformerBlock(cfg) for _ in range(cfg['n_layers'])]\n",
    "        )\n",
    "        # use a placeholder for layer norm\n",
    "        self.final_norm =  DummyLayerNorm(cfg['emb_dim'])\n",
    "        self.out_head  = nn.Linear(\n",
    "            cfg['emb_dim'] , cfg['vocab_size'], bias=False\n",
    "        )\n",
    "\n",
    "    def forward(self,x):\n",
    "        batch_size, seq_len = x.shape\n",
    "        tok_embeds = self.tok_emb(x)\n",
    "        pos_embeds = self.pos_emb(torch.arange(seq_len, device=x.device))\n",
    "        x = tok_embeds + pos_embeds\n",
    "        x = self.drop_emb(x)\n",
    "        x = self.trf_block(x)\n",
    "        x = self.final_norm(x)\n",
    "        logits = self.out_head(x)\n",
    "        return logits\n",
    "\n",
    "class DummyTranformerBlock(nn.Module):\n",
    "    def __init__(self, cfg):\n",
    "        super().__init__()\n",
    "        # a simple place holder\n",
    "\n",
    "    def forward(self,x):\n",
    "        return x\n",
    "\n",
    "class DummyLayerNorm(nn.Module):\n",
    "    def __init__(self, cfg):\n",
    "        super().__init__()\n",
    "        # a simple place holder\n",
    "\n",
    "    def forward(self,x):\n",
    "        return x"
   ],
   "outputs": [],
   "execution_count": 7
  },
  {
   "metadata": {
    "ExecuteTime": {
     "end_time": "2025-08-12T08:03:09.062437Z",
     "start_time": "2025-08-12T08:03:09.057368Z"
    }
   },
   "cell_type": "code",
   "source": [
    "import tiktoken\n",
    "\n",
    "tokenizer = tiktoken.get_encoding(\"gpt2\")\n",
    "\n",
    "batch = []\n",
    "txt1 = 'Every effort moves your'\n",
    "txt2 = 'Every day holds a'\n",
    "\n",
    "batch.append(torch.tensor(tokenizer.encode(txt1)))\n",
    "batch.append(torch.tensor(tokenizer.encode(txt2)))\n",
    "batch = torch.stack(batch,dim=0)\n",
    "print(batch)\n"
   ],
   "id": "b0c215b94262c7a6",
   "outputs": [
    {
     "name": "stdout",
     "output_type": "stream",
     "text": [
      "tensor([[6109, 3626, 6100,  534],\n",
      "        [6109, 1110, 6622,  257]])\n"
     ]
    }
   ],
   "execution_count": 9
  },
  {
   "metadata": {
    "ExecuteTime": {
     "end_time": "2025-08-12T08:11:02.709636Z",
     "start_time": "2025-08-12T08:11:02.701449Z"
    }
   },
   "cell_type": "code",
   "source": "da",
   "id": "cb7c602ce211b984",
   "outputs": [
    {
     "data": {
      "text/plain": [
       "torch.Size([2, 4])"
      ]
     },
     "execution_count": 13,
     "metadata": {},
     "output_type": "execute_result"
    }
   ],
   "execution_count": 13
  },
  {
   "metadata": {
    "ExecuteTime": {
     "end_time": "2025-08-12T08:10:28.725182Z",
     "start_time": "2025-08-12T08:10:28.123058Z"
    }
   },
   "cell_type": "code",
   "source": [
    "torch.manual_seed(123)\n",
    "\n",
    "model = DummyGPTModel(cfg=GPT_CONFIG_124M)\n",
    "logits = model(batch)\n",
    "print(f\"Output shape: {logits.shape}\")\n",
    "print(logits)"
   ],
   "id": "adf8de7ee2193c01",
   "outputs": [
    {
     "name": "stdout",
     "output_type": "stream",
     "text": [
      "Output shape: torch.Size([2, 4, 50257])\n",
      "tensor([[[-0.9289,  0.2748, -0.7557,  ..., -1.6070,  0.2702, -0.5888],\n",
      "         [-0.4476,  0.1726,  0.5354,  ..., -0.3932,  1.5285,  0.8557],\n",
      "         [ 0.5680,  1.6053, -0.2155,  ...,  1.1624,  0.1380,  0.7425],\n",
      "         [-0.2218,  0.2200, -0.5722,  ...,  3.4660,  0.7727,  0.5104]],\n",
      "\n",
      "        [[-1.5474, -0.0542, -1.0571,  ..., -1.8061, -0.4494, -0.6747],\n",
      "         [-0.8422,  0.8243, -0.1098,  ..., -0.1434,  0.2079,  1.2046],\n",
      "         [ 0.1355,  1.1858, -0.1453,  ...,  0.0869, -0.1590,  0.1552],\n",
      "         [ 0.1666, -0.8138,  0.2307,  ...,  2.5035, -0.3055, -0.3083]]],\n",
      "       grad_fn=<UnsafeViewBackward0>)\n"
     ]
    }
   ],
   "execution_count": 12
  },
  {
   "metadata": {},
   "cell_type": "markdown",
   "source": [
    "# 4.2 Normalizing activations with layer normalization\n",
    "\n",
    "Layer normalization is a techique that normalizes the activities of a neuron across a batch of inputs.\n",
    "\n",
    "the layer will have mean 0 and variance 1.\n"
   ],
   "id": "4b812043dbf1e340"
  },
  {
   "metadata": {
    "ExecuteTime": {
     "end_time": "2025-08-12T08:18:35.795712Z",
     "start_time": "2025-08-12T08:18:35.787260Z"
    }
   },
   "cell_type": "code",
   "source": [
    "torch.manual_seed(123)\n",
    "\n",
    "batch_example = torch.rand(2, 5)\n",
    "print(batch_example)"
   ],
   "id": "8c3af6fd9a64e26c",
   "outputs": [
    {
     "name": "stdout",
     "output_type": "stream",
     "text": [
      "tensor([[0.2961, 0.5166, 0.2517, 0.6886, 0.0740],\n",
      "        [0.8665, 0.1366, 0.1025, 0.1841, 0.7264]])\n"
     ]
    }
   ],
   "execution_count": 14
  },
  {
   "metadata": {
    "ExecuteTime": {
     "end_time": "2025-08-12T08:48:49.392456Z",
     "start_time": "2025-08-12T08:48:49.380581Z"
    }
   },
   "cell_type": "code",
   "source": [
    "layer = nn.Sequential(nn.Linear(5,6), nn.ReLU())\n",
    "out = layer(batch_example)\n",
    "print(out)"
   ],
   "id": "56c167cc3d672da4",
   "outputs": [
    {
     "name": "stdout",
     "output_type": "stream",
     "text": [
      "tensor([[0.4993, 0.0000, 0.0000, 0.0094, 0.2147, 0.0000],\n",
      "        [0.3390, 0.0000, 0.0000, 0.5273, 0.3894, 0.2145]],\n",
      "       grad_fn=<ReluBackward0>)\n"
     ]
    }
   ],
   "execution_count": 16
  },
  {
   "metadata": {
    "ExecuteTime": {
     "end_time": "2025-08-12T08:53:01.952721Z",
     "start_time": "2025-08-12T08:53:01.947263Z"
    }
   },
   "cell_type": "code",
   "source": [
    "mean = out.mean(dim=-1, keepdim=True)\n",
    "print(mean)"
   ],
   "id": "7befe8097be23a2d",
   "outputs": [
    {
     "name": "stdout",
     "output_type": "stream",
     "text": [
      "tensor([[0.1206],\n",
      "        [0.2450]], grad_fn=<MeanBackward1>)\n"
     ]
    }
   ],
   "execution_count": 23
  },
  {
   "metadata": {
    "ExecuteTime": {
     "end_time": "2025-08-12T08:53:30.741532Z",
     "start_time": "2025-08-12T08:53:30.736021Z"
    }
   },
   "cell_type": "code",
   "source": [
    "var = out.var(dim=-1, keepdim=True)\n",
    "print(var)"
   ],
   "id": "ff5cab6ec39b9f89",
   "outputs": [
    {
     "name": "stdout",
     "output_type": "stream",
     "text": [
      "tensor([[0.0417],\n",
      "        [0.0461]], grad_fn=<VarBackward0>)\n"
     ]
    }
   ],
   "execution_count": 24
  },
  {
   "metadata": {
    "ExecuteTime": {
     "end_time": "2025-08-12T08:55:35.720392Z",
     "start_time": "2025-08-12T08:55:35.717747Z"
    }
   },
   "cell_type": "code",
   "source": "torch.set_printoptions(sci_mode=False)",
   "id": "fc718dbf1391477e",
   "outputs": [],
   "execution_count": 26
  },
  {
   "metadata": {
    "ExecuteTime": {
     "end_time": "2025-08-12T09:01:37.277855Z",
     "start_time": "2025-08-12T09:01:37.273375Z"
    }
   },
   "cell_type": "code",
   "source": [
    "normed = (out - mean)/torch.sqrt(var)\n",
    "print(normed.mean(dim=-1, keepdim=True))\n",
    "# print(normed.var(dim=-1, keepdim=True))\n"
   ],
   "id": "642717c74ea82235",
   "outputs": [
    {
     "name": "stdout",
     "output_type": "stream",
     "text": [
      "tensor([[     0.0000],\n",
      "        [    -0.0000]], grad_fn=<MeanBackward1>)\n"
     ]
    }
   ],
   "execution_count": 31
  },
  {
   "metadata": {
    "ExecuteTime": {
     "end_time": "2025-08-12T09:18:50.889814Z",
     "start_time": "2025-08-12T09:18:50.885478Z"
    }
   },
   "cell_type": "code",
   "source": [
    "class LayerNorm(nn.Module):\n",
    "    def __init__(self, emb_dim):\n",
    "        super().__init__()\n",
    "        self.eps = 1e-5\n",
    "        self.scale = nn.Parameter(torch.ones(emb_dim))\n",
    "        self.shift = nn.Parameter(torch.zeros(emb_dim))\n",
    "\n",
    "    def forward(self, x):\n",
    "        mean = x.mean(dim=-1, keepdim=True)\n",
    "        var = x.var(dim=-1, keepdim=True, unbiased=False)   # unbiased true is population stats and False is sample stats\n",
    "        norm_x = (x - mean) / torch.sqrt(var + self.eps)\n",
    "        return self.scale * norm_x + self.shift\n",
    "\n",
    "\n",
    "\n"
   ],
   "id": "669ca50209f30067",
   "outputs": [],
   "execution_count": 45
  },
  {
   "metadata": {
    "ExecuteTime": {
     "end_time": "2025-08-12T09:18:52.610402Z",
     "start_time": "2025-08-12T09:18:52.606607Z"
    }
   },
   "cell_type": "code",
   "source": "3*5+5",
   "id": "4d8dd1cbfb020a65",
   "outputs": [
    {
     "data": {
      "text/plain": [
       "20"
      ]
     },
     "execution_count": 46,
     "metadata": {},
     "output_type": "execute_result"
    }
   ],
   "execution_count": 46
  },
  {
   "metadata": {
    "ExecuteTime": {
     "end_time": "2025-08-12T09:18:52.721327Z",
     "start_time": "2025-08-12T09:18:52.717144Z"
    }
   },
   "cell_type": "code",
   "source": [
    "ln = LayerNorm(6)\n",
    "outputs_normed = ln(out)\n",
    "print(outputs_normed)"
   ],
   "id": "a822908f86bad719",
   "outputs": [
    {
     "name": "stdout",
     "output_type": "stream",
     "text": [
      "tensor([[ 2.0325, -0.6471, -0.6471, -0.5965,  0.5052, -0.6471],\n",
      "        [ 0.4795, -1.2504, -1.2504,  1.4404,  0.7368, -0.1559]],\n",
      "       grad_fn=<AddBackward0>)\n"
     ]
    }
   ],
   "execution_count": 47
  },
  {
   "metadata": {
    "ExecuteTime": {
     "end_time": "2025-08-12T09:18:53.468613Z",
     "start_time": "2025-08-12T09:18:53.464594Z"
    }
   },
   "cell_type": "code",
   "source": [
    "# print(outputs_normed.mean(dim=-1, keepdim=True))\n",
    "print(outputs_normed.var(dim=-1, keepdim=True))"
   ],
   "id": "944c5fd565bfb49d",
   "outputs": [
    {
     "name": "stdout",
     "output_type": "stream",
     "text": [
      "tensor([[1.1997],\n",
      "        [1.1997]], grad_fn=<VarBackward0>)\n"
     ]
    }
   ],
   "execution_count": 48
  },
  {
   "metadata": {},
   "cell_type": "code",
   "outputs": [],
   "execution_count": null,
   "source": "\n",
   "id": "7ee0e533f834c4d0"
  }
 ],
 "metadata": {
  "kernelspec": {
   "display_name": "Python 3",
   "language": "python",
   "name": "python3"
  },
  "language_info": {
   "codemirror_mode": {
    "name": "ipython",
    "version": 2
   },
   "file_extension": ".py",
   "mimetype": "text/x-python",
   "name": "python",
   "nbconvert_exporter": "python",
   "pygments_lexer": "ipython2",
   "version": "2.7.6"
  }
 },
 "nbformat": 4,
 "nbformat_minor": 5
}
