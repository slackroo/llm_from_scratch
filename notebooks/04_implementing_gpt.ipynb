{
 "cells": [
  {
   "metadata": {},
   "cell_type": "markdown",
   "source": [
    "# Implementing a GPT model from scratch\n",
    "## Coding a LLM architecture"
   ],
   "id": "1d2f4f26cb420261"
  },
  {
   "metadata": {
    "ExecuteTime": {
     "end_time": "2025-08-16T14:01:22.727823Z",
     "start_time": "2025-08-16T14:01:22.678089Z"
    }
   },
   "cell_type": "code",
   "source": [
    "GPT_CONFIG_124M = {\n",
    "    'vocab_size': 50257, # vocab size\n",
    "    'context_length': 1024, # context length\n",
    "    'emb_dim': 768, # embedding dimension\n",
    "    'n_layers': 12, # number of transformer blocks\n",
    "    'n_heads': 12, # number of attention heads\n",
    "    'drop_rate': 0.1, # dropout rate\n",
    "    'qkv_bias': False, # whether to use bias in the query, key, and value weights\n",
    "}"
   ],
   "id": "143d6941f5140753",
   "outputs": [],
   "execution_count": 28
  },
  {
   "metadata": {
    "ExecuteTime": {
     "end_time": "2025-08-16T14:01:22.758419Z",
     "start_time": "2025-08-16T14:01:22.744764Z"
    }
   },
   "cell_type": "code",
   "source": [
    "import torch\n",
    "import torch.nn as nn\n",
    "from urllib3.poolmanager import key_fn_by_scheme"
   ],
   "id": "a586a64738fa2260",
   "outputs": [],
   "execution_count": 29
  },
  {
   "cell_type": "code",
   "id": "initial_id",
   "metadata": {
    "collapsed": true,
    "ExecuteTime": {
     "end_time": "2025-08-16T14:01:22.796470Z",
     "start_time": "2025-08-16T14:01:22.768839Z"
    }
   },
   "source": [
    "class DummyGPTModel(nn.Module):\n",
    "    def __init__(self, cfg):\n",
    "        super().__init__()\n",
    "        self.tok_emb = nn.Embedding(cfg['vocab_size'], cfg['emb_dim'])\n",
    "        self.pos_emb = nn.Embedding(cfg['context_length'], cfg['emb_dim'])\n",
    "        self.drop_emb = nn.Dropout(cfg['drop_rate'])\n",
    "\n",
    "        # placeholder for the transformer block\n",
    "        self.trf_block = nn.Sequential(\n",
    "            *[DummyTranformerBlock(cfg) for _ in range(cfg['n_layers'])]\n",
    "        )\n",
    "        # use a placeholder for layer norm\n",
    "        self.final_norm = DummyLayerNorm(cfg['emb_dim'])\n",
    "        self.out_head = nn.Linear(\n",
    "            cfg['emb_dim'], cfg['vocab_size'], bias=False\n",
    "        )\n",
    "\n",
    "    def forward(self, x):\n",
    "        batch_size, seq_len = x.shape\n",
    "        tok_embeds = self.tok_emb(x)\n",
    "        pos_embeds = self.pos_emb(torch.arange(seq_len, device=x.device))\n",
    "        x = tok_embeds + pos_embeds\n",
    "        x = self.drop_emb(x)\n",
    "        x = self.trf_block(x)\n",
    "        x = self.final_norm(x)\n",
    "        logits = self.out_head(x)\n",
    "        return logits\n",
    "\n",
    "\n",
    "class DummyTranformerBlock(nn.Module):\n",
    "    def __init__(self, cfg):\n",
    "        super().__init__()\n",
    "        # a simple place holder\n",
    "\n",
    "    def forward(self, x):\n",
    "        return x\n",
    "\n",
    "\n",
    "class DummyLayerNorm(nn.Module):\n",
    "    def __init__(self, cfg):\n",
    "        super().__init__()\n",
    "        # a simple place holder\n",
    "\n",
    "    def forward(self, x):\n",
    "        return x"
   ],
   "outputs": [],
   "execution_count": 30
  },
  {
   "metadata": {
    "ExecuteTime": {
     "end_time": "2025-08-16T14:01:22.841955Z",
     "start_time": "2025-08-16T14:01:22.809460Z"
    }
   },
   "cell_type": "code",
   "source": [
    "import tiktoken\n",
    "\n",
    "tokenizer = tiktoken.get_encoding(\"gpt2\")\n",
    "\n",
    "batch = []\n",
    "txt1 = 'Every effort moves your'\n",
    "txt2 = 'Every day holds a'\n",
    "\n",
    "batch.append(torch.tensor(tokenizer.encode(txt1)))\n",
    "batch.append(torch.tensor(tokenizer.encode(txt2)))\n",
    "batch = torch.stack(batch, dim=0)\n",
    "print(batch)\n"
   ],
   "id": "b0c215b94262c7a6",
   "outputs": [
    {
     "name": "stdout",
     "output_type": "stream",
     "text": [
      "tensor([[6109, 3626, 6100,  534],\n",
      "        [6109, 1110, 6622,  257]])\n"
     ]
    }
   ],
   "execution_count": 31
  },
  {
   "metadata": {
    "ExecuteTime": {
     "end_time": "2025-08-16T14:01:23.502198Z",
     "start_time": "2025-08-16T14:01:22.872151Z"
    }
   },
   "cell_type": "code",
   "source": [
    "torch.manual_seed(123)\n",
    "\n",
    "model = DummyGPTModel(cfg=GPT_CONFIG_124M)\n",
    "logits = model(batch)\n",
    "print(f\"Output shape: {logits.shape}\")\n",
    "print(logits)"
   ],
   "id": "adf8de7ee2193c01",
   "outputs": [
    {
     "name": "stdout",
     "output_type": "stream",
     "text": [
      "Output shape: torch.Size([2, 4, 50257])\n",
      "tensor([[[-0.9289,  0.2748, -0.7557,  ..., -1.6070,  0.2702, -0.5888],\n",
      "         [-0.4476,  0.1726,  0.5354,  ..., -0.3932,  1.5285,  0.8557],\n",
      "         [ 0.5680,  1.6053, -0.2155,  ...,  1.1624,  0.1380,  0.7425],\n",
      "         [-0.2218,  0.2200, -0.5722,  ...,  3.4660,  0.7727,  0.5104]],\n",
      "\n",
      "        [[-1.5474, -0.0542, -1.0571,  ..., -1.8061, -0.4494, -0.6747],\n",
      "         [-0.8422,  0.8243, -0.1098,  ..., -0.1434,  0.2079,  1.2046],\n",
      "         [ 0.1355,  1.1858, -0.1453,  ...,  0.0869, -0.1590,  0.1552],\n",
      "         [ 0.1666, -0.8138,  0.2307,  ...,  2.5035, -0.3055, -0.3083]]],\n",
      "       grad_fn=<UnsafeViewBackward0>)\n"
     ]
    }
   ],
   "execution_count": 32
  },
  {
   "metadata": {},
   "cell_type": "markdown",
   "source": [
    "# 4.2 Normalizing activations with layer normalization\n",
    "\n",
    "Layer normalization is a techique that normalizes the activities of a neuron across a batch of inputs.\n",
    "\n",
    "the layer will have mean 0 and variance 1.\n"
   ],
   "id": "4b812043dbf1e340"
  },
  {
   "metadata": {
    "ExecuteTime": {
     "end_time": "2025-08-16T14:01:23.524707Z",
     "start_time": "2025-08-16T14:01:23.518909Z"
    }
   },
   "cell_type": "code",
   "source": [
    "torch.manual_seed(123)\n",
    "\n",
    "batch_example = torch.rand(2, 5)\n",
    "print(batch_example)"
   ],
   "id": "8c3af6fd9a64e26c",
   "outputs": [
    {
     "name": "stdout",
     "output_type": "stream",
     "text": [
      "tensor([[0.2961, 0.5166, 0.2517, 0.6886, 0.0740],\n",
      "        [0.8665, 0.1366, 0.1025, 0.1841, 0.7264]])\n"
     ]
    }
   ],
   "execution_count": 33
  },
  {
   "metadata": {
    "ExecuteTime": {
     "end_time": "2025-08-16T14:01:23.564316Z",
     "start_time": "2025-08-16T14:01:23.554022Z"
    }
   },
   "cell_type": "code",
   "source": [
    "layer = nn.Sequential(nn.Linear(5, 6), nn.ReLU())\n",
    "out = layer(batch_example)\n",
    "print(out)"
   ],
   "id": "56c167cc3d672da4",
   "outputs": [
    {
     "name": "stdout",
     "output_type": "stream",
     "text": [
      "tensor([[0.0000, 0.0000, 0.4091, 0.6587, 0.3914, 0.0000],\n",
      "        [0.0000, 0.0000, 0.1902, 0.3182, 0.6486, 0.0000]],\n",
      "       grad_fn=<ReluBackward0>)\n"
     ]
    }
   ],
   "execution_count": 34
  },
  {
   "metadata": {
    "ExecuteTime": {
     "end_time": "2025-08-16T14:01:23.593279Z",
     "start_time": "2025-08-16T14:01:23.585145Z"
    }
   },
   "cell_type": "code",
   "source": [
    "mean = out.mean(dim=-1, keepdim=True)\n",
    "print(mean)"
   ],
   "id": "7befe8097be23a2d",
   "outputs": [
    {
     "name": "stdout",
     "output_type": "stream",
     "text": [
      "tensor([[0.2432],\n",
      "        [0.1928]], grad_fn=<MeanBackward1>)\n"
     ]
    }
   ],
   "execution_count": 35
  },
  {
   "metadata": {
    "ExecuteTime": {
     "end_time": "2025-08-16T14:01:23.677828Z",
     "start_time": "2025-08-16T14:01:23.672391Z"
    }
   },
   "cell_type": "code",
   "source": [
    "var = out.var(dim=-1, keepdim=True)\n",
    "print(var)"
   ],
   "id": "ff5cab6ec39b9f89",
   "outputs": [
    {
     "name": "stdout",
     "output_type": "stream",
     "text": [
      "tensor([[0.0799],\n",
      "        [0.0670]], grad_fn=<VarBackward0>)\n"
     ]
    }
   ],
   "execution_count": 36
  },
  {
   "metadata": {
    "ExecuteTime": {
     "end_time": "2025-08-16T14:01:23.726842Z",
     "start_time": "2025-08-16T14:01:23.721218Z"
    }
   },
   "cell_type": "code",
   "source": "torch.set_printoptions(sci_mode=False)",
   "id": "fc718dbf1391477e",
   "outputs": [],
   "execution_count": 37
  },
  {
   "metadata": {
    "ExecuteTime": {
     "end_time": "2025-08-16T14:01:23.748090Z",
     "start_time": "2025-08-16T14:01:23.739555Z"
    }
   },
   "cell_type": "code",
   "source": [
    "normed = (out - mean) / torch.sqrt(var)\n",
    "print(normed.mean(dim=-1, keepdim=True))\n",
    "# print(normed.var(dim=-1, keepdim=True))\n"
   ],
   "id": "642717c74ea82235",
   "outputs": [
    {
     "name": "stdout",
     "output_type": "stream",
     "text": [
      "tensor([[    0.0000],\n",
      "        [    0.0000]], grad_fn=<MeanBackward1>)\n"
     ]
    }
   ],
   "execution_count": 38
  },
  {
   "metadata": {
    "ExecuteTime": {
     "end_time": "2025-08-16T14:01:23.792151Z",
     "start_time": "2025-08-16T14:01:23.785298Z"
    }
   },
   "cell_type": "code",
   "source": [
    "class LayerNorm(nn.Module):\n",
    "    def __init__(self, emb_dim):\n",
    "        super().__init__()\n",
    "        self.eps = 1e-5\n",
    "        self.scale = nn.Parameter(torch.ones(emb_dim))\n",
    "        self.shift = nn.Parameter(torch.zeros(emb_dim))\n",
    "\n",
    "    def forward(self, x):\n",
    "        mean = x.mean(dim=-1, keepdim=True)\n",
    "        var = x.var(dim=-1, keepdim=True, unbiased=False)  # unbiased true is population stats and False is sample stats\n",
    "        norm_x = (x - mean) / torch.sqrt(var + self.eps)\n",
    "        return self.scale * norm_x + self.shift\n",
    "\n",
    "\n",
    "\n"
   ],
   "id": "669ca50209f30067",
   "outputs": [],
   "execution_count": 39
  },
  {
   "metadata": {
    "ExecuteTime": {
     "end_time": "2025-08-16T14:01:23.814978Z",
     "start_time": "2025-08-16T14:01:23.805806Z"
    }
   },
   "cell_type": "code",
   "source": "3 * 5 + 5",
   "id": "4d8dd1cbfb020a65",
   "outputs": [
    {
     "data": {
      "text/plain": [
       "20"
      ]
     },
     "execution_count": 40,
     "metadata": {},
     "output_type": "execute_result"
    }
   ],
   "execution_count": 40
  },
  {
   "metadata": {
    "ExecuteTime": {
     "end_time": "2025-08-16T14:01:23.851747Z",
     "start_time": "2025-08-16T14:01:23.840408Z"
    }
   },
   "cell_type": "code",
   "source": [
    "ln = LayerNorm(6)\n",
    "outputs_normed = ln(out)\n",
    "print(outputs_normed)"
   ],
   "id": "a822908f86bad719",
   "outputs": [
    {
     "name": "stdout",
     "output_type": "stream",
     "text": [
      "tensor([[-0.9423, -0.9423,  0.6428,  1.6100,  0.5742, -0.9423],\n",
      "        [-0.8160, -0.8160, -0.0111,  0.5306,  1.9286, -0.8160]],\n",
      "       grad_fn=<AddBackward0>)\n"
     ]
    }
   ],
   "execution_count": 41
  },
  {
   "metadata": {
    "ExecuteTime": {
     "end_time": "2025-08-16T14:01:23.866972Z",
     "start_time": "2025-08-16T14:01:23.864741Z"
    }
   },
   "cell_type": "code",
   "source": "",
   "id": "d6f287007dd2bb1f",
   "outputs": [],
   "execution_count": null
  },
  {
   "metadata": {
    "ExecuteTime": {
     "end_time": "2025-08-16T14:01:23.892028Z",
     "start_time": "2025-08-16T14:01:23.890176Z"
    }
   },
   "cell_type": "code",
   "source": "",
   "id": "e895ea3672ed3217",
   "outputs": [],
   "execution_count": null
  },
  {
   "metadata": {
    "ExecuteTime": {
     "end_time": "2025-08-16T14:01:23.911572Z",
     "start_time": "2025-08-16T14:01:23.906811Z"
    }
   },
   "cell_type": "code",
   "source": [
    "# print(outputs_normed.mean(dim=-1, keepdim=True))\n",
    "print(outputs_normed.var(dim=-1, keepdim=True))"
   ],
   "id": "944c5fd565bfb49d",
   "outputs": [
    {
     "name": "stdout",
     "output_type": "stream",
     "text": [
      "tensor([[1.1998],\n",
      "        [1.1998]], grad_fn=<VarBackward0>)\n"
     ]
    }
   ],
   "execution_count": 42
  },
  {
   "metadata": {},
   "cell_type": "markdown",
   "source": "# 4.3 Implementing a feed forward GELU activations",
   "id": "48788fac92f57b53"
  },
  {
   "metadata": {
    "ExecuteTime": {
     "end_time": "2025-08-16T14:01:23.963031Z",
     "start_time": "2025-08-16T14:01:23.931759Z"
    }
   },
   "cell_type": "code",
   "source": [
    "# implementing the approx GELU function from the original paper\n",
    "class GELU(nn.Module):\n",
    "    def __init__(self):\n",
    "        super().__init__()\n",
    "\n",
    "    def forward(self, x):\n",
    "        return 0.5 * x * (1 + torch.tanh(\n",
    "            torch.sqrt(torch.tensor(2.0 / torch.pi)) *\n",
    "            (x + 0.044715 * torch.pow(x, 3))\n",
    "        ))\n"
   ],
   "id": "7c603c012a6f3a46",
   "outputs": [],
   "execution_count": 43
  },
  {
   "metadata": {
    "ExecuteTime": {
     "end_time": "2025-08-16T14:01:24.502792Z",
     "start_time": "2025-08-16T14:01:23.995864Z"
    }
   },
   "cell_type": "code",
   "source": [
    "import matplotlib.pyplot as plt\n",
    "\n",
    "gelu, relu = GELU(), nn.ReLU()\n",
    "\n",
    "x = torch.linspace(-3, 3, 100)\n",
    "y_gelu, y_relu = gelu(x), relu(x)\n",
    "\n",
    "plt.figure(figsize=(10, 5))\n",
    "for i, (y, label) in enumerate(zip([y_gelu, y_relu], [\"GELU\", \"ReLU\"]), 1):\n",
    "    plt.subplot(1, 2, i)\n",
    "    plt.plot(x.tolist(), y.tolist())\n",
    "    plt.title(f\"{label} activation func\")\n",
    "    plt.xlabel(\"x\")\n",
    "    plt.ylabel(\"y\")\n",
    "    plt.grid(True)\n",
    "\n",
    "plt.tight_layout()\n",
    "plt.show()"
   ],
   "id": "add8e230ca7d2716",
   "outputs": [
    {
     "data": {
      "text/plain": [
       "<Figure size 1000x500 with 2 Axes>"
      ],
      "image/png": "[encoded data removed]"
     },
     "metadata": {},
     "output_type": "display_data"
    }
   ],
   "execution_count": 44
  },
  {
   "metadata": {
    "ExecuteTime": {
     "end_time": "2025-08-16T14:01:24.589106Z",
     "start_time": "2025-08-16T14:01:24.585081Z"
    }
   },
   "cell_type": "code",
   "source": "768 * 4",
   "id": "c6d0e3aafec183e",
   "outputs": [
    {
     "data": {
      "text/plain": [
       "3072"
      ]
     },
     "execution_count": 45,
     "metadata": {},
     "output_type": "execute_result"
    }
   ],
   "execution_count": 45
  },
  {
   "metadata": {
    "ExecuteTime": {
     "end_time": "2025-08-16T14:01:24.617868Z",
     "start_time": "2025-08-16T14:01:24.611764Z"
    }
   },
   "cell_type": "code",
   "source": [
    "class FeedForward(nn.Module):\n",
    "    def __init__(self, cfg):\n",
    "        super().__init__()\n",
    "        self.layers = nn.Sequential(\n",
    "            nn.Linear(cfg['emb_dim'], 4 * cfg['emb_dim']),\n",
    "            GELU(),\n",
    "            nn.Linear(4 * cfg['emb_dim'], cfg['emb_dim']),\n",
    "        )\n",
    "\n",
    "    def forward(self, x):\n",
    "        return self.layers(x)\n",
    "\n",
    "\n"
   ],
   "id": "b699c09d849c2a76",
   "outputs": [],
   "execution_count": 46
  },
  {
   "metadata": {
    "ExecuteTime": {
     "end_time": "2025-08-16T14:01:24.671006Z",
     "start_time": "2025-08-16T14:01:24.632135Z"
    }
   },
   "cell_type": "code",
   "source": "ffn = FeedForward(cfg=GPT_CONFIG_124M)",
   "id": "a92dd0fb098c2f44",
   "outputs": [],
   "execution_count": 47
  },
  {
   "metadata": {
    "ExecuteTime": {
     "end_time": "2025-08-16T14:01:24.687751Z",
     "start_time": "2025-08-16T14:01:24.680895Z"
    }
   },
   "cell_type": "code",
   "source": [
    "x = torch.rand(2, 3, 768)\n",
    "ffn(x).shape"
   ],
   "id": "9458fb7c7e558459",
   "outputs": [
    {
     "data": {
      "text/plain": [
       "torch.Size([2, 3, 768])"
      ]
     },
     "execution_count": 48,
     "metadata": {},
     "output_type": "execute_result"
    }
   ],
   "execution_count": 48
  },
  {
   "metadata": {
    "ExecuteTime": {
     "end_time": "2025-08-16T14:01:24.727248Z",
     "start_time": "2025-08-16T14:01:24.719052Z"
    }
   },
   "cell_type": "code",
   "source": [
    "print(ffn.layers[0].weight.shape)\n",
    "ffn.layers[0].weight"
   ],
   "id": "a37fe014187c610b",
   "outputs": [
    {
     "name": "stdout",
     "output_type": "stream",
     "text": [
      "torch.Size([3072, 768])\n"
     ]
    },
    {
     "data": {
      "text/plain": [
       "Parameter containing:\n",
       "tensor([[-0.0056,  0.0057,  0.0322,  ..., -0.0233, -0.0345,  0.0267],\n",
       "        [ 0.0271, -0.0092,  0.0159,  ..., -0.0334, -0.0333,  0.0007],\n",
       "        [ 0.0050,  0.0068, -0.0133,  ..., -0.0010,  0.0292,  0.0062],\n",
       "        ...,\n",
       "        [-0.0099, -0.0041,  0.0157,  ...,  0.0281,  0.0110, -0.0300],\n",
       "        [-0.0180, -0.0102, -0.0077,  ..., -0.0289, -0.0045,  0.0041],\n",
       "        [ 0.0310,  0.0098,  0.0148,  ..., -0.0227,  0.0137,  0.0336]],\n",
       "       requires_grad=True)"
      ]
     },
     "execution_count": 49,
     "metadata": {},
     "output_type": "execute_result"
    }
   ],
   "execution_count": 49
  },
  {
   "metadata": {},
   "cell_type": "markdown",
   "source": "# 4.4 Adding shortcut connections",
   "id": "9aa352b79c4c54de"
  },
  {
   "metadata": {
    "ExecuteTime": {
     "end_time": "2025-08-16T14:07:15.624407Z",
     "start_time": "2025-08-16T14:07:15.614227Z"
    }
   },
   "cell_type": "code",
   "source": [
    "class ExampleDeepNeuralNetwork(nn.Module):\n",
    "    def __init__(self, layer_size, use_shortcut):\n",
    "        super().__init__()\n",
    "        self.use_shortcut = use_shortcut\n",
    "        self.layers = nn.ModuleList([\n",
    "            nn.Sequential(nn.Linear(layer_size[0], layer_size[1]), GELU()),\n",
    "            nn.Sequential(nn.Linear(layer_size[1], layer_size[2]), GELU()),\n",
    "            nn.Sequential(nn.Linear(layer_size[2], layer_size[3]), GELU()),\n",
    "            nn.Sequential(nn.Linear(layer_size[3], layer_size[4]), GELU()),\n",
    "            nn.Sequential(nn.Linear(layer_size[4], layer_size[5]), GELU()),\n",
    "        ])\n",
    "\n",
    "    def forward(self, x):\n",
    "        for layer in self.layers:\n",
    "            # compute the output of the current layer\n",
    "            layer_output = layer(x)\n",
    "            # check if a shortcut can be applied\n",
    "            if self.use_shortcut and x.shape == layer_output.shape:\n",
    "                x = x + layer_output\n",
    "            else:\n",
    "                x = layer_output\n",
    "\n",
    "        return x\n",
    "\n",
    "\n",
    "def print_gradients(model, x):\n",
    "    # forward pass\n",
    "    ouput = model(x)\n",
    "    target = torch.tensor([[0.]])  # this is a placeholder for the target\n",
    "\n",
    "    # calculate loss based on how close the target is to the output\n",
    "    loss = torch.nn.MSELoss()(ouput, target)\n",
    "\n",
    "    # backward pass to calculate the gradient\n",
    "    loss.backward()\n",
    "\n",
    "    for name, param in model.named_parameters():\n",
    "        if 'weight' in name:\n",
    "            print(\n",
    "                f\"{name} has gradient mean of {param.grad.mean().item():.8f} and variance of {param.grad.var().item():.8f}\")"
   ],
   "id": "83ea8142b2745428",
   "outputs": [],
   "execution_count": 55
  },
  {
   "metadata": {
    "ExecuteTime": {
     "end_time": "2025-08-16T14:07:16.096127Z",
     "start_time": "2025-08-16T14:07:16.093562Z"
    }
   },
   "cell_type": "code",
   "source": "layer_sizes = [3, 3, 3, 3, 3, 1]  # last has one output unit base on the target placeholder\n",
   "id": "baeedadadbb61a9d",
   "outputs": [],
   "execution_count": 56
  },
  {
   "metadata": {
    "ExecuteTime": {
     "end_time": "2025-08-16T14:07:16.203456Z",
     "start_time": "2025-08-16T14:07:16.200763Z"
    }
   },
   "cell_type": "code",
   "source": "sample_input = torch.tensor([[1., 2., 3.]])\n",
   "id": "6d37dd06ba493946",
   "outputs": [],
   "execution_count": 57
  },
  {
   "metadata": {
    "ExecuteTime": {
     "end_time": "2025-08-16T14:07:16.392939Z",
     "start_time": "2025-08-16T14:07:16.381401Z"
    }
   },
   "cell_type": "code",
   "source": [
    "torch.manual_seed(123)\n",
    "model_without_shortcut = ExampleDeepNeuralNetwork(\n",
    "    layer_size=layer_sizes, use_shortcut=False\n",
    ")\n",
    "print_gradients(model_without_shortcut, sample_input)"
   ],
   "id": "110d2ece37ac98bc",
   "outputs": [
    {
     "name": "stdout",
     "output_type": "stream",
     "text": [
      "layers.0.0.weight has gradient mean of 0.00033439 and variance of 0.00000027\n",
      "layers.1.0.weight has gradient mean of 0.00000608 and variance of 0.00000002\n",
      "layers.2.0.weight has gradient mean of -0.00061409 and variance of 0.00000109\n",
      "layers.3.0.weight has gradient mean of 0.00119859 and variance of 0.00000083\n",
      "layers.4.0.weight has gradient mean of 0.00056759 and variance of 0.00004014\n"
     ]
    }
   ],
   "execution_count": 58
  },
  {
   "metadata": {
    "ExecuteTime": {
     "end_time": "2025-08-16T14:09:20.366617Z",
     "start_time": "2025-08-16T14:09:20.354817Z"
    }
   },
   "cell_type": "code",
   "source": [
    "torch.manual_seed(123)\n",
    "model_with_shortcut = ExampleDeepNeuralNetwork(\n",
    "    layer_size=layer_sizes, use_shortcut=True\n",
    ")\n",
    "print_gradients(model_with_shortcut, sample_input)"
   ],
   "id": "e69e1af87e289811",
   "outputs": [
    {
     "name": "stdout",
     "output_type": "stream",
     "text": [
      "layers.0.0.weight has gradient mean of 1.05921996 and variance of 4.70400095\n",
      "layers.1.0.weight has gradient mean of 2.14351177 and variance of 7.01437044\n",
      "layers.2.0.weight has gradient mean of 0.96821487 and variance of 4.61460352\n",
      "layers.3.0.weight has gradient mean of 1.26281226 and variance of 8.86768818\n",
      "layers.4.0.weight has gradient mean of 20.08812714 and variance of 479.06140137\n"
     ]
    }
   ],
   "execution_count": 59
  },
  {
   "metadata": {},
   "cell_type": "markdown",
   "source": "# 4.5 Connecting the attention and linear layers in a transformer block",
   "id": "f9dd4739dc901787"
  },
  {
   "metadata": {
    "ExecuteTime": {
     "end_time": "2025-08-16T14:29:20.536711Z",
     "start_time": "2025-08-16T14:29:20.509517Z"
    }
   },
   "cell_type": "code",
   "source": "GPT_CONFIG_124M",
   "id": "2d29ae2d38796c00",
   "outputs": [
    {
     "data": {
      "text/plain": [
       "{'vocab_size': 50257,\n",
       " 'context_length': 1024,\n",
       " 'emb_dim': 768,\n",
       " 'n_layers': 12,\n",
       " 'n_heads': 12,\n",
       " 'drop_rate': 0.1,\n",
       " 'qkv_bias': False}"
      ]
     },
     "execution_count": 60,
     "metadata": {},
     "output_type": "execute_result"
    }
   ],
   "execution_count": 60
  },
  {
   "metadata": {
    "ExecuteTime": {
     "end_time": "2025-08-16T14:35:34.976632Z",
     "start_time": "2025-08-16T14:35:34.935312Z"
    }
   },
   "cell_type": "code",
   "source": [
    "from gpt_helpers import MultiHeadAttention\n",
    "\n",
    "class TransformerBlock(nn.Module):\n",
    "    def __init__(self, cfg):\n",
    "        super().__init__()\n",
    "        self.attention = MultiHeadAttention(\n",
    "            d_in=cfg['emb_dim'],\n",
    "            d_out=cfg['emb_dim'],\n",
    "            context_length=cfg['context_length'],\n",
    "            num_heads=cfg['n_heads'],\n",
    "            dropout=cfg['drop_rate'],\n",
    "            qkv_bias=cfg['qkv_bias'],\n",
    "        )\n",
    "        self.ff = FeedForward(cfg)\n",
    "        self.norm1 = LayerNorm(cfg['emb_dim'])\n",
    "        self.norm2 = LayerNorm(cfg['emb_dim'])\n",
    "        self.drop_shortcut = nn.Dropout(cfg['drop_rate'])\n",
    "\n",
    "    def forward(self, x):\n",
    "        shortcut = x\n",
    "        x = self.norm1(x)\n",
    "        x = self.attention(x) # Shape (batch_size, num_tokens, emb_dim)\n",
    "        x = self.drop_shortcut(x)\n",
    "        x = x + shortcut\n",
    "\n",
    "        # shortcut connection for feed forward block\n",
    "        shortcut = x\n",
    "        x = self.norm2(x)\n",
    "        x = self.ff(x)\n",
    "        x = self.drop_shortcut(x)\n",
    "        x = x + shortcut\n",
    "\n",
    "        return x"
   ],
   "id": "c6f4f00511b8a83",
   "outputs": [],
   "execution_count": 61
  },
  {
   "metadata": {
    "ExecuteTime": {
     "end_time": "2025-08-16T14:37:15.375870Z",
     "start_time": "2025-08-16T14:37:15.267022Z"
    }
   },
   "cell_type": "code",
   "source": [
    "torch.manual_seed(123)\n",
    "\n",
    "x = torch.rand(2, 4, 768)\n",
    "\n",
    "block = TransformerBlock(cfg=GPT_CONFIG_124M)\n",
    "output = block(x)"
   ],
   "id": "58e2e4c993428297",
   "outputs": [],
   "execution_count": 62
  },
  {
   "metadata": {
    "ExecuteTime": {
     "end_time": "2025-08-16T14:37:40.471552Z",
     "start_time": "2025-08-16T14:37:40.467369Z"
    }
   },
   "cell_type": "code",
   "source": "x.shape",
   "id": "933ada165c066c5e",
   "outputs": [
    {
     "data": {
      "text/plain": [
       "torch.Size([2, 4, 768])"
      ]
     },
     "execution_count": 64,
     "metadata": {},
     "output_type": "execute_result"
    }
   ],
   "execution_count": 64
  },
  {
   "metadata": {
    "ExecuteTime": {
     "end_time": "2025-08-16T14:37:56.865152Z",
     "start_time": "2025-08-16T14:37:56.861306Z"
    }
   },
   "cell_type": "code",
   "source": "output.shape",
   "id": "cde0fc029c783a5e",
   "outputs": [
    {
     "data": {
      "text/plain": [
       "torch.Size([2, 4, 768])"
      ]
     },
     "execution_count": 65,
     "metadata": {},
     "output_type": "execute_result"
    }
   ],
   "execution_count": 65
  },
  {
   "metadata": {},
   "cell_type": "markdown",
   "source": "# Coding the GPT model",
   "id": "c0566ad2942a07bb"
  },
  {
   "metadata": {
    "ExecuteTime": {
     "end_time": "2025-08-17T15:01:53.761538Z",
     "start_time": "2025-08-17T15:01:53.715144Z"
    }
   },
   "cell_type": "code",
   "source": "",
   "id": "6819f2868c19796b",
   "outputs": [],
   "execution_count": null
  },
  {
   "metadata": {
    "ExecuteTime": {
     "end_time": "2025-08-17T15:03:22.333070Z",
     "start_time": "2025-08-17T15:03:22.319556Z"
    }
   },
   "cell_type": "code",
   "source": [
    "import tiktoken\n",
    "\n",
    "tokenizer = tiktoken.get_encoding(\"gpt2\")\n",
    "\n",
    "batch = []\n",
    "txt1 = 'Every effort moves your'\n",
    "txt2 = 'Every day holds a'\n",
    "\n",
    "batch.append(torch.tensor(tokenizer.encode(txt1)))\n",
    "batch.append(torch.tensor(tokenizer.encode(txt2)))\n",
    "batch = torch.stack(batch, dim=0)\n",
    "print(batch)"
   ],
   "id": "992289780b66d59f",
   "outputs": [
    {
     "name": "stdout",
     "output_type": "stream",
     "text": [
      "tensor([[6109, 3626, 6100,  534],\n",
      "        [6109, 1110, 6622,  257]])\n"
     ]
    }
   ],
   "execution_count": 67
  },
  {
   "metadata": {
    "ExecuteTime": {
     "end_time": "2025-08-17T15:03:55.423157Z",
     "start_time": "2025-08-17T15:03:53.672784Z"
    }
   },
   "cell_type": "code",
   "source": [
    "torch.manual_seed(123)\n",
    "\n",
    "model = GPTModel(cfg=GPT_CONFIG_124M)\n",
    "out = model(batch)"
   ],
   "id": "c804aa67252ab029",
   "outputs": [],
   "execution_count": null
  },
  {
   "metadata": {
    "ExecuteTime": {
     "end_time": "2025-08-17T15:04:02.606255Z",
     "start_time": "2025-08-17T15:04:02.598687Z"
    }
   },
   "cell_type": "code",
   "source": "",
   "id": "edc7479d456974e4",
   "outputs": [
    {
     "data": {
      "text/plain": [
       "torch.Size([2, 4])"
      ]
     },
     "execution_count": 69,
     "metadata": {},
     "output_type": "execute_result"
    }
   ],
   "execution_count": null
  },
  {
   "metadata": {
    "ExecuteTime": {
     "end_time": "2025-08-17T15:04:19.456583Z",
     "start_time": "2025-08-17T15:04:19.452624Z"
    }
   },
   "cell_type": "code",
   "source": "",
   "id": "97daff69f32e3104",
   "outputs": [
    {
     "data": {
      "text/plain": [
       "torch.Size([2, 4, 50257])"
      ]
     },
     "execution_count": 70,
     "metadata": {},
     "output_type": "execute_result"
    }
   ],
   "execution_count": null
  },
  {
   "metadata": {
    "ExecuteTime": {
     "end_time": "2025-08-17T15:05:17.997156Z",
     "start_time": "2025-08-17T15:05:17.992772Z"
    }
   },
   "cell_type": "code",
   "source": "batch.numel()",
   "id": "97831ff3ee95fbda",
   "outputs": [
    {
     "data": {
      "text/plain": [
       "8"
      ]
     },
     "execution_count": 71,
     "metadata": {},
     "output_type": "execute_result"
    }
   ],
   "execution_count": 71
  },
  {
   "metadata": {
    "ExecuteTime": {
     "end_time": "2025-08-17T17:03:43.985121Z",
     "start_time": "2025-08-17T17:03:43.961933Z"
    }
   },
   "cell_type": "code",
   "source": [
    "total_params = sum(p.numel() for p in model.parameters())\n",
    "print(f\"Total number of parameters: {total_params:,}\")"
   ],
   "id": "90527777653dfcb8",
   "outputs": [
    {
     "name": "stdout",
     "output_type": "stream",
     "text": [
      "Total number of parameters: 163,009,536\n"
     ]
    }
   ],
   "execution_count": 74
  },
  {
   "metadata": {
    "ExecuteTime": {
     "end_time": "2025-08-17T17:06:20.422922Z",
     "start_time": "2025-08-17T17:06:20.417687Z"
    }
   },
   "cell_type": "code",
   "source": [
    "# The original GPT2 model has some weights sharing,\n",
    "# todo: this does not share weights between the token embedding and the output head. using shared weights will reduce the number of parameters.\n",
    "# note shared weights are not sometimes helpful. it is a arbitary descicion choice\n",
    "print(model.tok_emb.weight.shape)\n",
    "print(model.out_head.weight.shape)"
   ],
   "id": "c6b82dd937ed769c",
   "outputs": [
    {
     "name": "stdout",
     "output_type": "stream",
     "text": [
      "torch.Size([50257, 768])\n",
      "torch.Size([50257, 768])\n"
     ]
    }
   ],
   "execution_count": 76
  },
  {
   "metadata": {
    "ExecuteTime": {
     "end_time": "2025-08-17T17:12:50.489840Z",
     "start_time": "2025-08-17T17:12:50.484107Z"
    }
   },
   "cell_type": "code",
   "source": [
    "# if shared weights architecture is use we would see something like\n",
    "\n",
    "total_params = sum(p.numel() for p in model.parameters() )\n",
    "print(f\"Total number of parameters: {total_params - model.tok_emb.weight.numel():,}\")"
   ],
   "id": "547eb144288aa88d",
   "outputs": [
    {
     "name": "stdout",
     "output_type": "stream",
     "text": [
      "Total number of parameters: 124,412,160\n"
     ]
    }
   ],
   "execution_count": 78
  },
  {
   "metadata": {},
   "cell_type": "markdown",
   "source": "# Generating text",
   "id": "fc7f0cab491dd12"
  }
 ],
 "metadata": {
  "kernelspec": {
   "display_name": "Python 3",
   "language": "python",
   "name": "python3"
  },
  "language_info": {
   "codemirror_mode": {
    "name": "ipython",
    "version": 2
   },
   "file_extension": ".py",
   "mimetype": "text/x-python",
   "name": "python",
   "nbconvert_exporter": "python",
   "pygments_lexer": "ipython2",
   "version": "2.7.6"
  }
 },
 "nbformat": 4,
 "nbformat_minor": 5
}
